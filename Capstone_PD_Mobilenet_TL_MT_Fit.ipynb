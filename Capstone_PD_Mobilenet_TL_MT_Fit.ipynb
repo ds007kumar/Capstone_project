{
 "cells": [
  {
   "cell_type": "markdown",
   "metadata": {
    "colab_type": "text",
    "id": "E8e8GGORPGdT"
   },
   "source": [
    "# MobilenetV2 Transfer Learning using Imagenet\n",
    " Hyperparameter : alpa 1.4 and training bottom 3 layers"
   ]
  },
  {
   "cell_type": "code",
   "execution_count": 1,
   "metadata": {},
   "outputs": [],
   "source": [
    "import boto3, re\n",
    "from sagemaker import get_execution_role\n",
    "role = get_execution_role()"
   ]
  },
  {
   "cell_type": "code",
   "execution_count": 2,
   "metadata": {
    "scrolled": true
   },
   "outputs": [
    {
     "name": "stdout",
     "output_type": "stream",
     "text": [
      "WARNING:tensorflow:From /home/ec2-user/anaconda3/envs/tensorflow_p36/lib/python3.6/site-packages/tensorflow_core/__init__.py:1467: The name tf.estimator.inputs is deprecated. Please use tf.compat.v1.estimator.inputs instead.\n",
      "\n",
      "1.15.2\n"
     ]
    }
   ],
   "source": [
    "import tensorflow\n",
    "print(tensorflow.__version__)"
   ]
  },
  {
   "cell_type": "code",
   "execution_count": 3,
   "metadata": {
    "colab": {
     "base_uri": "https://localhost:8080/",
     "height": 34
    },
    "colab_type": "code",
    "id": "c39DyzcvXVzB",
    "outputId": "e6785853-4714-4029-8a9c-f9da2f57e7bf"
   },
   "outputs": [
    {
     "name": "stdout",
     "output_type": "stream",
     "text": [
      "Collecting pydicom\n",
      "\u001b[?25l  Downloading https://files.pythonhosted.org/packages/53/e6/4cae2b4b2fdbea5e2ddd188361139606d8f10f710ba1abecd6600da099c3/pydicom-1.4.2-py2.py3-none-any.whl (35.3MB)\n",
      "\u001b[K     |████████████████████████████████| 35.3MB 23.3MB/s eta 0:00:01\n",
      "\u001b[?25hInstalling collected packages: pydicom\n",
      "Successfully installed pydicom-1.4.2\n",
      "\u001b[33mWARNING: You are using pip version 19.3.1; however, version 20.1.1 is available.\n",
      "You should consider upgrading via the 'pip install --upgrade pip' command.\u001b[0m\n"
     ]
    }
   ],
   "source": [
    "!pip install pydicom"
   ]
  },
  {
   "cell_type": "code",
   "execution_count": 4,
   "metadata": {},
   "outputs": [
    {
     "name": "stdout",
     "output_type": "stream",
     "text": [
      "Collecting mlxtend\n",
      "\u001b[?25l  Downloading https://files.pythonhosted.org/packages/64/e2/1610a86284029abcad0ac9bc86cb19f9787fe6448ede467188b2a5121bb4/mlxtend-0.17.2-py2.py3-none-any.whl (1.3MB)\n",
      "\u001b[K     |████████████████████████████████| 1.3MB 25.4MB/s eta 0:00:01\n",
      "\u001b[?25hRequirement already satisfied: joblib>=0.13.2 in /home/ec2-user/anaconda3/envs/tensorflow_p36/lib/python3.6/site-packages (from mlxtend) (0.14.1)\n",
      "Requirement already satisfied: setuptools in /home/ec2-user/anaconda3/envs/tensorflow_p36/lib/python3.6/site-packages (from mlxtend) (45.2.0)\n",
      "Requirement already satisfied: pandas>=0.24.2 in /home/ec2-user/anaconda3/envs/tensorflow_p36/lib/python3.6/site-packages (from mlxtend) (0.24.2)\n",
      "Requirement already satisfied: numpy>=1.16.2 in /home/ec2-user/anaconda3/envs/tensorflow_p36/lib/python3.6/site-packages (from mlxtend) (1.16.4)\n",
      "Requirement already satisfied: matplotlib>=3.0.0 in /home/ec2-user/anaconda3/envs/tensorflow_p36/lib/python3.6/site-packages (from mlxtend) (3.0.3)\n",
      "Requirement already satisfied: scipy>=1.2.1 in /home/ec2-user/anaconda3/envs/tensorflow_p36/lib/python3.6/site-packages (from mlxtend) (1.4.1)\n",
      "Requirement already satisfied: scikit-learn>=0.20.3 in /home/ec2-user/anaconda3/envs/tensorflow_p36/lib/python3.6/site-packages (from mlxtend) (0.22.1)\n",
      "Requirement already satisfied: python-dateutil>=2.5.0 in /home/ec2-user/anaconda3/envs/tensorflow_p36/lib/python3.6/site-packages (from pandas>=0.24.2->mlxtend) (2.7.3)\n",
      "Requirement already satisfied: pytz>=2011k in /home/ec2-user/anaconda3/envs/tensorflow_p36/lib/python3.6/site-packages (from pandas>=0.24.2->mlxtend) (2018.4)\n",
      "Requirement already satisfied: cycler>=0.10 in /home/ec2-user/anaconda3/envs/tensorflow_p36/lib/python3.6/site-packages (from matplotlib>=3.0.0->mlxtend) (0.10.0)\n",
      "Requirement already satisfied: kiwisolver>=1.0.1 in /home/ec2-user/anaconda3/envs/tensorflow_p36/lib/python3.6/site-packages (from matplotlib>=3.0.0->mlxtend) (1.0.1)\n",
      "Requirement already satisfied: pyparsing!=2.0.4,!=2.1.2,!=2.1.6,>=2.0.1 in /home/ec2-user/anaconda3/envs/tensorflow_p36/lib/python3.6/site-packages (from matplotlib>=3.0.0->mlxtend) (2.2.0)\n",
      "Requirement already satisfied: six>=1.5 in /home/ec2-user/anaconda3/envs/tensorflow_p36/lib/python3.6/site-packages (from python-dateutil>=2.5.0->pandas>=0.24.2->mlxtend) (1.11.0)\n",
      "Installing collected packages: mlxtend\n",
      "Successfully installed mlxtend-0.17.2\n",
      "\u001b[33mWARNING: You are using pip version 19.3.1; however, version 20.1.1 is available.\n",
      "You should consider upgrading via the 'pip install --upgrade pip' command.\u001b[0m\n"
     ]
    }
   ],
   "source": [
    "!pip install mlxtend  "
   ]
  },
  {
   "cell_type": "markdown",
   "metadata": {},
   "source": [
    "# Import Dependencies"
   ]
  },
  {
   "cell_type": "code",
   "execution_count": 5,
   "metadata": {
    "colab": {},
    "colab_type": "code",
    "id": "zCD9tuX4X_g6"
   },
   "outputs": [],
   "source": [
    "import tensorflow as tf\n",
    "from tensorflow import keras\n",
    "from tensorflow.keras.models import Sequential\n",
    "from tensorflow.keras.layers import Dense, Conv2D, MaxPooling2D, Flatten\n",
    "import numpy as np\n",
    "import matplotlib.pyplot as plt\n",
    "import pandas as pd\n",
    "import os\n",
    "from tensorflow.keras.utils import Sequence\n",
    "import math\n",
    "import pydicom\n",
    "from tensorflow.keras.applications.mobilenet import MobileNet, preprocess_input\n",
    "from tensorflow.keras.callbacks import ModelCheckpoint, EarlyStopping, ReduceLROnPlateau, Callback\n",
    "import seaborn as sns\n",
    "from pydicom import dcmread\n",
    "from pydicom.filebase import DicomBytesIO\n",
    "import cv2\n",
    "from mlxtend.plotting import plot_confusion_matrix\n",
    "from sklearn.metrics import confusion_matrix\n",
    "import time"
   ]
  },
  {
   "cell_type": "code",
   "execution_count": 6,
   "metadata": {},
   "outputs": [],
   "source": [
    "class TimeHistory(keras.callbacks.Callback):\n",
    "    def on_train_begin(self, logs={}):\n",
    "        self.times = []\n",
    "\n",
    "    def on_epoch_begin(self, epoch, logs={}):\n",
    "        self.epoch_time_start = time.time()\n",
    "\n",
    "    def on_epoch_end(self, epoch, logs={}):\n",
    "        self.times.append(time.time() - self.epoch_time_start)"
   ]
  },
  {
   "cell_type": "markdown",
   "metadata": {
    "colab_type": "text",
    "id": "b8n21VASYLy0"
   },
   "source": [
    "# **Load Labels**"
   ]
  },
  {
   "cell_type": "code",
   "execution_count": 7,
   "metadata": {
    "colab": {},
    "colab_type": "code",
    "id": "rvZU8hOdYOJU"
   },
   "outputs": [],
   "source": [
    "root_path = 'sagemaker-capstone-pd'\n",
    "train_dicom_dir = 'pneumonia-dataset/stage_2_train_images/'\n",
    "train_lables_filename = 'pneumonia-dataset/stage_2_train_labels.csv'\n"
   ]
  },
  {
   "cell_type": "code",
   "execution_count": 8,
   "metadata": {},
   "outputs": [],
   "source": [
    "def load_csv_file(path, filename):\n",
    "  bucket = path\n",
    "  data_key = filename\n",
    "  data_location = 's3://{}/{}'.format(bucket, data_key) \n",
    "  train_labels_df = pd.read_csv(data_location)\n",
    "  return train_labels_df"
   ]
  },
  {
   "cell_type": "code",
   "execution_count": 9,
   "metadata": {},
   "outputs": [],
   "source": [
    "training_data = load_csv_file(root_path,train_lables_filename )"
   ]
  },
  {
   "cell_type": "code",
   "execution_count": 10,
   "metadata": {
    "colab": {
     "base_uri": "https://localhost:8080/",
     "height": 34
    },
    "colab_type": "code",
    "id": "Nv0eP9wsYoaU",
    "outputId": "07cf96a9-240c-4491-8044-443f425beb56"
   },
   "outputs": [
    {
     "name": "stdout",
     "output_type": "stream",
     "text": [
      "(30227, 6)\n"
     ]
    }
   ],
   "source": [
    "print(training_data.shape)"
   ]
  },
  {
   "cell_type": "code",
   "execution_count": 11,
   "metadata": {
    "colab": {
     "base_uri": "https://localhost:8080/",
     "height": 195
    },
    "colab_type": "code",
    "id": "RUjk35iDYthL",
    "outputId": "da0fac61-4689-4502-96d2-ddc9a8de16eb"
   },
   "outputs": [
    {
     "data": {
      "text/html": [
       "<div>\n",
       "<style scoped>\n",
       "    .dataframe tbody tr th:only-of-type {\n",
       "        vertical-align: middle;\n",
       "    }\n",
       "\n",
       "    .dataframe tbody tr th {\n",
       "        vertical-align: top;\n",
       "    }\n",
       "\n",
       "    .dataframe thead th {\n",
       "        text-align: right;\n",
       "    }\n",
       "</style>\n",
       "<table border=\"1\" class=\"dataframe\">\n",
       "  <thead>\n",
       "    <tr style=\"text-align: right;\">\n",
       "      <th></th>\n",
       "      <th>patientId</th>\n",
       "      <th>x</th>\n",
       "      <th>y</th>\n",
       "      <th>width</th>\n",
       "      <th>height</th>\n",
       "      <th>Target</th>\n",
       "    </tr>\n",
       "  </thead>\n",
       "  <tbody>\n",
       "    <tr>\n",
       "      <th>0</th>\n",
       "      <td>0004cfab-14fd-4e49-80ba-63a80b6bddd6</td>\n",
       "      <td>NaN</td>\n",
       "      <td>NaN</td>\n",
       "      <td>NaN</td>\n",
       "      <td>NaN</td>\n",
       "      <td>0</td>\n",
       "    </tr>\n",
       "    <tr>\n",
       "      <th>1</th>\n",
       "      <td>00313ee0-9eaa-42f4-b0ab-c148ed3241cd</td>\n",
       "      <td>NaN</td>\n",
       "      <td>NaN</td>\n",
       "      <td>NaN</td>\n",
       "      <td>NaN</td>\n",
       "      <td>0</td>\n",
       "    </tr>\n",
       "    <tr>\n",
       "      <th>2</th>\n",
       "      <td>00322d4d-1c29-4943-afc9-b6754be640eb</td>\n",
       "      <td>NaN</td>\n",
       "      <td>NaN</td>\n",
       "      <td>NaN</td>\n",
       "      <td>NaN</td>\n",
       "      <td>0</td>\n",
       "    </tr>\n",
       "    <tr>\n",
       "      <th>3</th>\n",
       "      <td>003d8fa0-6bf1-40ed-b54c-ac657f8495c5</td>\n",
       "      <td>NaN</td>\n",
       "      <td>NaN</td>\n",
       "      <td>NaN</td>\n",
       "      <td>NaN</td>\n",
       "      <td>0</td>\n",
       "    </tr>\n",
       "    <tr>\n",
       "      <th>4</th>\n",
       "      <td>00436515-870c-4b36-a041-de91049b9ab4</td>\n",
       "      <td>264.0</td>\n",
       "      <td>152.0</td>\n",
       "      <td>213.0</td>\n",
       "      <td>379.0</td>\n",
       "      <td>1</td>\n",
       "    </tr>\n",
       "  </tbody>\n",
       "</table>\n",
       "</div>"
      ],
      "text/plain": [
       "                              patientId      x      y  width  height  Target\n",
       "0  0004cfab-14fd-4e49-80ba-63a80b6bddd6    NaN    NaN    NaN     NaN       0\n",
       "1  00313ee0-9eaa-42f4-b0ab-c148ed3241cd    NaN    NaN    NaN     NaN       0\n",
       "2  00322d4d-1c29-4943-afc9-b6754be640eb    NaN    NaN    NaN     NaN       0\n",
       "3  003d8fa0-6bf1-40ed-b54c-ac657f8495c5    NaN    NaN    NaN     NaN       0\n",
       "4  00436515-870c-4b36-a041-de91049b9ab4  264.0  152.0  213.0   379.0       1"
      ]
     },
     "execution_count": 11,
     "metadata": {},
     "output_type": "execute_result"
    }
   ],
   "source": [
    "training_data.head()"
   ]
  },
  {
   "cell_type": "code",
   "execution_count": 12,
   "metadata": {
    "colab": {},
    "colab_type": "code",
    "id": "-iq4PX7wZBi0"
   },
   "outputs": [],
   "source": [
    "training_imgs = [\"{}.dcm\".format(x) for x in list(training_data.patientId)]"
   ]
  },
  {
   "cell_type": "code",
   "execution_count": 13,
   "metadata": {
    "colab": {
     "base_uri": "https://localhost:8080/",
     "height": 54
    },
    "colab_type": "code",
    "id": "oKDyUPRgZRPk",
    "outputId": "f9237615-8afb-4674-c473-aa9b65d31fe2"
   },
   "outputs": [
    {
     "name": "stdout",
     "output_type": "stream",
     "text": [
      "['0004cfab-14fd-4e49-80ba-63a80b6bddd6.dcm', '00313ee0-9eaa-42f4-b0ab-c148ed3241cd.dcm', '00322d4d-1c29-4943-afc9-b6754be640eb.dcm', '003d8fa0-6bf1-40ed-b54c-ac657f8495c5.dcm', '00436515-870c-4b36-a041-de91049b9ab4.dcm']\n"
     ]
    }
   ],
   "source": [
    "print(training_imgs[:5])"
   ]
  },
  {
   "cell_type": "code",
   "execution_count": 14,
   "metadata": {
    "colab": {},
    "colab_type": "code",
    "id": "1zqeZAh5aEbC"
   },
   "outputs": [],
   "source": [
    "training_labels_1 = list(training_data['Target'])"
   ]
  },
  {
   "cell_type": "code",
   "execution_count": 15,
   "metadata": {
    "colab": {
     "base_uri": "https://localhost:8080/",
     "height": 34
    },
    "colab_type": "code",
    "id": "vOxhsIOgaJHz",
    "outputId": "52a4cb26-b8b2-485a-eef9-d7ced2b95454"
   },
   "outputs": [
    {
     "name": "stdout",
     "output_type": "stream",
     "text": [
      "[0, 0, 0, 0, 1]\n"
     ]
    }
   ],
   "source": [
    "print(training_labels_1[:5])"
   ]
  },
  {
   "cell_type": "code",
   "execution_count": 16,
   "metadata": {
    "colab": {},
    "colab_type": "code",
    "id": "UnCqWnoNanLY"
   },
   "outputs": [],
   "source": [
    "training_data_1 = pd.DataFrame( {'Images': training_imgs,'Target': training_labels_1})\n"
   ]
  },
  {
   "cell_type": "code",
   "execution_count": 17,
   "metadata": {
    "colab": {
     "base_uri": "https://localhost:8080/",
     "height": 168
    },
    "colab_type": "code",
    "id": "mM_dWvwcatEu",
    "outputId": "0370d03e-0ea6-45dd-ac86-6228896d9c31"
   },
   "outputs": [
    {
     "name": "stdout",
     "output_type": "stream",
     "text": [
      "<class 'pandas.core.frame.DataFrame'>\n",
      "RangeIndex: 30227 entries, 0 to 30226\n",
      "Data columns (total 2 columns):\n",
      "Images    30227 non-null object\n",
      "Target    30227 non-null int64\n",
      "dtypes: int64(1), object(1)\n",
      "memory usage: 472.4+ KB\n"
     ]
    }
   ],
   "source": [
    "training_data_1.info()"
   ]
  },
  {
   "cell_type": "code",
   "execution_count": 18,
   "metadata": {
    "colab": {
     "base_uri": "https://localhost:8080/",
     "height": 195
    },
    "colab_type": "code",
    "id": "aDlpxIY_a2T3",
    "outputId": "9485011f-5d1c-4efb-a81e-98264893db49"
   },
   "outputs": [
    {
     "data": {
      "text/html": [
       "<div>\n",
       "<style scoped>\n",
       "    .dataframe tbody tr th:only-of-type {\n",
       "        vertical-align: middle;\n",
       "    }\n",
       "\n",
       "    .dataframe tbody tr th {\n",
       "        vertical-align: top;\n",
       "    }\n",
       "\n",
       "    .dataframe thead th {\n",
       "        text-align: right;\n",
       "    }\n",
       "</style>\n",
       "<table border=\"1\" class=\"dataframe\">\n",
       "  <thead>\n",
       "    <tr style=\"text-align: right;\">\n",
       "      <th></th>\n",
       "      <th>Images</th>\n",
       "      <th>Target</th>\n",
       "    </tr>\n",
       "  </thead>\n",
       "  <tbody>\n",
       "    <tr>\n",
       "      <th>0</th>\n",
       "      <td>0004cfab-14fd-4e49-80ba-63a80b6bddd6.dcm</td>\n",
       "      <td>0</td>\n",
       "    </tr>\n",
       "    <tr>\n",
       "      <th>1</th>\n",
       "      <td>00313ee0-9eaa-42f4-b0ab-c148ed3241cd.dcm</td>\n",
       "      <td>0</td>\n",
       "    </tr>\n",
       "    <tr>\n",
       "      <th>2</th>\n",
       "      <td>00322d4d-1c29-4943-afc9-b6754be640eb.dcm</td>\n",
       "      <td>0</td>\n",
       "    </tr>\n",
       "    <tr>\n",
       "      <th>3</th>\n",
       "      <td>003d8fa0-6bf1-40ed-b54c-ac657f8495c5.dcm</td>\n",
       "      <td>0</td>\n",
       "    </tr>\n",
       "    <tr>\n",
       "      <th>4</th>\n",
       "      <td>00436515-870c-4b36-a041-de91049b9ab4.dcm</td>\n",
       "      <td>1</td>\n",
       "    </tr>\n",
       "  </tbody>\n",
       "</table>\n",
       "</div>"
      ],
      "text/plain": [
       "                                     Images  Target\n",
       "0  0004cfab-14fd-4e49-80ba-63a80b6bddd6.dcm       0\n",
       "1  00313ee0-9eaa-42f4-b0ab-c148ed3241cd.dcm       0\n",
       "2  00322d4d-1c29-4943-afc9-b6754be640eb.dcm       0\n",
       "3  003d8fa0-6bf1-40ed-b54c-ac657f8495c5.dcm       0\n",
       "4  00436515-870c-4b36-a041-de91049b9ab4.dcm       1"
      ]
     },
     "execution_count": 18,
     "metadata": {},
     "output_type": "execute_result"
    }
   ],
   "source": [
    "training_data_1.head()"
   ]
  },
  {
   "cell_type": "code",
   "execution_count": 19,
   "metadata": {
    "colab": {
     "base_uri": "https://localhost:8080/",
     "height": 168
    },
    "colab_type": "code",
    "id": "5wUGuBJ1baJo",
    "outputId": "60290a12-ccec-4065-ce75-51225b378194"
   },
   "outputs": [
    {
     "name": "stdout",
     "output_type": "stream",
     "text": [
      "<class 'pandas.core.frame.DataFrame'>\n",
      "Int64Index: 30227 entries, 0 to 28988\n",
      "Data columns (total 2 columns):\n",
      "Images    30227 non-null object\n",
      "Target    30227 non-null int64\n",
      "dtypes: int64(1), object(1)\n",
      "memory usage: 708.4+ KB\n"
     ]
    }
   ],
   "source": [
    "from sklearn.model_selection import train_test_split\n",
    "\n",
    "# Sort the rows of dataframe by column 'Images'\n",
    "training_data_1 = training_data_1.sort_values(by ='Images', ascending=True )\n",
    "#temp_df = training_data_1.iloc[:100] use only for testing\n",
    "temp_df = training_data_1\n",
    "temp_df.info()"
   ]
  },
  {
   "cell_type": "markdown",
   "metadata": {},
   "source": [
    "# Train & Validation split"
   ]
  },
  {
   "cell_type": "code",
   "execution_count": 20,
   "metadata": {
    "colab": {},
    "colab_type": "code",
    "id": "nCslD869-7Ip"
   },
   "outputs": [],
   "source": [
    "training_set = pd.DataFrame()\n",
    "validation_set = pd.DataFrame()\n",
    "\n",
    "training_set, validation_set = train_test_split(temp_df, random_state = 0, test_size = 0.2)"
   ]
  },
  {
   "cell_type": "code",
   "execution_count": 21,
   "metadata": {
    "colab": {
     "base_uri": "https://localhost:8080/",
     "height": 386
    },
    "colab_type": "code",
    "id": "zGFWExIVbiOK",
    "outputId": "ddd68ac6-70f4-49b5-b5af-6c3bca5374e5"
   },
   "outputs": [
    {
     "name": "stdout",
     "output_type": "stream",
     "text": [
      "<class 'pandas.core.frame.DataFrame'>\n",
      "RangeIndex: 24181 entries, 0 to 24180\n",
      "Data columns (total 3 columns):\n",
      "index     24181 non-null int64\n",
      "Images    24181 non-null object\n",
      "Target    24181 non-null int64\n",
      "dtypes: int64(2), object(1)\n",
      "memory usage: 566.8+ KB\n",
      "None\n",
      "<class 'pandas.core.frame.DataFrame'>\n",
      "RangeIndex: 6046 entries, 0 to 6045\n",
      "Data columns (total 3 columns):\n",
      "index     6046 non-null int64\n",
      "Images    6046 non-null object\n",
      "Target    6046 non-null int64\n",
      "dtypes: int64(2), object(1)\n",
      "memory usage: 141.8+ KB\n",
      "None\n"
     ]
    }
   ],
   "source": [
    "training_set.reset_index(inplace = True)\n",
    "validation_set.reset_index(inplace = True)\n",
    "\n",
    "print(training_set.info())\n",
    "print(validation_set.info())"
   ]
  },
  {
   "cell_type": "code",
   "execution_count": 22,
   "metadata": {
    "colab": {
     "base_uri": "https://localhost:8080/",
     "height": 279
    },
    "colab_type": "code",
    "id": "VEWyLWy0-MT9",
    "outputId": "54c47bcd-f702-4be2-9318-4aea6b05903e"
   },
   "outputs": [
    {
     "data": {
      "image/png": "[encoded data removed]",
      "text/plain": [
       "<Figure size 432x288 with 1 Axes>"
      ]
     },
     "metadata": {},
     "output_type": "display_data"
    }
   ],
   "source": [
    "ax = sns.countplot(x=\"Target\", data=training_set)"
   ]
  },
  {
   "cell_type": "code",
   "execution_count": 23,
   "metadata": {
    "colab": {
     "base_uri": "https://localhost:8080/",
     "height": 279
    },
    "colab_type": "code",
    "id": "V-aH_MYa-kh0",
    "outputId": "4cee2b2e-e65f-4a31-b561-d77ec794c56a"
   },
   "outputs": [
    {
     "data": {
      "image/png": "[encoded data removed]",
      "text/plain": [
       "<Figure size 432x288 with 1 Axes>"
      ]
     },
     "metadata": {},
     "output_type": "display_data"
    }
   ],
   "source": [
    "ax = sns.countplot(x=\"Target\", data=validation_set)"
   ]
  },
  {
   "cell_type": "code",
   "execution_count": 24,
   "metadata": {
    "colab": {
     "base_uri": "https://localhost:8080/",
     "height": 195
    },
    "colab_type": "code",
    "id": "xH3WYbbgmvbJ",
    "outputId": "27467ac2-d051-42c1-ec4b-7c82c1edf947"
   },
   "outputs": [
    {
     "data": {
      "text/html": [
       "<div>\n",
       "<style scoped>\n",
       "    .dataframe tbody tr th:only-of-type {\n",
       "        vertical-align: middle;\n",
       "    }\n",
       "\n",
       "    .dataframe tbody tr th {\n",
       "        vertical-align: top;\n",
       "    }\n",
       "\n",
       "    .dataframe thead th {\n",
       "        text-align: right;\n",
       "    }\n",
       "</style>\n",
       "<table border=\"1\" class=\"dataframe\">\n",
       "  <thead>\n",
       "    <tr style=\"text-align: right;\">\n",
       "      <th></th>\n",
       "      <th>index</th>\n",
       "      <th>Images</th>\n",
       "      <th>Target</th>\n",
       "    </tr>\n",
       "  </thead>\n",
       "  <tbody>\n",
       "    <tr>\n",
       "      <th>0</th>\n",
       "      <td>5846</td>\n",
       "      <td>4a21a2af-8822-43aa-9dcd-6b412dcb3d43.dcm</td>\n",
       "      <td>0</td>\n",
       "    </tr>\n",
       "    <tr>\n",
       "      <th>1</th>\n",
       "      <td>27577</td>\n",
       "      <td>f4d92d38-4a58-45d4-a5a3-dd83772e51bc.dcm</td>\n",
       "      <td>0</td>\n",
       "    </tr>\n",
       "    <tr>\n",
       "      <th>2</th>\n",
       "      <td>22291</td>\n",
       "      <td>c9b3c7ce-4f39-4702-8206-2903d27afa9c.dcm</td>\n",
       "      <td>0</td>\n",
       "    </tr>\n",
       "    <tr>\n",
       "      <th>3</th>\n",
       "      <td>16384</td>\n",
       "      <td>9ea49ec4-2b4f-4e7b-94f1-99ba8d10a629.dcm</td>\n",
       "      <td>0</td>\n",
       "    </tr>\n",
       "    <tr>\n",
       "      <th>4</th>\n",
       "      <td>10849</td>\n",
       "      <td>7245635f-de15-4117-9069-e39743d9da2f.dcm</td>\n",
       "      <td>0</td>\n",
       "    </tr>\n",
       "  </tbody>\n",
       "</table>\n",
       "</div>"
      ],
      "text/plain": [
       "   index                                    Images  Target\n",
       "0   5846  4a21a2af-8822-43aa-9dcd-6b412dcb3d43.dcm       0\n",
       "1  27577  f4d92d38-4a58-45d4-a5a3-dd83772e51bc.dcm       0\n",
       "2  22291  c9b3c7ce-4f39-4702-8206-2903d27afa9c.dcm       0\n",
       "3  16384  9ea49ec4-2b4f-4e7b-94f1-99ba8d10a629.dcm       0\n",
       "4  10849  7245635f-de15-4117-9069-e39743d9da2f.dcm       0"
      ]
     },
     "execution_count": 24,
     "metadata": {},
     "output_type": "execute_result"
    }
   ],
   "source": [
    "training_set.head()"
   ]
  },
  {
   "cell_type": "code",
   "execution_count": 25,
   "metadata": {
    "colab": {},
    "colab_type": "code",
    "id": "_kXQjHKWzZMH"
   },
   "outputs": [],
   "source": [
    "IMAGE_SIZE = 224\n",
    "BATCH_SIZE = 50\n",
    "EPOCHS = 5 # Number of epochs.\n",
    "PATIENCE = 2 # Patience for early stopping\n",
    "MULTI_PROCESSING = True \n",
    "THREADS = 1\n",
    "IMG_SHAPE = (IMAGE_SIZE, IMAGE_SIZE, 3)"
   ]
  },
  {
   "cell_type": "code",
   "execution_count": 26,
   "metadata": {
    "colab": {},
    "colab_type": "code",
    "id": "r61q-XirvjEV"
   },
   "outputs": [],
   "source": [
    "# Training Data Generator\n",
    "\n",
    "class DataGen(Sequence):\n",
    "    def __init__(self, data_df):\n",
    "        self.paths = []\n",
    "        df_len = len(data_df)\n",
    "        self.pneumonia_calss = np.zeros((df_len,2))\n",
    "        for index, row in data_df.iterrows():\n",
    "          #print(index)\n",
    "          path = row['Images']\n",
    "          classes = row['Target']\n",
    "          self.paths.append(path) # Read image from here\n",
    "          #self.pneumonia_calss.append(classes) # Read target from here\n",
    "          if classes == 1:\n",
    "            self.pneumonia_calss[index, 0] = 1\n",
    "            self.pneumonia_calss[index, 1] = 0\n",
    "          else:\n",
    "            self.pneumonia_calss[index, 0] = 0\n",
    "            self.pneumonia_calss[index, 1] = 1\n",
    "        \n",
    "\n",
    "    def __len__(self):\n",
    "        return math.ceil(len(self.pneumonia_calss) / BATCH_SIZE)\n",
    "\n",
    "    def __getitem__(self, idx): # Get a batch\n",
    "        batch_paths = self.paths[idx * BATCH_SIZE:(idx + 1) * BATCH_SIZE] # Image path\n",
    "        batch_coords = self.pneumonia_calss[idx * BATCH_SIZE:(idx + 1) * BATCH_SIZE] # Image coords\n",
    "\n",
    "        batch_images = np.zeros((len(batch_paths), IMAGE_SIZE, IMAGE_SIZE, 3), dtype=np.float32)\n",
    "        session = boto3.Session()\n",
    "        s3_session = session.client('s3')\n",
    "        for i, f in enumerate(batch_paths):\n",
    "            \n",
    "            f = train_dicom_dir +  f\n",
    "            #print('file for loading ',  f)\n",
    "            fileobj = s3_session.get_object(Bucket=root_path,  Key=f )\n",
    "            dicom_data = fileobj['Body'].read()\n",
    "            dicom_bytes = DicomBytesIO(dicom_data)\n",
    "            c_dicom = dcmread(dicom_bytes) \n",
    "            image = c_dicom.pixel_array\n",
    "            # If grayscale. Convert to RGB for consistency.\n",
    "            if len(image.shape) != 3 or image.shape[2] != 3: \n",
    "                img = np.stack((image,) * 3, -1)\n",
    " \n",
    "            dim = (IMAGE_SIZE, IMAGE_SIZE)\n",
    "            img = cv2.resize(img, dim, interpolation = cv2.INTER_AREA)\n",
    "            #print(' File ', f, ' img shape ', img.shape )\n",
    "            batch_images[i] = preprocess_input(np.array(img, dtype=np.float32)) # Convert to float32 array\n",
    "            #print('batch_coords' , batch_coords)\n",
    "            \n",
    "        return batch_images, batch_coords"
   ]
  },
  {
   "cell_type": "code",
   "execution_count": 27,
   "metadata": {
    "colab": {},
    "colab_type": "code",
    "id": "g28Jvk2ne2-x"
   },
   "outputs": [],
   "source": [
    "train_dataGen  = DataGen(training_set)\n",
    "validation_datagen = DataGen(validation_set)"
   ]
  },
  {
   "cell_type": "code",
   "execution_count": 28,
   "metadata": {
    "colab": {
     "base_uri": "https://localhost:8080/",
     "height": 1000
    },
    "colab_type": "code",
    "id": "27o0qiphVq2t",
    "outputId": "3be9662f-062f-44c1-b66a-d3e074b2ade9"
   },
   "outputs": [],
   "source": [
    "#org_model = tf.keras.applications.MobileNetV2(input_shape=IMG_SHAPE,include_top=True, weights='imagenet')\n",
    "#org_model.summary()"
   ]
  },
  {
   "cell_type": "markdown",
   "metadata": {},
   "source": [
    "# Model Initialization"
   ]
  },
  {
   "cell_type": "code",
   "execution_count": 33,
   "metadata": {
    "colab": {},
    "colab_type": "code",
    "id": "-a6JOsj80mOQ"
   },
   "outputs": [],
   "source": [
    "#hyperparameter aplha (width metwork)\n",
    "#hyperparameter image resolution tp 160\n",
    "base_model = tf.keras.applications.MobileNetV2(input_shape=IMG_SHAPE,\n",
    "                                              include_top=False,\n",
    "                                              weights='imagenet',\n",
    "                                              alpha=1.4)"
   ]
  },
  {
   "cell_type": "markdown",
   "metadata": {},
   "source": [
    "# Trainable Layers"
   ]
  },
  {
   "cell_type": "code",
   "execution_count": 34,
   "metadata": {
    "colab": {},
    "colab_type": "code",
    "id": "bP3tTjpU0weh"
   },
   "outputs": [
    {
     "name": "stdout",
     "output_type": "stream",
     "text": [
      "<tensorflow.python.keras.engine.input_layer.InputLayer object at 0x7f6fbebd9a20> False\n",
      "<tensorflow.python.keras.layers.convolutional.ZeroPadding2D object at 0x7f6fbebd9b70> False\n",
      "<tensorflow.python.keras.layers.convolutional.Conv2D object at 0x7f6fbebd9eb8> False\n",
      "<tensorflow.python.keras.layers.normalization.BatchNormalization object at 0x7f6fbeb88898> False\n",
      "<tensorflow.python.keras.layers.advanced_activations.ReLU object at 0x7f6fbeb982b0> False\n",
      "<tensorflow.python.keras.layers.convolutional.DepthwiseConv2D object at 0x7f6fbebb7eb8> False\n",
      "<tensorflow.python.keras.layers.normalization.BatchNormalization object at 0x7f6fbebc0c88> False\n",
      "<tensorflow.python.keras.layers.advanced_activations.ReLU object at 0x7f6fbeb517f0> False\n",
      "<tensorflow.python.keras.layers.convolutional.Conv2D object at 0x7f6fbeb51860> False\n",
      "<tensorflow.python.keras.layers.normalization.BatchNormalization object at 0x7f6fbeb7a320> False\n",
      "<tensorflow.python.keras.layers.convolutional.Conv2D object at 0x7f6fbeb0f9e8> False\n",
      "<tensorflow.python.keras.layers.normalization.BatchNormalization object at 0x7f6fbeb33550> False\n",
      "<tensorflow.python.keras.layers.advanced_activations.ReLU object at 0x7f6fbeac6898> False\n",
      "<tensorflow.python.keras.layers.convolutional.ZeroPadding2D object at 0x7f6fbeadb2b0> False\n",
      "<tensorflow.python.keras.layers.convolutional.DepthwiseConv2D object at 0x7f6fbeaf2eb8> False\n",
      "<tensorflow.python.keras.layers.normalization.BatchNormalization object at 0x7f6fbeaf2d68> False\n",
      "<tensorflow.python.keras.layers.advanced_activations.ReLU object at 0x7f6fbea85358> False\n",
      "<tensorflow.python.keras.layers.convolutional.Conv2D object at 0x7f6fbea94cf8> False\n",
      "<tensorflow.python.keras.layers.normalization.BatchNormalization object at 0x7f6fbeab1a58> False\n",
      "<tensorflow.python.keras.layers.convolutional.Conv2D object at 0x7f6fbeabe550> False\n",
      "<tensorflow.python.keras.layers.normalization.BatchNormalization object at 0x7f6fbea6aef0> False\n",
      "<tensorflow.python.keras.layers.advanced_activations.ReLU object at 0x7f6fbea75400> False\n",
      "<tensorflow.python.keras.layers.convolutional.DepthwiseConv2D object at 0x7f6fbea07b00> False\n",
      "<tensorflow.python.keras.layers.normalization.BatchNormalization object at 0x7f6fbea1fa90> False\n",
      "<tensorflow.python.keras.layers.advanced_activations.ReLU object at 0x7f6fbea31908> False\n",
      "<tensorflow.python.keras.layers.convolutional.Conv2D object at 0x7f6fbea31978> False\n",
      "<tensorflow.python.keras.layers.normalization.BatchNormalization object at 0x7f6fbe9dfe80> False\n",
      "<tensorflow.python.keras.layers.merge.Add object at 0x7f6fbe9ebb00> False\n",
      "<tensorflow.python.keras.layers.convolutional.Conv2D object at 0x7f6fbe9e5048> False\n",
      "<tensorflow.python.keras.layers.normalization.BatchNormalization object at 0x7f6fbe9eba58> False\n",
      "<tensorflow.python.keras.layers.advanced_activations.ReLU object at 0x7f6fbe9a4d30> False\n",
      "<tensorflow.python.keras.layers.convolutional.ZeroPadding2D object at 0x7f6fbe9b7588> False\n",
      "<tensorflow.python.keras.layers.convolutional.DepthwiseConv2D object at 0x7f6fbe9b08d0> False\n",
      "<tensorflow.python.keras.layers.normalization.BatchNormalization object at 0x7f6fbe9b7eb8> False\n",
      "<tensorflow.python.keras.layers.advanced_activations.ReLU object at 0x7f6fbe946710> False\n",
      "<tensorflow.python.keras.layers.convolutional.Conv2D object at 0x7f6fbe946780> False\n",
      "<tensorflow.python.keras.layers.normalization.BatchNormalization object at 0x7f6fbe968e48> False\n",
      "<tensorflow.python.keras.layers.convolutional.Conv2D object at 0x7f6fbe97d908> False\n",
      "<tensorflow.python.keras.layers.normalization.BatchNormalization object at 0x7f6fbe92ddd8> False\n",
      "<tensorflow.python.keras.layers.advanced_activations.ReLU object at 0x7f6fbe938780> False\n",
      "<tensorflow.python.keras.layers.convolutional.DepthwiseConv2D object at 0x7f6fbe9387b8> False\n",
      "<tensorflow.python.keras.layers.normalization.BatchNormalization object at 0x7f6fbe8dd358> False\n",
      "<tensorflow.python.keras.layers.advanced_activations.ReLU object at 0x7f6fbe8f0c50> False\n",
      "<tensorflow.python.keras.layers.convolutional.Conv2D object at 0x7f6fbe89de48> False\n",
      "<tensorflow.python.keras.layers.normalization.BatchNormalization object at 0x7f6fbe8a6320> False\n",
      "<tensorflow.python.keras.layers.merge.Add object at 0x7f6fbe8aaeb8> False\n",
      "<tensorflow.python.keras.layers.convolutional.Conv2D object at 0x7f6fbe8b0080> False\n",
      "<tensorflow.python.keras.layers.normalization.BatchNormalization object at 0x7f6fbe860978> False\n",
      "<tensorflow.python.keras.layers.advanced_activations.ReLU object at 0x7f6fbe869128> False\n",
      "<tensorflow.python.keras.layers.convolutional.DepthwiseConv2D object at 0x7f6fbe808d68> False\n",
      "<tensorflow.python.keras.layers.normalization.BatchNormalization object at 0x7f6fbe869160> False\n",
      "<tensorflow.python.keras.layers.advanced_activations.ReLU object at 0x7f6fbe823630> False\n",
      "<tensorflow.python.keras.layers.convolutional.Conv2D object at 0x7f6fbe832fd0> False\n",
      "<tensorflow.python.keras.layers.normalization.BatchNormalization object at 0x7f6fbe7cbba8> False\n",
      "<tensorflow.python.keras.layers.merge.Add object at 0x7f6fbe7df828> False\n",
      "<tensorflow.python.keras.layers.convolutional.Conv2D object at 0x7f6fbe7cb128> False\n",
      "<tensorflow.python.keras.layers.normalization.BatchNormalization object at 0x7f6fbe789eb8> False\n",
      "<tensorflow.python.keras.layers.advanced_activations.ReLU object at 0x7f6fbe798a58> False\n",
      "<tensorflow.python.keras.layers.convolutional.ZeroPadding2D object at 0x7f6fbe7467f0> False\n",
      "<tensorflow.python.keras.layers.convolutional.DepthwiseConv2D object at 0x7f6fbe798a90> False\n",
      "<tensorflow.python.keras.layers.normalization.BatchNormalization object at 0x7f6fbe7be748> False\n",
      "<tensorflow.python.keras.layers.advanced_activations.ReLU object at 0x7f6fbe757518> False\n",
      "<tensorflow.python.keras.layers.convolutional.Conv2D object at 0x7f6fbe763eb8> False\n",
      "<tensorflow.python.keras.layers.normalization.BatchNormalization object at 0x7f6fbe704b38> False\n",
      "<tensorflow.python.keras.layers.convolutional.Conv2D object at 0x7f6fbe712710> False\n",
      "<tensorflow.python.keras.layers.normalization.BatchNormalization object at 0x7f6fbe740cf8> False\n",
      "<tensorflow.python.keras.layers.advanced_activations.ReLU object at 0x7f6fbe6ca5c0> False\n",
      "<tensorflow.python.keras.layers.convolutional.DepthwiseConv2D object at 0x7f6fbe6ca5f8> False\n",
      "<tensorflow.python.keras.layers.normalization.BatchNormalization object at 0x7f6fbe6f1f60> False\n",
      "<tensorflow.python.keras.layers.advanced_activations.ReLU object at 0x7f6fbe684ac8> False\n",
      "<tensorflow.python.keras.layers.convolutional.Conv2D object at 0x7f6fbe6b2f98> False\n",
      "<tensorflow.python.keras.layers.normalization.BatchNormalization object at 0x7f6fbe6b29e8> False\n",
      "<tensorflow.python.keras.layers.merge.Add object at 0x7f6fbe6bccc0> False\n",
      "<tensorflow.python.keras.layers.convolutional.Conv2D object at 0x7f6fbe6b53c8> False\n",
      "<tensorflow.python.keras.layers.normalization.BatchNormalization object at 0x7f6fbe6701d0> False\n",
      "<tensorflow.python.keras.layers.advanced_activations.ReLU object at 0x7f6fbe675f28> False\n",
      "<tensorflow.python.keras.layers.convolutional.DepthwiseConv2D object at 0x7f6fbe61ba90> False\n",
      "<tensorflow.python.keras.layers.normalization.BatchNormalization object at 0x7f6fbe622f28> False\n",
      "<tensorflow.python.keras.layers.advanced_activations.ReLU object at 0x7f6fbe637438> False\n",
      "<tensorflow.python.keras.layers.convolutional.Conv2D object at 0x7f6fbe5d5e80> False\n",
      "<tensorflow.python.keras.layers.normalization.BatchNormalization object at 0x7f6fbe5e49e8> False\n",
      "<tensorflow.python.keras.layers.merge.Add object at 0x7f6fbe5f1630> False\n",
      "<tensorflow.python.keras.layers.convolutional.Conv2D object at 0x7f6fbe5e4908> False\n",
      "<tensorflow.python.keras.layers.normalization.BatchNormalization object at 0x7f6fbe597f28> False\n",
      "<tensorflow.python.keras.layers.advanced_activations.ReLU object at 0x7f6fbe5ab860> False\n",
      "<tensorflow.python.keras.layers.convolutional.DepthwiseConv2D object at 0x7f6fbe5ab898> False\n",
      "<tensorflow.python.keras.layers.normalization.BatchNormalization object at 0x7f6fbe557cf8> False\n",
      "<tensorflow.python.keras.layers.advanced_activations.ReLU object at 0x7f6fbe562d68> False\n",
      "<tensorflow.python.keras.layers.convolutional.Conv2D object at 0x7f6fbe564fd0> False\n",
      "<tensorflow.python.keras.layers.normalization.BatchNormalization object at 0x7f6fbe516208> False\n",
      "<tensorflow.python.keras.layers.merge.Add object at 0x7f6fbe51ef98> False\n",
      "<tensorflow.python.keras.layers.convolutional.Conv2D object at 0x7f6fbe523048> False\n",
      "<tensorflow.python.keras.layers.normalization.BatchNormalization object at 0x7f6fbe4d29e8> False\n",
      "<tensorflow.python.keras.layers.advanced_activations.ReLU object at 0x7f6fbe4de1d0> False\n",
      "<tensorflow.python.keras.layers.convolutional.DepthwiseConv2D object at 0x7f6fbe4fbcf8> False\n",
      "<tensorflow.python.keras.layers.normalization.BatchNormalization object at 0x7f6fbe4de208> False\n",
      "<tensorflow.python.keras.layers.advanced_activations.ReLU object at 0x7f6fbe4986d8> False\n",
      "<tensorflow.python.keras.layers.convolutional.Conv2D object at 0x7f6fbe498748> False\n",
      "<tensorflow.python.keras.layers.normalization.BatchNormalization object at 0x7f6fbe4bc2e8> False\n",
      "<tensorflow.python.keras.layers.convolutional.Conv2D object at 0x7f6fbe4518d0> False\n",
      "<tensorflow.python.keras.layers.normalization.BatchNormalization object at 0x7f6fbe47ddd8> False\n",
      "<tensorflow.python.keras.layers.advanced_activations.ReLU object at 0x7f6fbe40a780> False\n",
      "<tensorflow.python.keras.layers.convolutional.DepthwiseConv2D object at 0x7f6fbe40fac8> False\n",
      "<tensorflow.python.keras.layers.normalization.BatchNormalization object at 0x7f6fbe431f98> False\n",
      "<tensorflow.python.keras.layers.advanced_activations.ReLU object at 0x7f6fbe443c88> False\n",
      "<tensorflow.python.keras.layers.convolutional.Conv2D object at 0x7f6fbe3f1e48> False\n",
      "<tensorflow.python.keras.layers.normalization.BatchNormalization object at 0x7f6fbe3f6320> False\n",
      "<tensorflow.python.keras.layers.merge.Add object at 0x7f6fbe3fbe80> False\n",
      "<tensorflow.python.keras.layers.convolutional.Conv2D object at 0x7f6fbe400048> False\n",
      "<tensorflow.python.keras.layers.normalization.BatchNormalization object at 0x7f6fbe3b2128> False\n",
      "<tensorflow.python.keras.layers.advanced_activations.ReLU object at 0x7f6fbe3be0f0> False\n",
      "<tensorflow.python.keras.layers.convolutional.DepthwiseConv2D object at 0x7f6fbe35bda0> False\n",
      "<tensorflow.python.keras.layers.normalization.BatchNormalization object at 0x7f6fbe361c18> False\n",
      "<tensorflow.python.keras.layers.advanced_activations.ReLU object at 0x7f6fbe3775f8> False\n",
      "<tensorflow.python.keras.layers.convolutional.Conv2D object at 0x7f6fbe304f98> False\n",
      "<tensorflow.python.keras.layers.normalization.BatchNormalization object at 0x7f6fbe31df98> False\n",
      "<tensorflow.python.keras.layers.merge.Add object at 0x7f6fbe3357f0> False\n",
      "<tensorflow.python.keras.layers.convolutional.Conv2D object at 0x7f6fbe31dba8> False\n",
      "<tensorflow.python.keras.layers.normalization.BatchNormalization object at 0x7f6fbe2deef0> False\n",
      "<tensorflow.python.keras.layers.advanced_activations.ReLU object at 0x7f6fbe2eba20> False\n",
      "<tensorflow.python.keras.layers.convolutional.ZeroPadding2D object at 0x7f6fbe297a20> False\n",
      "<tensorflow.python.keras.layers.convolutional.DepthwiseConv2D object at 0x7f6fbe2eba58> False\n",
      "<tensorflow.python.keras.layers.normalization.BatchNormalization object at 0x7f6fbe2929b0> False\n",
      "<tensorflow.python.keras.layers.advanced_activations.ReLU object at 0x7f6fbe2a84e0> False\n",
      "<tensorflow.python.keras.layers.convolutional.Conv2D object at 0x7f6fbe249f28> False\n",
      "<tensorflow.python.keras.layers.normalization.BatchNormalization object at 0x7f6fbe257a20> False\n",
      "<tensorflow.python.keras.layers.convolutional.Conv2D object at 0x7f6fbe2656d8> False\n",
      "<tensorflow.python.keras.layers.normalization.BatchNormalization object at 0x7f6fbe211f98> False\n",
      "<tensorflow.python.keras.layers.advanced_activations.ReLU object at 0x7f6fbe21e588> False\n",
      "<tensorflow.python.keras.layers.convolutional.DepthwiseConv2D object at 0x7f6fbe243d30> False\n",
      "<tensorflow.python.keras.layers.normalization.BatchNormalization object at 0x7f6fbe21e5c0> False\n",
      "<tensorflow.python.keras.layers.advanced_activations.ReLU object at 0x7f6fbe1dd710> False\n",
      "<tensorflow.python.keras.layers.convolutional.Conv2D object at 0x7f6fbe1f29e8> False\n",
      "<tensorflow.python.keras.layers.normalization.BatchNormalization object at 0x7f6fbe190978> False\n",
      "<tensorflow.python.keras.layers.merge.Add object at 0x7f6fbe19d588> False\n",
      "<tensorflow.python.keras.layers.convolutional.Conv2D object at 0x7f6fbe190780> False\n",
      "<tensorflow.python.keras.layers.normalization.BatchNormalization object at 0x7f6fbe1c14e0> False\n",
      "<tensorflow.python.keras.layers.advanced_activations.ReLU object at 0x7f6fbe1597b8> False\n",
      "<tensorflow.python.keras.layers.convolutional.DepthwiseConv2D object at 0x7f6fbe16ceb8> False\n",
      "<tensorflow.python.keras.layers.normalization.BatchNormalization object at 0x7f6fbe104940> False\n",
      "<tensorflow.python.keras.layers.advanced_activations.ReLU object at 0x7f6fbe118940> False\n",
      "<tensorflow.python.keras.layers.convolutional.Conv2D object at 0x7f6fbe12cc18> False\n",
      "<tensorflow.python.keras.layers.normalization.BatchNormalization object at 0x7f6fbe0cac18> False\n",
      "<tensorflow.python.keras.layers.merge.Add object at 0x7f6fbe0d67b8> False\n",
      "<tensorflow.python.keras.layers.convolutional.Conv2D object at 0x7f6fbe0cabe0> False\n",
      "<tensorflow.python.keras.layers.normalization.BatchNormalization object at 0x7f6fbe0fd438> False\n",
      "<tensorflow.python.keras.layers.advanced_activations.ReLU object at 0x7f6fbe0909e8> False\n",
      "<tensorflow.python.keras.layers.convolutional.DepthwiseConv2D object at 0x7f6fbe090a20> False\n",
      "<tensorflow.python.keras.layers.normalization.BatchNormalization object at 0x7f6fbe0bd358> False\n",
      "<tensorflow.python.keras.layers.advanced_activations.ReLU object at 0x7f6fbe051b70> False\n",
      "<tensorflow.python.keras.layers.convolutional.Conv2D object at 0x7f6fbe051be0> False\n",
      "<tensorflow.python.keras.layers.normalization.BatchNormalization object at 0x7f6fbe07e320> False\n",
      "<tensorflow.python.keras.layers.convolutional.Conv2D object at 0x7f6fbe0129e8> True\n",
      "<tensorflow.python.keras.layers.normalization.BatchNormalization object at 0x7f6fbe036630> True\n",
      "<tensorflow.python.keras.layers.advanced_activations.ReLU object at 0x7f6fbdfca898> True\n"
     ]
    }
   ],
   "source": [
    "base_model.trainable = True\n",
    "for layer in base_model.layers[:-3]:\n",
    "    layer.trainable = False\n",
    "\n",
    "for layer in base_model.layers:\n",
    "    print(layer, layer.trainable)"
   ]
  },
  {
   "cell_type": "code",
   "execution_count": 35,
   "metadata": {
    "colab": {
     "base_uri": "https://localhost:8080/",
     "height": 1000
    },
    "colab_type": "code",
    "id": "i4M-IBiaZ3kA",
    "outputId": "303e5886-23ae-486f-dbdc-e4d6ac4ba217"
   },
   "outputs": [
    {
     "name": "stdout",
     "output_type": "stream",
     "text": [
      "Model: \"mobilenetv2_1.40_224\"\n",
      "__________________________________________________________________________________________________\n",
      "Layer (type)                    Output Shape         Param #     Connected to                     \n",
      "==================================================================================================\n",
      "input_2 (InputLayer)            [(None, 224, 224, 3) 0                                            \n",
      "__________________________________________________________________________________________________\n",
      "Conv1_pad (ZeroPadding2D)       (None, 225, 225, 3)  0           input_2[0][0]                    \n",
      "__________________________________________________________________________________________________\n",
      "Conv1 (Conv2D)                  (None, 112, 112, 48) 1296        Conv1_pad[0][0]                  \n",
      "__________________________________________________________________________________________________\n",
      "bn_Conv1 (BatchNormalization)   (None, 112, 112, 48) 192         Conv1[0][0]                      \n",
      "__________________________________________________________________________________________________\n",
      "Conv1_relu (ReLU)               (None, 112, 112, 48) 0           bn_Conv1[0][0]                   \n",
      "__________________________________________________________________________________________________\n",
      "expanded_conv_depthwise (Depthw (None, 112, 112, 48) 432         Conv1_relu[0][0]                 \n",
      "__________________________________________________________________________________________________\n",
      "expanded_conv_depthwise_BN (Bat (None, 112, 112, 48) 192         expanded_conv_depthwise[0][0]    \n",
      "__________________________________________________________________________________________________\n",
      "expanded_conv_depthwise_relu (R (None, 112, 112, 48) 0           expanded_conv_depthwise_BN[0][0] \n",
      "__________________________________________________________________________________________________\n",
      "expanded_conv_project (Conv2D)  (None, 112, 112, 24) 1152        expanded_conv_depthwise_relu[0][0\n",
      "__________________________________________________________________________________________________\n",
      "expanded_conv_project_BN (Batch (None, 112, 112, 24) 96          expanded_conv_project[0][0]      \n",
      "__________________________________________________________________________________________________\n",
      "block_1_expand (Conv2D)         (None, 112, 112, 144 3456        expanded_conv_project_BN[0][0]   \n",
      "__________________________________________________________________________________________________\n",
      "block_1_expand_BN (BatchNormali (None, 112, 112, 144 576         block_1_expand[0][0]             \n",
      "__________________________________________________________________________________________________\n",
      "block_1_expand_relu (ReLU)      (None, 112, 112, 144 0           block_1_expand_BN[0][0]          \n",
      "__________________________________________________________________________________________________\n",
      "block_1_pad (ZeroPadding2D)     (None, 113, 113, 144 0           block_1_expand_relu[0][0]        \n",
      "__________________________________________________________________________________________________\n",
      "block_1_depthwise (DepthwiseCon (None, 56, 56, 144)  1296        block_1_pad[0][0]                \n",
      "__________________________________________________________________________________________________\n",
      "block_1_depthwise_BN (BatchNorm (None, 56, 56, 144)  576         block_1_depthwise[0][0]          \n",
      "__________________________________________________________________________________________________\n",
      "block_1_depthwise_relu (ReLU)   (None, 56, 56, 144)  0           block_1_depthwise_BN[0][0]       \n",
      "__________________________________________________________________________________________________\n",
      "block_1_project (Conv2D)        (None, 56, 56, 32)   4608        block_1_depthwise_relu[0][0]     \n",
      "__________________________________________________________________________________________________\n",
      "block_1_project_BN (BatchNormal (None, 56, 56, 32)   128         block_1_project[0][0]            \n",
      "__________________________________________________________________________________________________\n",
      "block_2_expand (Conv2D)         (None, 56, 56, 192)  6144        block_1_project_BN[0][0]         \n",
      "__________________________________________________________________________________________________\n",
      "block_2_expand_BN (BatchNormali (None, 56, 56, 192)  768         block_2_expand[0][0]             \n",
      "__________________________________________________________________________________________________\n",
      "block_2_expand_relu (ReLU)      (None, 56, 56, 192)  0           block_2_expand_BN[0][0]          \n",
      "__________________________________________________________________________________________________\n",
      "block_2_depthwise (DepthwiseCon (None, 56, 56, 192)  1728        block_2_expand_relu[0][0]        \n",
      "__________________________________________________________________________________________________\n",
      "block_2_depthwise_BN (BatchNorm (None, 56, 56, 192)  768         block_2_depthwise[0][0]          \n",
      "__________________________________________________________________________________________________\n",
      "block_2_depthwise_relu (ReLU)   (None, 56, 56, 192)  0           block_2_depthwise_BN[0][0]       \n",
      "__________________________________________________________________________________________________\n",
      "block_2_project (Conv2D)        (None, 56, 56, 32)   6144        block_2_depthwise_relu[0][0]     \n",
      "__________________________________________________________________________________________________\n",
      "block_2_project_BN (BatchNormal (None, 56, 56, 32)   128         block_2_project[0][0]            \n",
      "__________________________________________________________________________________________________\n",
      "block_2_add (Add)               (None, 56, 56, 32)   0           block_1_project_BN[0][0]         \n",
      "                                                                 block_2_project_BN[0][0]         \n",
      "__________________________________________________________________________________________________\n",
      "block_3_expand (Conv2D)         (None, 56, 56, 192)  6144        block_2_add[0][0]                \n",
      "__________________________________________________________________________________________________\n",
      "block_3_expand_BN (BatchNormali (None, 56, 56, 192)  768         block_3_expand[0][0]             \n",
      "__________________________________________________________________________________________________\n",
      "block_3_expand_relu (ReLU)      (None, 56, 56, 192)  0           block_3_expand_BN[0][0]          \n",
      "__________________________________________________________________________________________________\n",
      "block_3_pad (ZeroPadding2D)     (None, 57, 57, 192)  0           block_3_expand_relu[0][0]        \n",
      "__________________________________________________________________________________________________\n",
      "block_3_depthwise (DepthwiseCon (None, 28, 28, 192)  1728        block_3_pad[0][0]                \n",
      "__________________________________________________________________________________________________\n",
      "block_3_depthwise_BN (BatchNorm (None, 28, 28, 192)  768         block_3_depthwise[0][0]          \n",
      "__________________________________________________________________________________________________\n",
      "block_3_depthwise_relu (ReLU)   (None, 28, 28, 192)  0           block_3_depthwise_BN[0][0]       \n",
      "__________________________________________________________________________________________________\n",
      "block_3_project (Conv2D)        (None, 28, 28, 48)   9216        block_3_depthwise_relu[0][0]     \n",
      "__________________________________________________________________________________________________\n",
      "block_3_project_BN (BatchNormal (None, 28, 28, 48)   192         block_3_project[0][0]            \n",
      "__________________________________________________________________________________________________\n",
      "block_4_expand (Conv2D)         (None, 28, 28, 288)  13824       block_3_project_BN[0][0]         \n",
      "__________________________________________________________________________________________________\n",
      "block_4_expand_BN (BatchNormali (None, 28, 28, 288)  1152        block_4_expand[0][0]             \n",
      "__________________________________________________________________________________________________\n",
      "block_4_expand_relu (ReLU)      (None, 28, 28, 288)  0           block_4_expand_BN[0][0]          \n",
      "__________________________________________________________________________________________________\n",
      "block_4_depthwise (DepthwiseCon (None, 28, 28, 288)  2592        block_4_expand_relu[0][0]        \n",
      "__________________________________________________________________________________________________\n",
      "block_4_depthwise_BN (BatchNorm (None, 28, 28, 288)  1152        block_4_depthwise[0][0]          \n",
      "__________________________________________________________________________________________________\n",
      "block_4_depthwise_relu (ReLU)   (None, 28, 28, 288)  0           block_4_depthwise_BN[0][0]       \n",
      "__________________________________________________________________________________________________\n",
      "block_4_project (Conv2D)        (None, 28, 28, 48)   13824       block_4_depthwise_relu[0][0]     \n",
      "__________________________________________________________________________________________________\n",
      "block_4_project_BN (BatchNormal (None, 28, 28, 48)   192         block_4_project[0][0]            \n",
      "__________________________________________________________________________________________________\n",
      "block_4_add (Add)               (None, 28, 28, 48)   0           block_3_project_BN[0][0]         \n",
      "                                                                 block_4_project_BN[0][0]         \n",
      "__________________________________________________________________________________________________\n",
      "block_5_expand (Conv2D)         (None, 28, 28, 288)  13824       block_4_add[0][0]                \n",
      "__________________________________________________________________________________________________\n",
      "block_5_expand_BN (BatchNormali (None, 28, 28, 288)  1152        block_5_expand[0][0]             \n",
      "__________________________________________________________________________________________________\n",
      "block_5_expand_relu (ReLU)      (None, 28, 28, 288)  0           block_5_expand_BN[0][0]          \n",
      "__________________________________________________________________________________________________\n",
      "block_5_depthwise (DepthwiseCon (None, 28, 28, 288)  2592        block_5_expand_relu[0][0]        \n",
      "__________________________________________________________________________________________________\n",
      "block_5_depthwise_BN (BatchNorm (None, 28, 28, 288)  1152        block_5_depthwise[0][0]          \n",
      "__________________________________________________________________________________________________\n",
      "block_5_depthwise_relu (ReLU)   (None, 28, 28, 288)  0           block_5_depthwise_BN[0][0]       \n",
      "__________________________________________________________________________________________________\n",
      "block_5_project (Conv2D)        (None, 28, 28, 48)   13824       block_5_depthwise_relu[0][0]     \n",
      "__________________________________________________________________________________________________\n",
      "block_5_project_BN (BatchNormal (None, 28, 28, 48)   192         block_5_project[0][0]            \n",
      "__________________________________________________________________________________________________\n",
      "block_5_add (Add)               (None, 28, 28, 48)   0           block_4_add[0][0]                \n",
      "                                                                 block_5_project_BN[0][0]         \n",
      "__________________________________________________________________________________________________\n",
      "block_6_expand (Conv2D)         (None, 28, 28, 288)  13824       block_5_add[0][0]                \n",
      "__________________________________________________________________________________________________\n",
      "block_6_expand_BN (BatchNormali (None, 28, 28, 288)  1152        block_6_expand[0][0]             \n",
      "__________________________________________________________________________________________________\n",
      "block_6_expand_relu (ReLU)      (None, 28, 28, 288)  0           block_6_expand_BN[0][0]          \n",
      "__________________________________________________________________________________________________\n",
      "block_6_pad (ZeroPadding2D)     (None, 29, 29, 288)  0           block_6_expand_relu[0][0]        \n",
      "__________________________________________________________________________________________________\n",
      "block_6_depthwise (DepthwiseCon (None, 14, 14, 288)  2592        block_6_pad[0][0]                \n",
      "__________________________________________________________________________________________________\n",
      "block_6_depthwise_BN (BatchNorm (None, 14, 14, 288)  1152        block_6_depthwise[0][0]          \n",
      "__________________________________________________________________________________________________\n",
      "block_6_depthwise_relu (ReLU)   (None, 14, 14, 288)  0           block_6_depthwise_BN[0][0]       \n",
      "__________________________________________________________________________________________________\n",
      "block_6_project (Conv2D)        (None, 14, 14, 88)   25344       block_6_depthwise_relu[0][0]     \n",
      "__________________________________________________________________________________________________\n",
      "block_6_project_BN (BatchNormal (None, 14, 14, 88)   352         block_6_project[0][0]            \n",
      "__________________________________________________________________________________________________\n",
      "block_7_expand (Conv2D)         (None, 14, 14, 528)  46464       block_6_project_BN[0][0]         \n",
      "__________________________________________________________________________________________________\n",
      "block_7_expand_BN (BatchNormali (None, 14, 14, 528)  2112        block_7_expand[0][0]             \n",
      "__________________________________________________________________________________________________\n",
      "block_7_expand_relu (ReLU)      (None, 14, 14, 528)  0           block_7_expand_BN[0][0]          \n",
      "__________________________________________________________________________________________________\n",
      "block_7_depthwise (DepthwiseCon (None, 14, 14, 528)  4752        block_7_expand_relu[0][0]        \n",
      "__________________________________________________________________________________________________\n",
      "block_7_depthwise_BN (BatchNorm (None, 14, 14, 528)  2112        block_7_depthwise[0][0]          \n",
      "__________________________________________________________________________________________________\n",
      "block_7_depthwise_relu (ReLU)   (None, 14, 14, 528)  0           block_7_depthwise_BN[0][0]       \n",
      "__________________________________________________________________________________________________\n",
      "block_7_project (Conv2D)        (None, 14, 14, 88)   46464       block_7_depthwise_relu[0][0]     \n",
      "__________________________________________________________________________________________________\n",
      "block_7_project_BN (BatchNormal (None, 14, 14, 88)   352         block_7_project[0][0]            \n",
      "__________________________________________________________________________________________________\n",
      "block_7_add (Add)               (None, 14, 14, 88)   0           block_6_project_BN[0][0]         \n",
      "                                                                 block_7_project_BN[0][0]         \n",
      "__________________________________________________________________________________________________\n",
      "block_8_expand (Conv2D)         (None, 14, 14, 528)  46464       block_7_add[0][0]                \n",
      "__________________________________________________________________________________________________\n",
      "block_8_expand_BN (BatchNormali (None, 14, 14, 528)  2112        block_8_expand[0][0]             \n",
      "__________________________________________________________________________________________________\n",
      "block_8_expand_relu (ReLU)      (None, 14, 14, 528)  0           block_8_expand_BN[0][0]          \n",
      "__________________________________________________________________________________________________\n",
      "block_8_depthwise (DepthwiseCon (None, 14, 14, 528)  4752        block_8_expand_relu[0][0]        \n",
      "__________________________________________________________________________________________________\n",
      "block_8_depthwise_BN (BatchNorm (None, 14, 14, 528)  2112        block_8_depthwise[0][0]          \n",
      "__________________________________________________________________________________________________\n",
      "block_8_depthwise_relu (ReLU)   (None, 14, 14, 528)  0           block_8_depthwise_BN[0][0]       \n",
      "__________________________________________________________________________________________________\n",
      "block_8_project (Conv2D)        (None, 14, 14, 88)   46464       block_8_depthwise_relu[0][0]     \n",
      "__________________________________________________________________________________________________\n",
      "block_8_project_BN (BatchNormal (None, 14, 14, 88)   352         block_8_project[0][0]            \n",
      "__________________________________________________________________________________________________\n",
      "block_8_add (Add)               (None, 14, 14, 88)   0           block_7_add[0][0]                \n",
      "                                                                 block_8_project_BN[0][0]         \n",
      "__________________________________________________________________________________________________\n",
      "block_9_expand (Conv2D)         (None, 14, 14, 528)  46464       block_8_add[0][0]                \n",
      "__________________________________________________________________________________________________\n",
      "block_9_expand_BN (BatchNormali (None, 14, 14, 528)  2112        block_9_expand[0][0]             \n",
      "__________________________________________________________________________________________________\n",
      "block_9_expand_relu (ReLU)      (None, 14, 14, 528)  0           block_9_expand_BN[0][0]          \n",
      "__________________________________________________________________________________________________\n",
      "block_9_depthwise (DepthwiseCon (None, 14, 14, 528)  4752        block_9_expand_relu[0][0]        \n",
      "__________________________________________________________________________________________________\n",
      "block_9_depthwise_BN (BatchNorm (None, 14, 14, 528)  2112        block_9_depthwise[0][0]          \n",
      "__________________________________________________________________________________________________\n",
      "block_9_depthwise_relu (ReLU)   (None, 14, 14, 528)  0           block_9_depthwise_BN[0][0]       \n",
      "__________________________________________________________________________________________________\n",
      "block_9_project (Conv2D)        (None, 14, 14, 88)   46464       block_9_depthwise_relu[0][0]     \n",
      "__________________________________________________________________________________________________\n",
      "block_9_project_BN (BatchNormal (None, 14, 14, 88)   352         block_9_project[0][0]            \n",
      "__________________________________________________________________________________________________\n",
      "block_9_add (Add)               (None, 14, 14, 88)   0           block_8_add[0][0]                \n",
      "                                                                 block_9_project_BN[0][0]         \n",
      "__________________________________________________________________________________________________\n",
      "block_10_expand (Conv2D)        (None, 14, 14, 528)  46464       block_9_add[0][0]                \n",
      "__________________________________________________________________________________________________\n",
      "block_10_expand_BN (BatchNormal (None, 14, 14, 528)  2112        block_10_expand[0][0]            \n",
      "__________________________________________________________________________________________________\n",
      "block_10_expand_relu (ReLU)     (None, 14, 14, 528)  0           block_10_expand_BN[0][0]         \n",
      "__________________________________________________________________________________________________\n",
      "block_10_depthwise (DepthwiseCo (None, 14, 14, 528)  4752        block_10_expand_relu[0][0]       \n",
      "__________________________________________________________________________________________________\n",
      "block_10_depthwise_BN (BatchNor (None, 14, 14, 528)  2112        block_10_depthwise[0][0]         \n",
      "__________________________________________________________________________________________________\n",
      "block_10_depthwise_relu (ReLU)  (None, 14, 14, 528)  0           block_10_depthwise_BN[0][0]      \n",
      "__________________________________________________________________________________________________\n",
      "block_10_project (Conv2D)       (None, 14, 14, 136)  71808       block_10_depthwise_relu[0][0]    \n",
      "__________________________________________________________________________________________________\n",
      "block_10_project_BN (BatchNorma (None, 14, 14, 136)  544         block_10_project[0][0]           \n",
      "__________________________________________________________________________________________________\n",
      "block_11_expand (Conv2D)        (None, 14, 14, 816)  110976      block_10_project_BN[0][0]        \n",
      "__________________________________________________________________________________________________\n",
      "block_11_expand_BN (BatchNormal (None, 14, 14, 816)  3264        block_11_expand[0][0]            \n",
      "__________________________________________________________________________________________________\n",
      "block_11_expand_relu (ReLU)     (None, 14, 14, 816)  0           block_11_expand_BN[0][0]         \n",
      "__________________________________________________________________________________________________\n",
      "block_11_depthwise (DepthwiseCo (None, 14, 14, 816)  7344        block_11_expand_relu[0][0]       \n",
      "__________________________________________________________________________________________________\n",
      "block_11_depthwise_BN (BatchNor (None, 14, 14, 816)  3264        block_11_depthwise[0][0]         \n",
      "__________________________________________________________________________________________________\n",
      "block_11_depthwise_relu (ReLU)  (None, 14, 14, 816)  0           block_11_depthwise_BN[0][0]      \n",
      "__________________________________________________________________________________________________\n",
      "block_11_project (Conv2D)       (None, 14, 14, 136)  110976      block_11_depthwise_relu[0][0]    \n",
      "__________________________________________________________________________________________________\n",
      "block_11_project_BN (BatchNorma (None, 14, 14, 136)  544         block_11_project[0][0]           \n",
      "__________________________________________________________________________________________________\n",
      "block_11_add (Add)              (None, 14, 14, 136)  0           block_10_project_BN[0][0]        \n",
      "                                                                 block_11_project_BN[0][0]        \n",
      "__________________________________________________________________________________________________\n",
      "block_12_expand (Conv2D)        (None, 14, 14, 816)  110976      block_11_add[0][0]               \n",
      "__________________________________________________________________________________________________\n",
      "block_12_expand_BN (BatchNormal (None, 14, 14, 816)  3264        block_12_expand[0][0]            \n",
      "__________________________________________________________________________________________________\n",
      "block_12_expand_relu (ReLU)     (None, 14, 14, 816)  0           block_12_expand_BN[0][0]         \n",
      "__________________________________________________________________________________________________\n",
      "block_12_depthwise (DepthwiseCo (None, 14, 14, 816)  7344        block_12_expand_relu[0][0]       \n",
      "__________________________________________________________________________________________________\n",
      "block_12_depthwise_BN (BatchNor (None, 14, 14, 816)  3264        block_12_depthwise[0][0]         \n",
      "__________________________________________________________________________________________________\n",
      "block_12_depthwise_relu (ReLU)  (None, 14, 14, 816)  0           block_12_depthwise_BN[0][0]      \n",
      "__________________________________________________________________________________________________\n",
      "block_12_project (Conv2D)       (None, 14, 14, 136)  110976      block_12_depthwise_relu[0][0]    \n",
      "__________________________________________________________________________________________________\n",
      "block_12_project_BN (BatchNorma (None, 14, 14, 136)  544         block_12_project[0][0]           \n",
      "__________________________________________________________________________________________________\n",
      "block_12_add (Add)              (None, 14, 14, 136)  0           block_11_add[0][0]               \n",
      "                                                                 block_12_project_BN[0][0]        \n",
      "__________________________________________________________________________________________________\n",
      "block_13_expand (Conv2D)        (None, 14, 14, 816)  110976      block_12_add[0][0]               \n",
      "__________________________________________________________________________________________________\n",
      "block_13_expand_BN (BatchNormal (None, 14, 14, 816)  3264        block_13_expand[0][0]            \n",
      "__________________________________________________________________________________________________\n",
      "block_13_expand_relu (ReLU)     (None, 14, 14, 816)  0           block_13_expand_BN[0][0]         \n",
      "__________________________________________________________________________________________________\n",
      "block_13_pad (ZeroPadding2D)    (None, 15, 15, 816)  0           block_13_expand_relu[0][0]       \n",
      "__________________________________________________________________________________________________\n",
      "block_13_depthwise (DepthwiseCo (None, 7, 7, 816)    7344        block_13_pad[0][0]               \n",
      "__________________________________________________________________________________________________\n",
      "block_13_depthwise_BN (BatchNor (None, 7, 7, 816)    3264        block_13_depthwise[0][0]         \n",
      "__________________________________________________________________________________________________\n",
      "block_13_depthwise_relu (ReLU)  (None, 7, 7, 816)    0           block_13_depthwise_BN[0][0]      \n",
      "__________________________________________________________________________________________________\n",
      "block_13_project (Conv2D)       (None, 7, 7, 224)    182784      block_13_depthwise_relu[0][0]    \n",
      "__________________________________________________________________________________________________\n",
      "block_13_project_BN (BatchNorma (None, 7, 7, 224)    896         block_13_project[0][0]           \n",
      "__________________________________________________________________________________________________\n",
      "block_14_expand (Conv2D)        (None, 7, 7, 1344)   301056      block_13_project_BN[0][0]        \n",
      "__________________________________________________________________________________________________\n",
      "block_14_expand_BN (BatchNormal (None, 7, 7, 1344)   5376        block_14_expand[0][0]            \n",
      "__________________________________________________________________________________________________\n",
      "block_14_expand_relu (ReLU)     (None, 7, 7, 1344)   0           block_14_expand_BN[0][0]         \n",
      "__________________________________________________________________________________________________\n",
      "block_14_depthwise (DepthwiseCo (None, 7, 7, 1344)   12096       block_14_expand_relu[0][0]       \n",
      "__________________________________________________________________________________________________\n",
      "block_14_depthwise_BN (BatchNor (None, 7, 7, 1344)   5376        block_14_depthwise[0][0]         \n",
      "__________________________________________________________________________________________________\n",
      "block_14_depthwise_relu (ReLU)  (None, 7, 7, 1344)   0           block_14_depthwise_BN[0][0]      \n",
      "__________________________________________________________________________________________________\n",
      "block_14_project (Conv2D)       (None, 7, 7, 224)    301056      block_14_depthwise_relu[0][0]    \n",
      "__________________________________________________________________________________________________\n",
      "block_14_project_BN (BatchNorma (None, 7, 7, 224)    896         block_14_project[0][0]           \n",
      "__________________________________________________________________________________________________\n",
      "block_14_add (Add)              (None, 7, 7, 224)    0           block_13_project_BN[0][0]        \n",
      "                                                                 block_14_project_BN[0][0]        \n",
      "__________________________________________________________________________________________________\n",
      "block_15_expand (Conv2D)        (None, 7, 7, 1344)   301056      block_14_add[0][0]               \n",
      "__________________________________________________________________________________________________\n",
      "block_15_expand_BN (BatchNormal (None, 7, 7, 1344)   5376        block_15_expand[0][0]            \n",
      "__________________________________________________________________________________________________\n",
      "block_15_expand_relu (ReLU)     (None, 7, 7, 1344)   0           block_15_expand_BN[0][0]         \n",
      "__________________________________________________________________________________________________\n",
      "block_15_depthwise (DepthwiseCo (None, 7, 7, 1344)   12096       block_15_expand_relu[0][0]       \n",
      "__________________________________________________________________________________________________\n",
      "block_15_depthwise_BN (BatchNor (None, 7, 7, 1344)   5376        block_15_depthwise[0][0]         \n",
      "__________________________________________________________________________________________________\n",
      "block_15_depthwise_relu (ReLU)  (None, 7, 7, 1344)   0           block_15_depthwise_BN[0][0]      \n",
      "__________________________________________________________________________________________________\n",
      "block_15_project (Conv2D)       (None, 7, 7, 224)    301056      block_15_depthwise_relu[0][0]    \n",
      "__________________________________________________________________________________________________\n",
      "block_15_project_BN (BatchNorma (None, 7, 7, 224)    896         block_15_project[0][0]           \n",
      "__________________________________________________________________________________________________\n",
      "block_15_add (Add)              (None, 7, 7, 224)    0           block_14_add[0][0]               \n",
      "                                                                 block_15_project_BN[0][0]        \n",
      "__________________________________________________________________________________________________\n",
      "block_16_expand (Conv2D)        (None, 7, 7, 1344)   301056      block_15_add[0][0]               \n",
      "__________________________________________________________________________________________________\n",
      "block_16_expand_BN (BatchNormal (None, 7, 7, 1344)   5376        block_16_expand[0][0]            \n",
      "__________________________________________________________________________________________________\n",
      "block_16_expand_relu (ReLU)     (None, 7, 7, 1344)   0           block_16_expand_BN[0][0]         \n",
      "__________________________________________________________________________________________________\n",
      "block_16_depthwise (DepthwiseCo (None, 7, 7, 1344)   12096       block_16_expand_relu[0][0]       \n",
      "__________________________________________________________________________________________________\n",
      "block_16_depthwise_BN (BatchNor (None, 7, 7, 1344)   5376        block_16_depthwise[0][0]         \n",
      "__________________________________________________________________________________________________\n",
      "block_16_depthwise_relu (ReLU)  (None, 7, 7, 1344)   0           block_16_depthwise_BN[0][0]      \n",
      "__________________________________________________________________________________________________\n",
      "block_16_project (Conv2D)       (None, 7, 7, 448)    602112      block_16_depthwise_relu[0][0]    \n",
      "__________________________________________________________________________________________________\n",
      "block_16_project_BN (BatchNorma (None, 7, 7, 448)    1792        block_16_project[0][0]           \n",
      "__________________________________________________________________________________________________\n",
      "Conv_1 (Conv2D)                 (None, 7, 7, 1792)   802816      block_16_project_BN[0][0]        \n",
      "__________________________________________________________________________________________________\n",
      "Conv_1_bn (BatchNormalization)  (None, 7, 7, 1792)   7168        Conv_1[0][0]                     \n",
      "__________________________________________________________________________________________________\n",
      "out_relu (ReLU)                 (None, 7, 7, 1792)   0           Conv_1_bn[0][0]                  \n",
      "==================================================================================================\n",
      "Total params: 4,363,712\n",
      "Trainable params: 806,400\n",
      "Non-trainable params: 3,557,312\n",
      "__________________________________________________________________________________________________\n"
     ]
    }
   ],
   "source": [
    "base_model.summary()"
   ]
  },
  {
   "cell_type": "code",
   "execution_count": 36,
   "metadata": {
    "colab": {},
    "colab_type": "code",
    "id": "PijVHLI403WU"
   },
   "outputs": [],
   "source": [
    "model = tf.keras.Sequential([\n",
    "                          base_model,\n",
    "                          keras.layers.GlobalAveragePooling2D(),\n",
    "                          keras.layers.Dense(2, activation='softmax')])"
   ]
  },
  {
   "cell_type": "code",
   "execution_count": 37,
   "metadata": {
    "colab": {
     "base_uri": "https://localhost:8080/",
     "height": 252
    },
    "colab_type": "code",
    "id": "ClaB6WYlZiXy",
    "outputId": "83cfc6b9-a568-4ed3-c06a-0cb5064915c9"
   },
   "outputs": [
    {
     "name": "stdout",
     "output_type": "stream",
     "text": [
      "Model: \"sequential_1\"\n",
      "_________________________________________________________________\n",
      "Layer (type)                 Output Shape              Param #   \n",
      "=================================================================\n",
      "mobilenetv2_1.40_224 (Model) (None, 7, 7, 1792)        4363712   \n",
      "_________________________________________________________________\n",
      "global_average_pooling2d_1 ( (None, 1792)              0         \n",
      "_________________________________________________________________\n",
      "dense_1 (Dense)              (None, 2)                 3586      \n",
      "=================================================================\n",
      "Total params: 4,367,298\n",
      "Trainable params: 809,986\n",
      "Non-trainable params: 3,557,312\n",
      "_________________________________________________________________\n"
     ]
    }
   ],
   "source": [
    "model.summary()"
   ]
  },
  {
   "cell_type": "code",
   "execution_count": 38,
   "metadata": {
    "colab": {
     "base_uri": "https://localhost:8080/",
     "height": 34
    },
    "colab_type": "code",
    "id": "76eGwgrx57_1",
    "outputId": "ad3a8145-e1fa-45d4-cc7d-8947f9c3df55"
   },
   "outputs": [
    {
     "name": "stdout",
     "output_type": "stream",
     "text": [
      "WARNING:tensorflow:`period` argument is deprecated. Please use `save_freq` to specify the frequency in number of samples seen.\n"
     ]
    }
   ],
   "source": [
    "model.compile(loss=\"binary_crossentropy\", optimizer=\"adam\", metrics=['accuracy']) # binary classification\n",
    "\n",
    "model_file = \"mobilenet_tl_mt_model-{val_acc:.2f}.h5\"\n",
    "checkpoint = ModelCheckpoint(model_file, monitor=\"val_acc\", verbose=1, save_best_only=True,\n",
    "                             save_weights_only=True, mode=\"max\", period=1) # Checkpoint best validation model\n",
    "stop = EarlyStopping(monitor=\"val_acc\", patience=PATIENCE, mode=\"max\") # Stop early, if the validation error deteriorates\n",
    "reduce_lr = ReduceLROnPlateau(monitor=\"val_acc\", factor=0.2, patience=PATIENCE, min_lr=0.0001, verbose=1, mode=\"max\")\n",
    "\n",
    "time_callback = TimeHistory()"
   ]
  },
  {
   "cell_type": "markdown",
   "metadata": {},
   "source": [
    "# Train Model"
   ]
  },
  {
   "cell_type": "code",
   "execution_count": 35,
   "metadata": {
    "colab": {
     "base_uri": "https://localhost:8080/",
     "height": 709
    },
    "colab_type": "code",
    "id": "lvI2t27s6QTJ",
    "outputId": "6972d4fc-fe53-4abc-b085-7a47b6c9294c"
   },
   "outputs": [
    {
     "name": "stdout",
     "output_type": "stream",
     "text": [
      "Epoch 1/5\n",
      "WARNING:tensorflow:From /home/ec2-user/anaconda3/envs/tensorflow_p36/lib/python3.6/site-packages/tensorflow_core/python/ops/math_grad.py:1424: where (from tensorflow.python.ops.array_ops) is deprecated and will be removed in a future version.\n",
      "Instructions for updating:\n",
      "Use tf.where in 2.0, which has the same broadcast rule as np.where\n",
      "483/484 [============================>.] - ETA: 3s - loss: 0.4727 - acc: 0.7850Epoch 1/5\n",
      "121/484 [======>.......................] - ETA: 24:13 - loss: 0.7725 - acc: 0.7033\n",
      "Epoch 00001: val_acc improved from -inf to 0.70327, saving model to mobilenet_tl_mt_model-0.70.h5\n",
      "484/484 [==============================] - 2279s 5s/step - loss: 0.4727 - acc: 0.7850 - val_loss: 0.7725 - val_acc: 0.7033\n",
      "Epoch 2/5\n",
      "483/484 [============================>.] - ETA: 3s - loss: 0.3618 - acc: 0.8415Epoch 1/5\n",
      "121/484 [======>.......................] - ETA: 22:29 - loss: 0.8049 - acc: 0.7135\n",
      "Epoch 00002: val_acc improved from 0.70327 to 0.71353, saving model to mobilenet_tl_mt_model-0.71.h5\n",
      "484/484 [==============================] - 2228s 5s/step - loss: 0.3617 - acc: 0.8416 - val_loss: 0.8049 - val_acc: 0.7135\n",
      "Epoch 3/5\n",
      "483/484 [============================>.] - ETA: 3s - loss: 0.2824 - acc: 0.8834Epoch 1/5\n",
      "121/484 [======>.......................] - ETA: 22:23 - loss: 1.7238 - acc: 0.6886\n",
      "Epoch 00003: val_acc did not improve from 0.71353\n",
      "484/484 [==============================] - 2193s 5s/step - loss: 0.2823 - acc: 0.8834 - val_loss: 1.7238 - val_acc: 0.6886\n",
      "Epoch 4/5\n",
      "483/484 [============================>.] - ETA: 3s - loss: 0.1926 - acc: 0.9280Epoch 1/5\n",
      "121/484 [======>.......................] - ETA: 22:27 - loss: 1.6857 - acc: 0.6988\n",
      "Epoch 00004: val_acc did not improve from 0.71353\n",
      "\n",
      "Epoch 00004: ReduceLROnPlateau reducing learning rate to 0.00020000000949949026.\n",
      "484/484 [==============================] - 2129s 4s/step - loss: 0.1929 - acc: 0.9279 - val_loss: 1.6857 - val_acc: 0.6988\n"
     ]
    }
   ],
   "source": [
    "history = model.fit_generator(generator=train_dataGen,\n",
    "                    epochs=EPOCHS,\n",
    "                    callbacks=[checkpoint, reduce_lr, stop,time_callback],\n",
    "                    workers=THREADS,\n",
    "                    shuffle=True,\n",
    "                    validation_data = validation_datagen,\n",
    "                    verbose=1)"
   ]
  },
  {
   "cell_type": "code",
   "execution_count": 36,
   "metadata": {},
   "outputs": [
    {
     "name": "stdout",
     "output_type": "stream",
     "text": [
      "[2278.712639570236, 2227.6543097496033, 2193.3431684970856, 2129.2835037708282]\n"
     ]
    }
   ],
   "source": [
    "print(time_callback.times)"
   ]
  },
  {
   "cell_type": "markdown",
   "metadata": {
    "colab_type": "text",
    "id": "leNI3Spq2Vdn"
   },
   "source": [
    "# **Display accuracy & loss**"
   ]
  },
  {
   "cell_type": "code",
   "execution_count": 37,
   "metadata": {
    "colab": {},
    "colab_type": "code",
    "id": "QsbRQkP3L1zH"
   },
   "outputs": [],
   "source": [
    "acc = history.history['acc']\n",
    "val_acc = history.history['val_acc']\n",
    "\n",
    "loss = history.history['loss']\n",
    "val_loss = history.history['val_loss']"
   ]
  },
  {
   "cell_type": "code",
   "execution_count": 38,
   "metadata": {
    "colab": {
     "base_uri": "https://localhost:8080/",
     "height": 227
    },
    "colab_type": "code",
    "id": "fotnWGGUL9Gq",
    "outputId": "31d1394b-45a3-41bb-f3a4-0716d9597c7a"
   },
   "outputs": [
    {
     "data": {
      "image/png": "[encoded data removed]",
      "text/plain": [
       "<Figure size 360x216 with 1 Axes>"
      ]
     },
     "metadata": {},
     "output_type": "display_data"
    }
   ],
   "source": [
    "plt.figure(figsize=(5, 3))\n",
    "plt.plot(acc, label='Training Accuracy')\n",
    "plt.plot(val_acc, label='Validation Accuracy')\n",
    "plt.legend(loc='lower right')\n",
    "plt.ylabel('Accuracy')\n",
    "plt.ylim([min(plt.ylim()),1])\n",
    "plt.title('Training and Validation Accuracy')\n",
    "plt.show()"
   ]
  },
  {
   "cell_type": "code",
   "execution_count": 39,
   "metadata": {
    "colab": {
     "base_uri": "https://localhost:8080/",
     "height": 227
    },
    "colab_type": "code",
    "id": "dF3sYvcRMXOL",
    "outputId": "54a2a514-fbcb-487d-cb7f-21a8dcd80d8d"
   },
   "outputs": [
    {
     "data": {
      "image/png": "[encoded data removed]",
      "text/plain": [
       "<Figure size 360x216 with 1 Axes>"
      ]
     },
     "metadata": {},
     "output_type": "display_data"
    }
   ],
   "source": [
    "plt.figure(figsize=(5, 3))\n",
    "plt.plot(loss, label='Training Loss')\n",
    "plt.plot(val_loss, label='Validation Loss')\n",
    "plt.legend(loc='lower right')\n",
    "plt.ylabel('Cross Entropy')\n",
    "plt.ylim([0,max(plt.ylim())])\n",
    "plt.title('Training and Validation Loss')\n",
    "plt.show()"
   ]
  },
  {
   "cell_type": "markdown",
   "metadata": {
    "colab_type": "text",
    "id": "FYT1pKcd5PLo"
   },
   "source": [
    "# **Prediction**\n",
    "load weights"
   ]
  },
  {
   "cell_type": "code",
   "execution_count": 39,
   "metadata": {},
   "outputs": [],
   "source": [
    "model.load_weights('/home/ec2-user/SageMaker/mobilenet_tl_mt_model-0.71.h5') #change if required"
   ]
  },
  {
   "cell_type": "code",
   "execution_count": 40,
   "metadata": {},
   "outputs": [],
   "source": [
    "session = boto3.Session()\n",
    "s3_session = session.client('s3')"
   ]
  },
  {
   "cell_type": "code",
   "execution_count": 41,
   "metadata": {
    "colab": {},
    "colab_type": "code",
    "id": "Jf4lOXYt6Mpw"
   },
   "outputs": [],
   "source": [
    "def getTestImage(filename):\n",
    "  #print('filename ', filename)\n",
    "  f = train_dicom_dir +  filename\n",
    "    \n",
    "  fileobj = s3_session.get_object(Bucket=root_path,  Key=f )\n",
    "  dicom_data = fileobj['Body'].read()\n",
    "  dicom_bytes = DicomBytesIO(dicom_data)\n",
    "  c_dicom = dcmread(dicom_bytes) \n",
    "            \n",
    "  \n",
    "  image = c_dicom.pixel_array\n",
    "  # If grayscale. Convert to RGB for consistency.\n",
    "  if len(image.shape) != 3 or image.shape[2] != 3: \n",
    "    img = np.stack((image,) * 3, -1)\n",
    " \n",
    "  dim = (IMAGE_SIZE, IMAGE_SIZE)\n",
    "  img = cv2.resize(img, dim, interpolation = cv2.INTER_AREA)\n",
    "            \n",
    "  #print(' File ', f, ' img shape ', img.shape )\n",
    "  img = preprocess_input(np.array(img, dtype=np.float32)) # Convert to float32 array\n",
    "  return img"
   ]
  },
  {
   "cell_type": "code",
   "execution_count": 42,
   "metadata": {
    "colab": {
     "base_uri": "https://localhost:8080/",
     "height": 185
    },
    "colab_type": "code",
    "id": "iaNihTqAgp9k",
    "outputId": "937bc707-a58c-4167-e7b2-46ab3bc2fc4f"
   },
   "outputs": [
    {
     "name": "stdout",
     "output_type": "stream",
     "text": [
      "<class 'pandas.core.frame.DataFrame'>\n",
      "RangeIndex: 3000 entries, 0 to 2999\n",
      "Data columns (total 3 columns):\n",
      "index     3000 non-null int64\n",
      "Images    3000 non-null object\n",
      "Target    3000 non-null int64\n",
      "dtypes: int64(2), object(1)\n",
      "memory usage: 70.4+ KB\n"
     ]
    }
   ],
   "source": [
    "test_set = pd.DataFrame()\n",
    "test_set = training_data_1.sort_values(by ='Images', ascending=False )\n",
    "test_set = test_set.iloc[:3000]\n",
    "test_set.reset_index(inplace= True)\n",
    "test_set.info()"
   ]
  },
  {
   "cell_type": "code",
   "execution_count": 43,
   "metadata": {
    "colab": {},
    "colab_type": "code",
    "id": "7b6s7jom6H2P"
   },
   "outputs": [],
   "source": [
    "def predict_test(test_data_df): \n",
    "\n",
    "      cm_df = pd.DataFrame(columns = ['patientId', 'y_true', 'y_pred']) \n",
    "      #print ('Info ' , test_data_df.info()) \n",
    "      threshold = 0.4\n",
    "\n",
    "      \n",
    "      for ind in test_data_df.index: \n",
    "        f = test_data_df['Images'][ind]\n",
    "        y_true = test_data_df['Target'][ind]\n",
    "        #print ('f ', f , ' y_true ', 'y_true')\n",
    "        img = getTestImage(f)\n",
    "        img = np.expand_dims(img, axis=0) \n",
    "            \n",
    "        results = model.predict(img)\n",
    "        #print('results ', results)\n",
    "        if results[0][0] >= threshold:\n",
    "          y_pred = 1\n",
    "        else:\n",
    "          y_pred = 0\n",
    "        #print ( ' patient ' , f , ' y_true ', y_true , ' y_pred ' , y_pred, ' results ', results )\n",
    "        cm_df = cm_df.append ({'patientId': f, 'y_true' : y_true , 'y_pred' : y_pred}, ignore_index=True)\n",
    "      return cm_df"
   ]
  },
  {
   "cell_type": "code",
   "execution_count": 44,
   "metadata": {
    "colab": {
     "base_uri": "https://localhost:8080/",
     "height": 1000
    },
    "colab_type": "code",
    "id": "Qc5htQscNR0x",
    "outputId": "b8d096d4-ac47-408e-bbfe-786147c382a8"
   },
   "outputs": [],
   "source": [
    "cm_df = predict_test(test_set)"
   ]
  },
  {
   "cell_type": "markdown",
   "metadata": {},
   "source": [
    "# Confusion Matrix"
   ]
  },
  {
   "cell_type": "code",
   "execution_count": 45,
   "metadata": {
    "colab": {
     "base_uri": "https://localhost:8080/",
     "height": 279
    },
    "colab_type": "code",
    "id": "GZ_OJMs16RuA",
    "outputId": "cdb324f6-2686-4e71-e659-9bf10c72e89e"
   },
   "outputs": [
    {
     "data": {
      "image/png": "[encoded data removed]",
      "text/plain": [
       "<Figure size 288x288 with 1 Axes>"
      ]
     },
     "metadata": {},
     "output_type": "display_data"
    }
   ],
   "source": [
    "y_true = cm_df['y_true'].to_list()\n",
    "y_pred = cm_df['y_pred'].to_list()\n",
    "\n",
    "CM = confusion_matrix(y_true, y_pred)\n",
    "\n",
    "fig, ax = plot_confusion_matrix(conf_mat=CM ,  figsize=(4, 4))\n",
    "\n",
    "plt.show()"
   ]
  },
  {
   "cell_type": "markdown",
   "metadata": {},
   "source": [
    "# Metrics"
   ]
  },
  {
   "cell_type": "code",
   "execution_count": 50,
   "metadata": {},
   "outputs": [],
   "source": [
    "from sklearn.metrics import classification_report"
   ]
  },
  {
   "cell_type": "code",
   "execution_count": 51,
   "metadata": {},
   "outputs": [
    {
     "name": "stdout",
     "output_type": "stream",
     "text": [
      "              precision    recall  f1-score   support\n",
      "\n",
      "           0       0.84      0.96      0.90      2365\n",
      "           1       0.69      0.30      0.42       635\n",
      "\n",
      "    accuracy                           0.82      3000\n",
      "   macro avg       0.77      0.63      0.66      3000\n",
      "weighted avg       0.81      0.82      0.80      3000\n",
      "\n"
     ]
    }
   ],
   "source": [
    "print(classification_report(y_true, y_pred, labels=[0,1]))"
   ]
  },
  {
   "cell_type": "code",
   "execution_count": null,
   "metadata": {},
   "outputs": [],
   "source": []
  }
 ],
 "metadata": {
  "colab": {
   "collapsed_sections": [],
   "name": "Capstone_PD_Mobilenet_TL_Fit.ipynb",
   "provenance": []
  },
  "kernelspec": {
   "display_name": "conda_tensorflow_p36",
   "language": "python",
   "name": "conda_tensorflow_p36"
  },
  "language_info": {
   "codemirror_mode": {
    "name": "ipython",
    "version": 3
   },
   "file_extension": ".py",
   "mimetype": "text/x-python",
   "name": "python",
   "nbconvert_exporter": "python",
   "pygments_lexer": "ipython3",
   "version": "3.6.6"
  }
 },
 "nbformat": 4,
 "nbformat_minor": 4
}
