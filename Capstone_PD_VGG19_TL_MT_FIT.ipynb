{
 "cells": [
  {
   "cell_type": "markdown",
   "metadata": {
    "colab_type": "text",
    "id": "E8e8GGORPGdT"
   },
   "source": [
    "# VGG19 Transfer Learning & Model Training"
   ]
  },
  {
   "cell_type": "code",
   "execution_count": null,
   "metadata": {},
   "outputs": [],
   "source": [
    "import boto3, re\n",
    "from sagemaker import get_execution_role\n",
    "role = get_execution_role()"
   ]
  },
  {
   "cell_type": "code",
   "execution_count": null,
   "metadata": {
    "scrolled": true
   },
   "outputs": [],
   "source": [
    "import tensorflow\n",
    "print(tensorflow.__version__)"
   ]
  },
  {
   "cell_type": "code",
   "execution_count": null,
   "metadata": {
    "colab": {
     "base_uri": "https://localhost:8080/",
     "height": 34
    },
    "colab_type": "code",
    "id": "c39DyzcvXVzB",
    "outputId": "e6785853-4714-4029-8a9c-f9da2f57e7bf"
   },
   "outputs": [],
   "source": [
    "!pip install pydicom"
   ]
  },
  {
   "cell_type": "code",
   "execution_count": null,
   "metadata": {},
   "outputs": [],
   "source": [
    "!pip install mlxtend  "
   ]
  },
  {
   "cell_type": "markdown",
   "metadata": {},
   "source": [
    "# Import dependencies"
   ]
  },
  {
   "cell_type": "code",
   "execution_count": null,
   "metadata": {
    "colab": {},
    "colab_type": "code",
    "id": "zCD9tuX4X_g6"
   },
   "outputs": [],
   "source": [
    "import tensorflow as tf\n",
    "from tensorflow import keras\n",
    "from tensorflow.keras.models import Sequential\n",
    "from tensorflow.keras.layers import Dense, Conv2D, MaxPooling2D, Flatten\n",
    "import numpy as np\n",
    "import matplotlib.pyplot as plt\n",
    "import pandas as pd\n",
    "import os\n",
    "from tensorflow.keras.utils import Sequence\n",
    "import math\n",
    "import pydicom\n",
    "from tensorflow.keras.applications.vgg19 import VGG19, preprocess_input\n",
    "from tensorflow.keras.callbacks import ModelCheckpoint, EarlyStopping, ReduceLROnPlateau, Callback\n",
    "import seaborn as sns\n",
    "from pydicom import dcmread\n",
    "from pydicom.filebase import DicomBytesIO\n",
    "import cv2\n",
    "from mlxtend.plotting import plot_confusion_matrix\n",
    "from sklearn.metrics import confusion_matrix\n",
    "import time"
   ]
  },
  {
   "cell_type": "code",
   "execution_count": null,
   "metadata": {},
   "outputs": [],
   "source": [
    "class TimeHistory(keras.callbacks.Callback):\n",
    "    def on_train_begin(self, logs={}):\n",
    "        self.times = []\n",
    "\n",
    "    def on_epoch_begin(self, epoch, logs={}):\n",
    "        self.epoch_time_start = time.time()\n",
    "\n",
    "    def on_epoch_end(self, epoch, logs={}):\n",
    "        self.times.append(time.time() - self.epoch_time_start)"
   ]
  },
  {
   "cell_type": "markdown",
   "metadata": {
    "colab_type": "text",
    "id": "b8n21VASYLy0"
   },
   "source": [
    "# Load Labels"
   ]
  },
  {
   "cell_type": "code",
   "execution_count": null,
   "metadata": {
    "colab": {},
    "colab_type": "code",
    "id": "rvZU8hOdYOJU"
   },
   "outputs": [],
   "source": [
    "root_path = 'sagemaker-capstone-pd'\n",
    "train_dicom_dir = 'pneumonia-dataset/stage_2_train_images/'\n",
    "train_lables_filename = 'pneumonia-dataset/stage_2_train_labels.csv'\n"
   ]
  },
  {
   "cell_type": "code",
   "execution_count": null,
   "metadata": {},
   "outputs": [],
   "source": [
    "def load_csv_file(path, filename):\n",
    "  bucket = path\n",
    "  data_key = filename\n",
    "  data_location = 's3://{}/{}'.format(bucket, data_key) \n",
    "  train_labels_df = pd.read_csv(data_location)\n",
    "  return train_labels_df"
   ]
  },
  {
   "cell_type": "code",
   "execution_count": null,
   "metadata": {},
   "outputs": [],
   "source": [
    "training_data = load_csv_file(root_path,train_lables_filename )"
   ]
  },
  {
   "cell_type": "code",
   "execution_count": null,
   "metadata": {
    "colab": {
     "base_uri": "https://localhost:8080/",
     "height": 34
    },
    "colab_type": "code",
    "id": "Nv0eP9wsYoaU",
    "outputId": "07cf96a9-240c-4491-8044-443f425beb56"
   },
   "outputs": [],
   "source": [
    "print(training_data.shape)"
   ]
  },
  {
   "cell_type": "code",
   "execution_count": null,
   "metadata": {
    "colab": {
     "base_uri": "https://localhost:8080/",
     "height": 195
    },
    "colab_type": "code",
    "id": "RUjk35iDYthL",
    "outputId": "da0fac61-4689-4502-96d2-ddc9a8de16eb"
   },
   "outputs": [],
   "source": [
    "training_data.head()"
   ]
  },
  {
   "cell_type": "code",
   "execution_count": null,
   "metadata": {
    "colab": {},
    "colab_type": "code",
    "id": "-iq4PX7wZBi0"
   },
   "outputs": [],
   "source": [
    "training_imgs = [\"{}.dcm\".format(x) for x in list(training_data.patientId)]"
   ]
  },
  {
   "cell_type": "code",
   "execution_count": null,
   "metadata": {
    "colab": {
     "base_uri": "https://localhost:8080/",
     "height": 54
    },
    "colab_type": "code",
    "id": "oKDyUPRgZRPk",
    "outputId": "f9237615-8afb-4674-c473-aa9b65d31fe2"
   },
   "outputs": [],
   "source": [
    "print(training_imgs[:5])"
   ]
  },
  {
   "cell_type": "code",
   "execution_count": null,
   "metadata": {
    "colab": {},
    "colab_type": "code",
    "id": "1zqeZAh5aEbC"
   },
   "outputs": [],
   "source": [
    "training_labels_1 = list(training_data['Target'])"
   ]
  },
  {
   "cell_type": "code",
   "execution_count": null,
   "metadata": {
    "colab": {
     "base_uri": "https://localhost:8080/",
     "height": 34
    },
    "colab_type": "code",
    "id": "vOxhsIOgaJHz",
    "outputId": "52a4cb26-b8b2-485a-eef9-d7ced2b95454"
   },
   "outputs": [],
   "source": [
    "print(training_labels_1[:5])"
   ]
  },
  {
   "cell_type": "code",
   "execution_count": null,
   "metadata": {
    "colab": {},
    "colab_type": "code",
    "id": "UnCqWnoNanLY"
   },
   "outputs": [],
   "source": [
    "training_data_1 = pd.DataFrame( {'Images': training_imgs,'Target': training_labels_1})\n"
   ]
  },
  {
   "cell_type": "code",
   "execution_count": null,
   "metadata": {
    "colab": {
     "base_uri": "https://localhost:8080/",
     "height": 168
    },
    "colab_type": "code",
    "id": "mM_dWvwcatEu",
    "outputId": "0370d03e-0ea6-45dd-ac86-6228896d9c31"
   },
   "outputs": [],
   "source": [
    "training_data_1.info()"
   ]
  },
  {
   "cell_type": "code",
   "execution_count": null,
   "metadata": {
    "colab": {
     "base_uri": "https://localhost:8080/",
     "height": 195
    },
    "colab_type": "code",
    "id": "aDlpxIY_a2T3",
    "outputId": "9485011f-5d1c-4efb-a81e-98264893db49"
   },
   "outputs": [],
   "source": [
    "training_data_1.head()"
   ]
  },
  {
   "cell_type": "markdown",
   "metadata": {},
   "source": [
    "# Train & Validation split"
   ]
  },
  {
   "cell_type": "code",
   "execution_count": null,
   "metadata": {
    "colab": {
     "base_uri": "https://localhost:8080/",
     "height": 168
    },
    "colab_type": "code",
    "id": "5wUGuBJ1baJo",
    "outputId": "60290a12-ccec-4065-ce75-51225b378194"
   },
   "outputs": [],
   "source": [
    "from sklearn.model_selection import train_test_split\n",
    "\n",
    "# Sort the rows of dataframe by column 'Images'\n",
    "training_data_1 = training_data_1.sort_values(by ='Images', ascending=True )\n",
    "#temp_df = training_data_1.iloc[:100] use only for testing\n",
    "temp_df = training_data_1\n",
    "temp_df.info()"
   ]
  },
  {
   "cell_type": "code",
   "execution_count": null,
   "metadata": {
    "colab": {},
    "colab_type": "code",
    "id": "nCslD869-7Ip"
   },
   "outputs": [],
   "source": [
    "training_set = pd.DataFrame()\n",
    "validation_set = pd.DataFrame()\n",
    "\n",
    "training_set, validation_set = train_test_split(temp_df, random_state = 0, test_size = 0.2)"
   ]
  },
  {
   "cell_type": "code",
   "execution_count": null,
   "metadata": {
    "colab": {
     "base_uri": "https://localhost:8080/",
     "height": 386
    },
    "colab_type": "code",
    "id": "zGFWExIVbiOK",
    "outputId": "ddd68ac6-70f4-49b5-b5af-6c3bca5374e5"
   },
   "outputs": [],
   "source": [
    "training_set.reset_index(inplace = True)\n",
    "validation_set.reset_index(inplace = True)\n",
    "\n",
    "print(training_set.info())\n",
    "print(validation_set.info())"
   ]
  },
  {
   "cell_type": "code",
   "execution_count": null,
   "metadata": {
    "colab": {
     "base_uri": "https://localhost:8080/",
     "height": 279
    },
    "colab_type": "code",
    "id": "VEWyLWy0-MT9",
    "outputId": "54c47bcd-f702-4be2-9318-4aea6b05903e"
   },
   "outputs": [],
   "source": [
    "ax = sns.countplot(x=\"Target\", data=training_set)"
   ]
  },
  {
   "cell_type": "code",
   "execution_count": null,
   "metadata": {
    "colab": {
     "base_uri": "https://localhost:8080/",
     "height": 279
    },
    "colab_type": "code",
    "id": "V-aH_MYa-kh0",
    "outputId": "4cee2b2e-e65f-4a31-b561-d77ec794c56a"
   },
   "outputs": [],
   "source": [
    "ax = sns.countplot(x=\"Target\", data=validation_set)"
   ]
  },
  {
   "cell_type": "code",
   "execution_count": null,
   "metadata": {
    "colab": {
     "base_uri": "https://localhost:8080/",
     "height": 195
    },
    "colab_type": "code",
    "id": "xH3WYbbgmvbJ",
    "outputId": "27467ac2-d051-42c1-ec4b-7c82c1edf947"
   },
   "outputs": [],
   "source": [
    "training_set.head()"
   ]
  },
  {
   "cell_type": "code",
   "execution_count": null,
   "metadata": {
    "colab": {},
    "colab_type": "code",
    "id": "_kXQjHKWzZMH"
   },
   "outputs": [],
   "source": [
    "IMAGE_SIZE = 224\n",
    "BATCH_SIZE = 50\n",
    "EPOCHS = 5 # Number of epochs.\n",
    "PATIENCE = 2 # Patience for early stopping\n",
    "MULTI_PROCESSING = True \n",
    "THREADS = 1\n",
    "IMG_SHAPE = (IMAGE_SIZE, IMAGE_SIZE, 3)"
   ]
  },
  {
   "cell_type": "code",
   "execution_count": null,
   "metadata": {
    "colab": {},
    "colab_type": "code",
    "id": "r61q-XirvjEV"
   },
   "outputs": [],
   "source": [
    "# Training Data Generator\n",
    "\n",
    "class DataGen(Sequence):\n",
    "    def __init__(self, data_df):\n",
    "        self.paths = []\n",
    "        df_len = len(data_df)\n",
    "        self.pneumonia_calss = np.zeros((df_len,2))\n",
    "        for index, row in data_df.iterrows():\n",
    "          #print(index)\n",
    "          path = row['Images']\n",
    "          classes = row['Target']\n",
    "          self.paths.append(path) # Read image from here\n",
    "          #self.pneumonia_calss.append(classes) # Read target from here\n",
    "          if classes == 1:\n",
    "            self.pneumonia_calss[index, 0] = 1\n",
    "            self.pneumonia_calss[index, 1] = 0\n",
    "          else:\n",
    "            self.pneumonia_calss[index, 0] = 0\n",
    "            self.pneumonia_calss[index, 1] = 1\n",
    "        \n",
    "\n",
    "    def __len__(self):\n",
    "        return math.ceil(len(self.pneumonia_calss) / BATCH_SIZE)\n",
    "\n",
    "    def __getitem__(self, idx): # Get a batch\n",
    "        batch_paths = self.paths[idx * BATCH_SIZE:(idx + 1) * BATCH_SIZE] # Image path\n",
    "        batch_coords = self.pneumonia_calss[idx * BATCH_SIZE:(idx + 1) * BATCH_SIZE] # Image coords\n",
    "\n",
    "        batch_images = np.zeros((len(batch_paths), IMAGE_SIZE, IMAGE_SIZE, 3), dtype=np.float32)\n",
    "        session = boto3.Session()\n",
    "        s3_session = session.client('s3')\n",
    "        for i, f in enumerate(batch_paths):\n",
    "            \n",
    "            f = train_dicom_dir +  f\n",
    "            #print('file for loading ',  f)\n",
    "            fileobj = s3_session.get_object(Bucket=root_path,  Key=f )\n",
    "            dicom_data = fileobj['Body'].read()\n",
    "            dicom_bytes = DicomBytesIO(dicom_data)\n",
    "            c_dicom = dcmread(dicom_bytes) \n",
    "            image = c_dicom.pixel_array\n",
    "            # If grayscale. Convert to RGB for consistency.\n",
    "            if len(image.shape) != 3 or image.shape[2] != 3: \n",
    "                img = np.stack((image,) * 3, -1)\n",
    " \n",
    "            dim = (IMAGE_SIZE, IMAGE_SIZE)\n",
    "            img = cv2.resize(img, dim, interpolation = cv2.INTER_AREA)\n",
    "            #print(' File ', f, ' img shape ', img.shape )\n",
    "            batch_images[i] = preprocess_input(np.array(img, dtype=np.float32)) # Convert to float32 array\n",
    "            #print('batch_coords' , batch_coords)\n",
    "            \n",
    "        return batch_images, batch_coords"
   ]
  },
  {
   "cell_type": "code",
   "execution_count": null,
   "metadata": {
    "colab": {},
    "colab_type": "code",
    "id": "g28Jvk2ne2-x"
   },
   "outputs": [],
   "source": [
    "train_dataGen  = DataGen(training_set)\n",
    "validation_datagen = DataGen(validation_set)"
   ]
  },
  {
   "cell_type": "markdown",
   "metadata": {},
   "source": [
    "# Model Initialization"
   ]
  },
  {
   "cell_type": "code",
   "execution_count": null,
   "metadata": {
    "colab": {},
    "colab_type": "code",
    "id": "-a6JOsj80mOQ"
   },
   "outputs": [],
   "source": [
    "base_model = tf.keras.applications.VGG19(input_shape=IMG_SHAPE, include_top=False, weights='imagenet')"
   ]
  },
  {
   "cell_type": "markdown",
   "metadata": {},
   "source": [
    "# Trianable Layers"
   ]
  },
  {
   "cell_type": "code",
   "execution_count": null,
   "metadata": {
    "colab": {},
    "colab_type": "code",
    "id": "bP3tTjpU0weh"
   },
   "outputs": [],
   "source": [
    "base_model.trainable = True\n",
    "for layer in base_model.layers[:-2]:\n",
    "    layer.trainable = False\n",
    "\n",
    "for layer in base_model.layers:\n",
    "    print(layer, layer.trainable)"
   ]
  },
  {
   "cell_type": "code",
   "execution_count": null,
   "metadata": {
    "colab": {
     "base_uri": "https://localhost:8080/",
     "height": 1000
    },
    "colab_type": "code",
    "id": "i4M-IBiaZ3kA",
    "outputId": "303e5886-23ae-486f-dbdc-e4d6ac4ba217"
   },
   "outputs": [],
   "source": [
    "base_model.summary()"
   ]
  },
  {
   "cell_type": "code",
   "execution_count": null,
   "metadata": {
    "colab": {},
    "colab_type": "code",
    "id": "PijVHLI403WU"
   },
   "outputs": [],
   "source": [
    "model = tf.keras.Sequential([\n",
    "                          base_model,\n",
    "                          keras.layers.Flatten(),\n",
    "                          keras.layers.Dense(4096, activation='relu'),\n",
    "                          keras.layers.Dense(4096, activation='relu'),\n",
    "                          keras.layers.Dense(2, activation='sigmoid')])"
   ]
  },
  {
   "cell_type": "code",
   "execution_count": null,
   "metadata": {
    "colab": {
     "base_uri": "https://localhost:8080/",
     "height": 252
    },
    "colab_type": "code",
    "id": "ClaB6WYlZiXy",
    "outputId": "83cfc6b9-a568-4ed3-c06a-0cb5064915c9"
   },
   "outputs": [],
   "source": [
    "model.summary()"
   ]
  },
  {
   "cell_type": "code",
   "execution_count": null,
   "metadata": {
    "colab": {
     "base_uri": "https://localhost:8080/",
     "height": 34
    },
    "colab_type": "code",
    "id": "76eGwgrx57_1",
    "outputId": "ad3a8145-e1fa-45d4-cc7d-8947f9c3df55"
   },
   "outputs": [],
   "source": [
    "model.compile(loss=\"binary_crossentropy\", optimizer=\"adam\", metrics=['accuracy']) # binary classification\n",
    "\n",
    "model_file = \"vgg19_tl_mt_model-{val_acc:.2f}.h5\"\n",
    "checkpoint = ModelCheckpoint(model_file, monitor=\"val_acc\", verbose=1, save_best_only=True,\n",
    "                             save_weights_only=True, mode=\"max\", period=1) # Checkpoint best validation model\n",
    "stop = EarlyStopping(monitor=\"val_acc\", patience=PATIENCE, mode=\"max\") # Stop early, if the validation error deteriorates\n",
    "reduce_lr = ReduceLROnPlateau(monitor=\"val_acc\", factor=0.2, patience=PATIENCE, min_lr=0.0001, verbose=1, mode=\"max\")\n",
    "\n",
    "time_callback = TimeHistory()"
   ]
  },
  {
   "cell_type": "markdown",
   "metadata": {},
   "source": [
    "# Model Training"
   ]
  },
  {
   "cell_type": "code",
   "execution_count": null,
   "metadata": {
    "colab": {
     "base_uri": "https://localhost:8080/",
     "height": 709
    },
    "colab_type": "code",
    "id": "lvI2t27s6QTJ",
    "outputId": "6972d4fc-fe53-4abc-b085-7a47b6c9294c"
   },
   "outputs": [],
   "source": [
    "history = model.fit_generator(generator=train_dataGen,\n",
    "                    epochs=EPOCHS,\n",
    "                    callbacks=[checkpoint, reduce_lr, stop, time_callback],\n",
    "                    workers=THREADS,\n",
    "                    shuffle=True,\n",
    "                    validation_data = validation_datagen,\n",
    "                    verbose=1)"
   ]
  },
  {
   "cell_type": "code",
   "execution_count": 64,
   "metadata": {},
   "outputs": [
    {
     "name": "stdout",
     "output_type": "stream",
     "text": [
      "[3095.168212890625, 3138.3216836452484, 3259.3040692806244, 3290.9669563770294, 3383.6506164073944]\n"
     ]
    }
   ],
   "source": [
    "print(time_callback.times)"
   ]
  },
  {
   "cell_type": "markdown",
   "metadata": {
    "colab_type": "text",
    "id": "leNI3Spq2Vdn"
   },
   "source": [
    "# **Display accuracy & loss**"
   ]
  },
  {
   "cell_type": "code",
   "execution_count": null,
   "metadata": {
    "colab": {},
    "colab_type": "code",
    "id": "QsbRQkP3L1zH"
   },
   "outputs": [],
   "source": [
    "acc = history.history['acc']\n",
    "val_acc = history.history['val_acc']\n",
    "\n",
    "loss = history.history['loss']\n",
    "val_loss = history.history['val_loss']"
   ]
  },
  {
   "cell_type": "code",
   "execution_count": 67,
   "metadata": {},
   "outputs": [
    {
     "name": "stdout",
     "output_type": "stream",
     "text": [
      "loss  [2.2394272569642606, 0.4411738374349492, 0.4269755062204669, 0.4187854143921581, 0.4076269400691154]  acc [0.7712874, 0.7890079, 0.80329597, 0.80852735, 0.81557834]  val_loss  [0.4790626995819659, 0.46283653994237095, 0.430096403626371, 0.435171988631083, 0.42650631107082054]  val_acc  [0.7748925, 0.7735693, 0.79589814, 0.7980483, 0.80400264]\n"
     ]
    }
   ],
   "source": [
    "print ('loss ', loss, ' acc' , acc, ' val_loss ', val_loss, ' val_acc ', val_acc)"
   ]
  },
  {
   "cell_type": "code",
   "execution_count": null,
   "metadata": {
    "colab": {
     "base_uri": "https://localhost:8080/",
     "height": 227
    },
    "colab_type": "code",
    "id": "fotnWGGUL9Gq",
    "outputId": "31d1394b-45a3-41bb-f3a4-0716d9597c7a"
   },
   "outputs": [],
   "source": [
    "plt.figure(figsize=(5, 3))\n",
    "plt.plot(acc, label='Training Accuracy')\n",
    "plt.plot(val_acc, label='Validation Accuracy')\n",
    "plt.legend(loc='lower right')\n",
    "plt.ylabel('Accuracy')\n",
    "plt.ylim([min(plt.ylim()),1])\n",
    "plt.title('Training and Validation Accuracy')\n",
    "plt.show()"
   ]
  },
  {
   "cell_type": "code",
   "execution_count": null,
   "metadata": {
    "colab": {
     "base_uri": "https://localhost:8080/",
     "height": 227
    },
    "colab_type": "code",
    "id": "dF3sYvcRMXOL",
    "outputId": "54a2a514-fbcb-487d-cb7f-21a8dcd80d8d"
   },
   "outputs": [],
   "source": [
    "plt.figure(figsize=(5, 3))\n",
    "plt.plot(loss, label='Training Loss')\n",
    "plt.plot(val_loss, label='Validation Loss')\n",
    "plt.legend(loc='lower right')\n",
    "plt.ylabel('Cross Entropy')\n",
    "plt.ylim([0,max(plt.ylim())])\n",
    "plt.title('Training and Validation Loss')\n",
    "plt.show()"
   ]
  },
  {
   "cell_type": "markdown",
   "metadata": {
    "colab_type": "text",
    "id": "FYT1pKcd5PLo"
   },
   "source": [
    "# **Prediction**\n",
    "load weights"
   ]
  },
  {
   "cell_type": "code",
   "execution_count": null,
   "metadata": {},
   "outputs": [],
   "source": [
    "model.load_weights('/home/ec2-user/SageMaker/vgg19_tl_mt_model-0.80.h5') #change if required"
   ]
  },
  {
   "cell_type": "code",
   "execution_count": null,
   "metadata": {},
   "outputs": [],
   "source": [
    "session = boto3.Session()\n",
    "s3_session = session.client('s3')"
   ]
  },
  {
   "cell_type": "code",
   "execution_count": null,
   "metadata": {
    "colab": {},
    "colab_type": "code",
    "id": "Jf4lOXYt6Mpw"
   },
   "outputs": [],
   "source": [
    "def getTestImage(filename):\n",
    "  #print('filename ', filename)\n",
    "  f = train_dicom_dir +  filename\n",
    "    \n",
    "  fileobj = s3_session.get_object(Bucket=root_path,  Key=f )\n",
    "  dicom_data = fileobj['Body'].read()\n",
    "  dicom_bytes = DicomBytesIO(dicom_data)\n",
    "  c_dicom = dcmread(dicom_bytes) \n",
    "            \n",
    "  \n",
    "  image = c_dicom.pixel_array\n",
    "  # If grayscale. Convert to RGB for consistency.\n",
    "  if len(image.shape) != 3 or image.shape[2] != 3: \n",
    "    img = np.stack((image,) * 3, -1)\n",
    " \n",
    "  dim = (IMAGE_SIZE, IMAGE_SIZE)\n",
    "  img = cv2.resize(img, dim, interpolation = cv2.INTER_AREA)\n",
    "            \n",
    "  #print(' File ', f, ' img shape ', img.shape )\n",
    "  img = preprocess_input(np.array(img, dtype=np.float32)) # Convert to float32 array\n",
    "  return img"
   ]
  },
  {
   "cell_type": "code",
   "execution_count": null,
   "metadata": {
    "colab": {
     "base_uri": "https://localhost:8080/",
     "height": 185
    },
    "colab_type": "code",
    "id": "iaNihTqAgp9k",
    "outputId": "937bc707-a58c-4167-e7b2-46ab3bc2fc4f"
   },
   "outputs": [],
   "source": [
    "test_set = pd.DataFrame()\n",
    "test_set = training_data_1.sort_values(by ='Images', ascending=False )\n",
    "test_set = test_set.iloc[:3000]\n",
    "test_set.reset_index(inplace= True)\n",
    "test_set.info()"
   ]
  },
  {
   "cell_type": "code",
   "execution_count": null,
   "metadata": {
    "colab": {},
    "colab_type": "code",
    "id": "7b6s7jom6H2P"
   },
   "outputs": [],
   "source": [
    "def predict_test(test_data_df): \n",
    "\n",
    "      cm_df = pd.DataFrame(columns = ['patientId', 'y_true', 'y_pred']) \n",
    "      #print ('Info ' , test_data_df.info()) \n",
    "      threshold = 0.4\n",
    "\n",
    "      \n",
    "      for ind in test_data_df.index: \n",
    "        f = test_data_df['Images'][ind]\n",
    "        y_true = test_data_df['Target'][ind]\n",
    "        #print ('f ', f , ' y_true ', 'y_true')\n",
    "        img = getTestImage(f)\n",
    "        img = np.expand_dims(img, axis=0) \n",
    "            \n",
    "        results = model.predict(img)\n",
    "        #print('results ', results)\n",
    "        if results[0][0] >= threshold:\n",
    "          y_pred = 1\n",
    "        else:\n",
    "          y_pred = 0\n",
    "        #print ( ' patient ' , f , ' y_true ', y_true , ' y_pred ' , y_pred, ' results ', results )\n",
    "        cm_df = cm_df.append ({'patientId': f, 'y_true' : y_true , 'y_pred' : y_pred}, ignore_index=True)\n",
    "      return cm_df"
   ]
  },
  {
   "cell_type": "code",
   "execution_count": 60,
   "metadata": {
    "colab": {
     "base_uri": "https://localhost:8080/",
     "height": 1000
    },
    "colab_type": "code",
    "id": "Qc5htQscNR0x",
    "outputId": "b8d096d4-ac47-408e-bbfe-786147c382a8"
   },
   "outputs": [],
   "source": [
    "cm_df = predict_test(test_set)"
   ]
  },
  {
   "cell_type": "code",
   "execution_count": 61,
   "metadata": {
    "colab": {
     "base_uri": "https://localhost:8080/",
     "height": 279
    },
    "colab_type": "code",
    "id": "GZ_OJMs16RuA",
    "outputId": "cdb324f6-2686-4e71-e659-9bf10c72e89e"
   },
   "outputs": [
    {
     "data": {
      "image/png": "[encoded data removed]",
      "text/plain": [
       "<Figure size 288x288 with 1 Axes>"
      ]
     },
     "metadata": {},
     "output_type": "display_data"
    }
   ],
   "source": [
    "y_true = cm_df['y_true'].to_list()\n",
    "y_pred = cm_df['y_pred'].to_list()\n",
    "\n",
    "CM = confusion_matrix(y_true, y_pred)\n",
    "\n",
    "fig, ax = plot_confusion_matrix(conf_mat=CM ,  figsize=(4, 4))\n",
    "\n",
    "plt.show()"
   ]
  },
  {
   "cell_type": "code",
   "execution_count": 62,
   "metadata": {},
   "outputs": [],
   "source": [
    "from sklearn.metrics import classification_report"
   ]
  },
  {
   "cell_type": "code",
   "execution_count": 63,
   "metadata": {},
   "outputs": [
    {
     "name": "stdout",
     "output_type": "stream",
     "text": [
      "              precision    recall  f1-score   support\n",
      "\n",
      "           0       0.96      0.81      0.88      2365\n",
      "           1       0.55      0.89      0.68       635\n",
      "\n",
      "    accuracy                           0.82      3000\n",
      "   macro avg       0.76      0.85      0.78      3000\n",
      "weighted avg       0.88      0.82      0.84      3000\n",
      "\n"
     ]
    }
   ],
   "source": [
    "print(classification_report(y_true, y_pred, labels=[0,1]))"
   ]
  },
  {
   "cell_type": "code",
   "execution_count": null,
   "metadata": {},
   "outputs": [],
   "source": []
  }
 ],
 "metadata": {
  "colab": {
   "collapsed_sections": [],
   "name": "Capstone_PD_Mobilenet_TL_Fit.ipynb",
   "provenance": []
  },
  "kernelspec": {
   "display_name": "conda_tensorflow_p36",
   "language": "python",
   "name": "conda_tensorflow_p36"
  },
  "language_info": {
   "codemirror_mode": {
    "name": "ipython",
    "version": 3
   },
   "file_extension": ".py",
   "mimetype": "text/x-python",
   "name": "python",
   "nbconvert_exporter": "python",
   "pygments_lexer": "ipython3",
   "version": "3.6.6"
  }
 },
 "nbformat": 4,
 "nbformat_minor": 4
}
