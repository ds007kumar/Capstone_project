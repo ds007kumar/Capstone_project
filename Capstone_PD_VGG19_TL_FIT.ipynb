{
 "cells": [
  {
   "cell_type": "markdown",
   "metadata": {
    "colab_type": "text",
    "id": "E8e8GGORPGdT"
   },
   "source": [
    "# VGG19 Transfer Learning - Imagenet"
   ]
  },
  {
   "cell_type": "code",
   "execution_count": 1,
   "metadata": {},
   "outputs": [],
   "source": [
    "import boto3, re\n",
    "from sagemaker import get_execution_role\n",
    "role = get_execution_role()"
   ]
  },
  {
   "cell_type": "code",
   "execution_count": 2,
   "metadata": {
    "scrolled": true
   },
   "outputs": [
    {
     "name": "stdout",
     "output_type": "stream",
     "text": [
      "WARNING:tensorflow:From /home/ec2-user/anaconda3/envs/tensorflow_p36/lib/python3.6/site-packages/tensorflow_core/__init__.py:1467: The name tf.estimator.inputs is deprecated. Please use tf.compat.v1.estimator.inputs instead.\n",
      "\n",
      "1.15.2\n"
     ]
    }
   ],
   "source": [
    "import tensorflow\n",
    "print(tensorflow.__version__)"
   ]
  },
  {
   "cell_type": "code",
   "execution_count": 3,
   "metadata": {
    "colab": {
     "base_uri": "https://localhost:8080/",
     "height": 34
    },
    "colab_type": "code",
    "id": "c39DyzcvXVzB",
    "outputId": "e6785853-4714-4029-8a9c-f9da2f57e7bf"
   },
   "outputs": [
    {
     "name": "stdout",
     "output_type": "stream",
     "text": [
      "Collecting pydicom\n",
      "\u001b[?25l  Downloading https://files.pythonhosted.org/packages/53/e6/4cae2b4b2fdbea5e2ddd188361139606d8f10f710ba1abecd6600da099c3/pydicom-1.4.2-py2.py3-none-any.whl (35.3MB)\n",
      "\u001b[K     |████████████████████████████████| 35.3MB 15.0MB/s eta 0:00:01\n",
      "\u001b[?25hInstalling collected packages: pydicom\n",
      "Successfully installed pydicom-1.4.2\n",
      "\u001b[33mWARNING: You are using pip version 19.3.1; however, version 20.1.1 is available.\n",
      "You should consider upgrading via the 'pip install --upgrade pip' command.\u001b[0m\n"
     ]
    }
   ],
   "source": [
    "!pip install pydicom"
   ]
  },
  {
   "cell_type": "code",
   "execution_count": 4,
   "metadata": {},
   "outputs": [
    {
     "name": "stdout",
     "output_type": "stream",
     "text": [
      "Collecting mlxtend\n",
      "\u001b[?25l  Downloading https://files.pythonhosted.org/packages/64/e2/1610a86284029abcad0ac9bc86cb19f9787fe6448ede467188b2a5121bb4/mlxtend-0.17.2-py2.py3-none-any.whl (1.3MB)\n",
      "\u001b[K     |████████████████████████████████| 1.3MB 13.5MB/s eta 0:00:01\n",
      "\u001b[?25hRequirement already satisfied: pandas>=0.24.2 in /home/ec2-user/anaconda3/envs/tensorflow_p36/lib/python3.6/site-packages (from mlxtend) (0.24.2)\n",
      "Requirement already satisfied: numpy>=1.16.2 in /home/ec2-user/anaconda3/envs/tensorflow_p36/lib/python3.6/site-packages (from mlxtend) (1.16.4)\n",
      "Requirement already satisfied: matplotlib>=3.0.0 in /home/ec2-user/anaconda3/envs/tensorflow_p36/lib/python3.6/site-packages (from mlxtend) (3.0.3)\n",
      "Requirement already satisfied: scikit-learn>=0.20.3 in /home/ec2-user/anaconda3/envs/tensorflow_p36/lib/python3.6/site-packages (from mlxtend) (0.22.1)\n",
      "Requirement already satisfied: joblib>=0.13.2 in /home/ec2-user/anaconda3/envs/tensorflow_p36/lib/python3.6/site-packages (from mlxtend) (0.14.1)\n",
      "Requirement already satisfied: setuptools in /home/ec2-user/anaconda3/envs/tensorflow_p36/lib/python3.6/site-packages (from mlxtend) (45.2.0)\n",
      "Requirement already satisfied: scipy>=1.2.1 in /home/ec2-user/anaconda3/envs/tensorflow_p36/lib/python3.6/site-packages (from mlxtend) (1.4.1)\n",
      "Requirement already satisfied: pytz>=2011k in /home/ec2-user/anaconda3/envs/tensorflow_p36/lib/python3.6/site-packages (from pandas>=0.24.2->mlxtend) (2018.4)\n",
      "Requirement already satisfied: python-dateutil>=2.5.0 in /home/ec2-user/anaconda3/envs/tensorflow_p36/lib/python3.6/site-packages (from pandas>=0.24.2->mlxtend) (2.7.3)\n",
      "Requirement already satisfied: kiwisolver>=1.0.1 in /home/ec2-user/anaconda3/envs/tensorflow_p36/lib/python3.6/site-packages (from matplotlib>=3.0.0->mlxtend) (1.0.1)\n",
      "Requirement already satisfied: pyparsing!=2.0.4,!=2.1.2,!=2.1.6,>=2.0.1 in /home/ec2-user/anaconda3/envs/tensorflow_p36/lib/python3.6/site-packages (from matplotlib>=3.0.0->mlxtend) (2.2.0)\n",
      "Requirement already satisfied: cycler>=0.10 in /home/ec2-user/anaconda3/envs/tensorflow_p36/lib/python3.6/site-packages (from matplotlib>=3.0.0->mlxtend) (0.10.0)\n",
      "Requirement already satisfied: six>=1.5 in /home/ec2-user/anaconda3/envs/tensorflow_p36/lib/python3.6/site-packages (from python-dateutil>=2.5.0->pandas>=0.24.2->mlxtend) (1.11.0)\n",
      "Installing collected packages: mlxtend\n",
      "Successfully installed mlxtend-0.17.2\n",
      "\u001b[33mWARNING: You are using pip version 19.3.1; however, version 20.1.1 is available.\n",
      "You should consider upgrading via the 'pip install --upgrade pip' command.\u001b[0m\n"
     ]
    }
   ],
   "source": [
    "!pip install mlxtend  "
   ]
  },
  {
   "cell_type": "markdown",
   "metadata": {},
   "source": [
    "# Import dependencies"
   ]
  },
  {
   "cell_type": "code",
   "execution_count": 5,
   "metadata": {
    "colab": {},
    "colab_type": "code",
    "id": "zCD9tuX4X_g6"
   },
   "outputs": [],
   "source": [
    "import tensorflow as tf\n",
    "from tensorflow import keras\n",
    "from tensorflow.keras.models import Sequential\n",
    "from tensorflow.keras.layers import Dense, Conv2D, MaxPooling2D, Flatten\n",
    "import numpy as np\n",
    "import matplotlib.pyplot as plt\n",
    "import pandas as pd\n",
    "import os\n",
    "from tensorflow.keras.utils import Sequence\n",
    "import math\n",
    "import pydicom\n",
    "from tensorflow.keras.applications.vgg19 import VGG19, preprocess_input\n",
    "from tensorflow.keras.callbacks import ModelCheckpoint, EarlyStopping, ReduceLROnPlateau, Callback\n",
    "import seaborn as sns\n",
    "from pydicom import dcmread\n",
    "from pydicom.filebase import DicomBytesIO\n",
    "import cv2\n",
    "from mlxtend.plotting import plot_confusion_matrix\n",
    "from sklearn.metrics import confusion_matrix\n",
    "import time"
   ]
  },
  {
   "cell_type": "code",
   "execution_count": 7,
   "metadata": {},
   "outputs": [],
   "source": [
    "class TimeHistory(keras.callbacks.Callback):\n",
    "    def on_train_begin(self, logs={}):\n",
    "        self.times = []\n",
    "\n",
    "    def on_epoch_begin(self, epoch, logs={}):\n",
    "        self.epoch_time_start = time.time()\n",
    "\n",
    "    def on_epoch_end(self, epoch, logs={}):\n",
    "        self.times.append(time.time() - self.epoch_time_start)"
   ]
  },
  {
   "cell_type": "markdown",
   "metadata": {
    "colab_type": "text",
    "id": "b8n21VASYLy0"
   },
   "source": [
    "# Load Labels"
   ]
  },
  {
   "cell_type": "code",
   "execution_count": 8,
   "metadata": {
    "colab": {},
    "colab_type": "code",
    "id": "rvZU8hOdYOJU"
   },
   "outputs": [],
   "source": [
    "root_path = 'sagemaker-capstone-pd'\n",
    "train_dicom_dir = 'pneumonia-dataset/stage_2_train_images/'\n",
    "train_lables_filename = 'pneumonia-dataset/stage_2_train_labels.csv'\n"
   ]
  },
  {
   "cell_type": "code",
   "execution_count": 9,
   "metadata": {},
   "outputs": [],
   "source": [
    "def load_csv_file(path, filename):\n",
    "  bucket = path\n",
    "  data_key = filename\n",
    "  data_location = 's3://{}/{}'.format(bucket, data_key) \n",
    "  train_labels_df = pd.read_csv(data_location)\n",
    "  return train_labels_df"
   ]
  },
  {
   "cell_type": "code",
   "execution_count": 10,
   "metadata": {},
   "outputs": [],
   "source": [
    "training_data = load_csv_file(root_path,train_lables_filename )"
   ]
  },
  {
   "cell_type": "code",
   "execution_count": 11,
   "metadata": {
    "colab": {
     "base_uri": "https://localhost:8080/",
     "height": 34
    },
    "colab_type": "code",
    "id": "Nv0eP9wsYoaU",
    "outputId": "07cf96a9-240c-4491-8044-443f425beb56"
   },
   "outputs": [
    {
     "name": "stdout",
     "output_type": "stream",
     "text": [
      "(30227, 6)\n"
     ]
    }
   ],
   "source": [
    "print(training_data.shape)"
   ]
  },
  {
   "cell_type": "code",
   "execution_count": 12,
   "metadata": {
    "colab": {
     "base_uri": "https://localhost:8080/",
     "height": 195
    },
    "colab_type": "code",
    "id": "RUjk35iDYthL",
    "outputId": "da0fac61-4689-4502-96d2-ddc9a8de16eb"
   },
   "outputs": [
    {
     "data": {
      "text/html": [
       "<div>\n",
       "<style scoped>\n",
       "    .dataframe tbody tr th:only-of-type {\n",
       "        vertical-align: middle;\n",
       "    }\n",
       "\n",
       "    .dataframe tbody tr th {\n",
       "        vertical-align: top;\n",
       "    }\n",
       "\n",
       "    .dataframe thead th {\n",
       "        text-align: right;\n",
       "    }\n",
       "</style>\n",
       "<table border=\"1\" class=\"dataframe\">\n",
       "  <thead>\n",
       "    <tr style=\"text-align: right;\">\n",
       "      <th></th>\n",
       "      <th>patientId</th>\n",
       "      <th>x</th>\n",
       "      <th>y</th>\n",
       "      <th>width</th>\n",
       "      <th>height</th>\n",
       "      <th>Target</th>\n",
       "    </tr>\n",
       "  </thead>\n",
       "  <tbody>\n",
       "    <tr>\n",
       "      <th>0</th>\n",
       "      <td>0004cfab-14fd-4e49-80ba-63a80b6bddd6</td>\n",
       "      <td>NaN</td>\n",
       "      <td>NaN</td>\n",
       "      <td>NaN</td>\n",
       "      <td>NaN</td>\n",
       "      <td>0</td>\n",
       "    </tr>\n",
       "    <tr>\n",
       "      <th>1</th>\n",
       "      <td>00313ee0-9eaa-42f4-b0ab-c148ed3241cd</td>\n",
       "      <td>NaN</td>\n",
       "      <td>NaN</td>\n",
       "      <td>NaN</td>\n",
       "      <td>NaN</td>\n",
       "      <td>0</td>\n",
       "    </tr>\n",
       "    <tr>\n",
       "      <th>2</th>\n",
       "      <td>00322d4d-1c29-4943-afc9-b6754be640eb</td>\n",
       "      <td>NaN</td>\n",
       "      <td>NaN</td>\n",
       "      <td>NaN</td>\n",
       "      <td>NaN</td>\n",
       "      <td>0</td>\n",
       "    </tr>\n",
       "    <tr>\n",
       "      <th>3</th>\n",
       "      <td>003d8fa0-6bf1-40ed-b54c-ac657f8495c5</td>\n",
       "      <td>NaN</td>\n",
       "      <td>NaN</td>\n",
       "      <td>NaN</td>\n",
       "      <td>NaN</td>\n",
       "      <td>0</td>\n",
       "    </tr>\n",
       "    <tr>\n",
       "      <th>4</th>\n",
       "      <td>00436515-870c-4b36-a041-de91049b9ab4</td>\n",
       "      <td>264.0</td>\n",
       "      <td>152.0</td>\n",
       "      <td>213.0</td>\n",
       "      <td>379.0</td>\n",
       "      <td>1</td>\n",
       "    </tr>\n",
       "  </tbody>\n",
       "</table>\n",
       "</div>"
      ],
      "text/plain": [
       "                              patientId      x      y  width  height  Target\n",
       "0  0004cfab-14fd-4e49-80ba-63a80b6bddd6    NaN    NaN    NaN     NaN       0\n",
       "1  00313ee0-9eaa-42f4-b0ab-c148ed3241cd    NaN    NaN    NaN     NaN       0\n",
       "2  00322d4d-1c29-4943-afc9-b6754be640eb    NaN    NaN    NaN     NaN       0\n",
       "3  003d8fa0-6bf1-40ed-b54c-ac657f8495c5    NaN    NaN    NaN     NaN       0\n",
       "4  00436515-870c-4b36-a041-de91049b9ab4  264.0  152.0  213.0   379.0       1"
      ]
     },
     "execution_count": 12,
     "metadata": {},
     "output_type": "execute_result"
    }
   ],
   "source": [
    "training_data.head()"
   ]
  },
  {
   "cell_type": "code",
   "execution_count": 13,
   "metadata": {
    "colab": {},
    "colab_type": "code",
    "id": "-iq4PX7wZBi0"
   },
   "outputs": [],
   "source": [
    "training_imgs = [\"{}.dcm\".format(x) for x in list(training_data.patientId)]"
   ]
  },
  {
   "cell_type": "code",
   "execution_count": 14,
   "metadata": {
    "colab": {
     "base_uri": "https://localhost:8080/",
     "height": 54
    },
    "colab_type": "code",
    "id": "oKDyUPRgZRPk",
    "outputId": "f9237615-8afb-4674-c473-aa9b65d31fe2"
   },
   "outputs": [
    {
     "name": "stdout",
     "output_type": "stream",
     "text": [
      "['0004cfab-14fd-4e49-80ba-63a80b6bddd6.dcm', '00313ee0-9eaa-42f4-b0ab-c148ed3241cd.dcm', '00322d4d-1c29-4943-afc9-b6754be640eb.dcm', '003d8fa0-6bf1-40ed-b54c-ac657f8495c5.dcm', '00436515-870c-4b36-a041-de91049b9ab4.dcm']\n"
     ]
    }
   ],
   "source": [
    "print(training_imgs[:5])"
   ]
  },
  {
   "cell_type": "code",
   "execution_count": 15,
   "metadata": {
    "colab": {},
    "colab_type": "code",
    "id": "1zqeZAh5aEbC"
   },
   "outputs": [],
   "source": [
    "training_labels_1 = list(training_data['Target'])"
   ]
  },
  {
   "cell_type": "code",
   "execution_count": 16,
   "metadata": {
    "colab": {
     "base_uri": "https://localhost:8080/",
     "height": 34
    },
    "colab_type": "code",
    "id": "vOxhsIOgaJHz",
    "outputId": "52a4cb26-b8b2-485a-eef9-d7ced2b95454"
   },
   "outputs": [
    {
     "name": "stdout",
     "output_type": "stream",
     "text": [
      "[0, 0, 0, 0, 1]\n"
     ]
    }
   ],
   "source": [
    "print(training_labels_1[:5])"
   ]
  },
  {
   "cell_type": "code",
   "execution_count": 17,
   "metadata": {
    "colab": {},
    "colab_type": "code",
    "id": "UnCqWnoNanLY"
   },
   "outputs": [],
   "source": [
    "training_data_1 = pd.DataFrame( {'Images': training_imgs,'Target': training_labels_1})\n"
   ]
  },
  {
   "cell_type": "code",
   "execution_count": 18,
   "metadata": {
    "colab": {
     "base_uri": "https://localhost:8080/",
     "height": 168
    },
    "colab_type": "code",
    "id": "mM_dWvwcatEu",
    "outputId": "0370d03e-0ea6-45dd-ac86-6228896d9c31"
   },
   "outputs": [
    {
     "name": "stdout",
     "output_type": "stream",
     "text": [
      "<class 'pandas.core.frame.DataFrame'>\n",
      "RangeIndex: 30227 entries, 0 to 30226\n",
      "Data columns (total 2 columns):\n",
      "Images    30227 non-null object\n",
      "Target    30227 non-null int64\n",
      "dtypes: int64(1), object(1)\n",
      "memory usage: 472.4+ KB\n"
     ]
    }
   ],
   "source": [
    "training_data_1.info()"
   ]
  },
  {
   "cell_type": "code",
   "execution_count": 19,
   "metadata": {
    "colab": {
     "base_uri": "https://localhost:8080/",
     "height": 195
    },
    "colab_type": "code",
    "id": "aDlpxIY_a2T3",
    "outputId": "9485011f-5d1c-4efb-a81e-98264893db49"
   },
   "outputs": [
    {
     "data": {
      "text/html": [
       "<div>\n",
       "<style scoped>\n",
       "    .dataframe tbody tr th:only-of-type {\n",
       "        vertical-align: middle;\n",
       "    }\n",
       "\n",
       "    .dataframe tbody tr th {\n",
       "        vertical-align: top;\n",
       "    }\n",
       "\n",
       "    .dataframe thead th {\n",
       "        text-align: right;\n",
       "    }\n",
       "</style>\n",
       "<table border=\"1\" class=\"dataframe\">\n",
       "  <thead>\n",
       "    <tr style=\"text-align: right;\">\n",
       "      <th></th>\n",
       "      <th>Images</th>\n",
       "      <th>Target</th>\n",
       "    </tr>\n",
       "  </thead>\n",
       "  <tbody>\n",
       "    <tr>\n",
       "      <th>0</th>\n",
       "      <td>0004cfab-14fd-4e49-80ba-63a80b6bddd6.dcm</td>\n",
       "      <td>0</td>\n",
       "    </tr>\n",
       "    <tr>\n",
       "      <th>1</th>\n",
       "      <td>00313ee0-9eaa-42f4-b0ab-c148ed3241cd.dcm</td>\n",
       "      <td>0</td>\n",
       "    </tr>\n",
       "    <tr>\n",
       "      <th>2</th>\n",
       "      <td>00322d4d-1c29-4943-afc9-b6754be640eb.dcm</td>\n",
       "      <td>0</td>\n",
       "    </tr>\n",
       "    <tr>\n",
       "      <th>3</th>\n",
       "      <td>003d8fa0-6bf1-40ed-b54c-ac657f8495c5.dcm</td>\n",
       "      <td>0</td>\n",
       "    </tr>\n",
       "    <tr>\n",
       "      <th>4</th>\n",
       "      <td>00436515-870c-4b36-a041-de91049b9ab4.dcm</td>\n",
       "      <td>1</td>\n",
       "    </tr>\n",
       "  </tbody>\n",
       "</table>\n",
       "</div>"
      ],
      "text/plain": [
       "                                     Images  Target\n",
       "0  0004cfab-14fd-4e49-80ba-63a80b6bddd6.dcm       0\n",
       "1  00313ee0-9eaa-42f4-b0ab-c148ed3241cd.dcm       0\n",
       "2  00322d4d-1c29-4943-afc9-b6754be640eb.dcm       0\n",
       "3  003d8fa0-6bf1-40ed-b54c-ac657f8495c5.dcm       0\n",
       "4  00436515-870c-4b36-a041-de91049b9ab4.dcm       1"
      ]
     },
     "execution_count": 19,
     "metadata": {},
     "output_type": "execute_result"
    }
   ],
   "source": [
    "training_data_1.head()"
   ]
  },
  {
   "cell_type": "code",
   "execution_count": 20,
   "metadata": {
    "colab": {
     "base_uri": "https://localhost:8080/",
     "height": 168
    },
    "colab_type": "code",
    "id": "5wUGuBJ1baJo",
    "outputId": "60290a12-ccec-4065-ce75-51225b378194"
   },
   "outputs": [
    {
     "name": "stdout",
     "output_type": "stream",
     "text": [
      "<class 'pandas.core.frame.DataFrame'>\n",
      "Int64Index: 30227 entries, 0 to 28988\n",
      "Data columns (total 2 columns):\n",
      "Images    30227 non-null object\n",
      "Target    30227 non-null int64\n",
      "dtypes: int64(1), object(1)\n",
      "memory usage: 708.4+ KB\n"
     ]
    }
   ],
   "source": [
    "from sklearn.model_selection import train_test_split\n",
    "\n",
    "# Sort the rows of dataframe by column 'Images'\n",
    "training_data_1 = training_data_1.sort_values(by ='Images', ascending=True )\n",
    "#temp_df = training_data_1.iloc[:100] use only for testing\n",
    "temp_df = training_data_1\n",
    "temp_df.info()"
   ]
  },
  {
   "cell_type": "markdown",
   "metadata": {},
   "source": [
    "# Train & Validation split"
   ]
  },
  {
   "cell_type": "code",
   "execution_count": 21,
   "metadata": {
    "colab": {},
    "colab_type": "code",
    "id": "nCslD869-7Ip"
   },
   "outputs": [],
   "source": [
    "training_set = pd.DataFrame()\n",
    "validation_set = pd.DataFrame()\n",
    "\n",
    "training_set, validation_set = train_test_split(temp_df, random_state = 0, test_size = 0.2)"
   ]
  },
  {
   "cell_type": "code",
   "execution_count": 22,
   "metadata": {
    "colab": {
     "base_uri": "https://localhost:8080/",
     "height": 386
    },
    "colab_type": "code",
    "id": "zGFWExIVbiOK",
    "outputId": "ddd68ac6-70f4-49b5-b5af-6c3bca5374e5"
   },
   "outputs": [
    {
     "name": "stdout",
     "output_type": "stream",
     "text": [
      "<class 'pandas.core.frame.DataFrame'>\n",
      "RangeIndex: 24181 entries, 0 to 24180\n",
      "Data columns (total 3 columns):\n",
      "index     24181 non-null int64\n",
      "Images    24181 non-null object\n",
      "Target    24181 non-null int64\n",
      "dtypes: int64(2), object(1)\n",
      "memory usage: 566.8+ KB\n",
      "None\n",
      "<class 'pandas.core.frame.DataFrame'>\n",
      "RangeIndex: 6046 entries, 0 to 6045\n",
      "Data columns (total 3 columns):\n",
      "index     6046 non-null int64\n",
      "Images    6046 non-null object\n",
      "Target    6046 non-null int64\n",
      "dtypes: int64(2), object(1)\n",
      "memory usage: 141.8+ KB\n",
      "None\n"
     ]
    }
   ],
   "source": [
    "training_set.reset_index(inplace = True)\n",
    "validation_set.reset_index(inplace = True)\n",
    "\n",
    "print(training_set.info())\n",
    "print(validation_set.info())"
   ]
  },
  {
   "cell_type": "code",
   "execution_count": 23,
   "metadata": {
    "colab": {
     "base_uri": "https://localhost:8080/",
     "height": 279
    },
    "colab_type": "code",
    "id": "VEWyLWy0-MT9",
    "outputId": "54c47bcd-f702-4be2-9318-4aea6b05903e"
   },
   "outputs": [
    {
     "data": {
      "image/png": "[encoded data removed]",
      "text/plain": [
       "<Figure size 432x288 with 1 Axes>"
      ]
     },
     "metadata": {},
     "output_type": "display_data"
    }
   ],
   "source": [
    "ax = sns.countplot(x=\"Target\", data=training_set)"
   ]
  },
  {
   "cell_type": "code",
   "execution_count": 24,
   "metadata": {
    "colab": {
     "base_uri": "https://localhost:8080/",
     "height": 279
    },
    "colab_type": "code",
    "id": "V-aH_MYa-kh0",
    "outputId": "4cee2b2e-e65f-4a31-b561-d77ec794c56a"
   },
   "outputs": [
    {
     "data": {
      "image/png": "[encoded data removed]",
      "text/plain": [
       "<Figure size 432x288 with 1 Axes>"
      ]
     },
     "metadata": {},
     "output_type": "display_data"
    }
   ],
   "source": [
    "ax = sns.countplot(x=\"Target\", data=validation_set)"
   ]
  },
  {
   "cell_type": "code",
   "execution_count": 25,
   "metadata": {
    "colab": {
     "base_uri": "https://localhost:8080/",
     "height": 195
    },
    "colab_type": "code",
    "id": "xH3WYbbgmvbJ",
    "outputId": "27467ac2-d051-42c1-ec4b-7c82c1edf947"
   },
   "outputs": [
    {
     "data": {
      "text/html": [
       "<div>\n",
       "<style scoped>\n",
       "    .dataframe tbody tr th:only-of-type {\n",
       "        vertical-align: middle;\n",
       "    }\n",
       "\n",
       "    .dataframe tbody tr th {\n",
       "        vertical-align: top;\n",
       "    }\n",
       "\n",
       "    .dataframe thead th {\n",
       "        text-align: right;\n",
       "    }\n",
       "</style>\n",
       "<table border=\"1\" class=\"dataframe\">\n",
       "  <thead>\n",
       "    <tr style=\"text-align: right;\">\n",
       "      <th></th>\n",
       "      <th>index</th>\n",
       "      <th>Images</th>\n",
       "      <th>Target</th>\n",
       "    </tr>\n",
       "  </thead>\n",
       "  <tbody>\n",
       "    <tr>\n",
       "      <th>0</th>\n",
       "      <td>5846</td>\n",
       "      <td>4a21a2af-8822-43aa-9dcd-6b412dcb3d43.dcm</td>\n",
       "      <td>0</td>\n",
       "    </tr>\n",
       "    <tr>\n",
       "      <th>1</th>\n",
       "      <td>27577</td>\n",
       "      <td>f4d92d38-4a58-45d4-a5a3-dd83772e51bc.dcm</td>\n",
       "      <td>0</td>\n",
       "    </tr>\n",
       "    <tr>\n",
       "      <th>2</th>\n",
       "      <td>22291</td>\n",
       "      <td>c9b3c7ce-4f39-4702-8206-2903d27afa9c.dcm</td>\n",
       "      <td>0</td>\n",
       "    </tr>\n",
       "    <tr>\n",
       "      <th>3</th>\n",
       "      <td>16384</td>\n",
       "      <td>9ea49ec4-2b4f-4e7b-94f1-99ba8d10a629.dcm</td>\n",
       "      <td>0</td>\n",
       "    </tr>\n",
       "    <tr>\n",
       "      <th>4</th>\n",
       "      <td>10849</td>\n",
       "      <td>7245635f-de15-4117-9069-e39743d9da2f.dcm</td>\n",
       "      <td>0</td>\n",
       "    </tr>\n",
       "  </tbody>\n",
       "</table>\n",
       "</div>"
      ],
      "text/plain": [
       "   index                                    Images  Target\n",
       "0   5846  4a21a2af-8822-43aa-9dcd-6b412dcb3d43.dcm       0\n",
       "1  27577  f4d92d38-4a58-45d4-a5a3-dd83772e51bc.dcm       0\n",
       "2  22291  c9b3c7ce-4f39-4702-8206-2903d27afa9c.dcm       0\n",
       "3  16384  9ea49ec4-2b4f-4e7b-94f1-99ba8d10a629.dcm       0\n",
       "4  10849  7245635f-de15-4117-9069-e39743d9da2f.dcm       0"
      ]
     },
     "execution_count": 25,
     "metadata": {},
     "output_type": "execute_result"
    }
   ],
   "source": [
    "training_set.head()"
   ]
  },
  {
   "cell_type": "code",
   "execution_count": 26,
   "metadata": {
    "colab": {},
    "colab_type": "code",
    "id": "_kXQjHKWzZMH"
   },
   "outputs": [],
   "source": [
    "IMAGE_SIZE = 224\n",
    "BATCH_SIZE = 50\n",
    "EPOCHS = 5 # Number of epochs.\n",
    "PATIENCE = 2 # Patience for early stopping\n",
    "MULTI_PROCESSING = True \n",
    "THREADS = 1\n",
    "IMG_SHAPE = (IMAGE_SIZE, IMAGE_SIZE, 3)"
   ]
  },
  {
   "cell_type": "code",
   "execution_count": 27,
   "metadata": {
    "colab": {},
    "colab_type": "code",
    "id": "r61q-XirvjEV"
   },
   "outputs": [],
   "source": [
    "# Training Data Generator\n",
    "\n",
    "class DataGen(Sequence):\n",
    "    def __init__(self, data_df):\n",
    "        self.paths = []\n",
    "        df_len = len(data_df)\n",
    "        self.pneumonia_calss = np.zeros((df_len,2))\n",
    "        for index, row in data_df.iterrows():\n",
    "          #print(index)\n",
    "          path = row['Images']\n",
    "          classes = row['Target']\n",
    "          self.paths.append(path) # Read image from here\n",
    "          #self.pneumonia_calss.append(classes) # Read target from here\n",
    "          if classes == 1:\n",
    "            self.pneumonia_calss[index, 0] = 1\n",
    "            self.pneumonia_calss[index, 1] = 0\n",
    "          else:\n",
    "            self.pneumonia_calss[index, 0] = 0\n",
    "            self.pneumonia_calss[index, 1] = 1\n",
    "        \n",
    "\n",
    "    def __len__(self):\n",
    "        return math.ceil(len(self.pneumonia_calss) / BATCH_SIZE)\n",
    "\n",
    "    def __getitem__(self, idx): # Get a batch\n",
    "        batch_paths = self.paths[idx * BATCH_SIZE:(idx + 1) * BATCH_SIZE] # Image path\n",
    "        batch_coords = self.pneumonia_calss[idx * BATCH_SIZE:(idx + 1) * BATCH_SIZE] # Image coords\n",
    "\n",
    "        batch_images = np.zeros((len(batch_paths), IMAGE_SIZE, IMAGE_SIZE, 3), dtype=np.float32)\n",
    "        session = boto3.Session()\n",
    "        s3_session = session.client('s3')\n",
    "        for i, f in enumerate(batch_paths):\n",
    "            \n",
    "            f = train_dicom_dir +  f\n",
    "            #print('file for loading ',  f)\n",
    "            fileobj = s3_session.get_object(Bucket=root_path,  Key=f )\n",
    "            dicom_data = fileobj['Body'].read()\n",
    "            dicom_bytes = DicomBytesIO(dicom_data)\n",
    "            c_dicom = dcmread(dicom_bytes) \n",
    "            image = c_dicom.pixel_array\n",
    "            # If grayscale. Convert to RGB for consistency.\n",
    "            if len(image.shape) != 3 or image.shape[2] != 3: \n",
    "                img = np.stack((image,) * 3, -1)\n",
    " \n",
    "            dim = (IMAGE_SIZE, IMAGE_SIZE)\n",
    "            img = cv2.resize(img, dim, interpolation = cv2.INTER_AREA)\n",
    "            #print(' File ', f, ' img shape ', img.shape )\n",
    "            batch_images[i] = preprocess_input(np.array(img, dtype=np.float32)) # Convert to float32 array\n",
    "            #print('batch_coords' , batch_coords)\n",
    "            \n",
    "        return batch_images, batch_coords"
   ]
  },
  {
   "cell_type": "code",
   "execution_count": 28,
   "metadata": {
    "colab": {},
    "colab_type": "code",
    "id": "g28Jvk2ne2-x"
   },
   "outputs": [],
   "source": [
    "train_dataGen  = DataGen(training_set)\n",
    "validation_datagen = DataGen(validation_set)"
   ]
  },
  {
   "cell_type": "markdown",
   "metadata": {},
   "source": [
    "# Model Initialization"
   ]
  },
  {
   "cell_type": "code",
   "execution_count": 29,
   "metadata": {
    "colab": {},
    "colab_type": "code",
    "id": "-a6JOsj80mOQ"
   },
   "outputs": [
    {
     "name": "stdout",
     "output_type": "stream",
     "text": [
      "WARNING:tensorflow:From /home/ec2-user/anaconda3/envs/tensorflow_p36/lib/python3.6/site-packages/tensorflow_core/python/ops/resource_variable_ops.py:1630: calling BaseResourceVariable.__init__ (from tensorflow.python.ops.resource_variable_ops) with constraint is deprecated and will be removed in a future version.\n",
      "Instructions for updating:\n",
      "If using Keras pass *_constraint arguments to layers.\n",
      "Downloading data from https://github.com/fchollet/deep-learning-models/releases/download/v0.1/vgg19_weights_tf_dim_ordering_tf_kernels_notop.h5\n",
      "80142336/80134624 [==============================] - 3s 0us/step\n",
      "WARNING:tensorflow:OMP_NUM_THREADS is no longer used by the default Keras config. To configure the number of threads, use tf.config.threading APIs.\n"
     ]
    }
   ],
   "source": [
    "base_model = tf.keras.applications.VGG19(input_shape=IMG_SHAPE, include_top=False, weights='imagenet')"
   ]
  },
  {
   "cell_type": "code",
   "execution_count": 30,
   "metadata": {
    "colab": {},
    "colab_type": "code",
    "id": "bP3tTjpU0weh"
   },
   "outputs": [],
   "source": [
    "base_model.trainable = False"
   ]
  },
  {
   "cell_type": "code",
   "execution_count": 31,
   "metadata": {
    "colab": {
     "base_uri": "https://localhost:8080/",
     "height": 1000
    },
    "colab_type": "code",
    "id": "i4M-IBiaZ3kA",
    "outputId": "303e5886-23ae-486f-dbdc-e4d6ac4ba217"
   },
   "outputs": [
    {
     "name": "stdout",
     "output_type": "stream",
     "text": [
      "Model: \"vgg19\"\n",
      "_________________________________________________________________\n",
      "Layer (type)                 Output Shape              Param #   \n",
      "=================================================================\n",
      "input_1 (InputLayer)         [(None, 224, 224, 3)]     0         \n",
      "_________________________________________________________________\n",
      "block1_conv1 (Conv2D)        (None, 224, 224, 64)      1792      \n",
      "_________________________________________________________________\n",
      "block1_conv2 (Conv2D)        (None, 224, 224, 64)      36928     \n",
      "_________________________________________________________________\n",
      "block1_pool (MaxPooling2D)   (None, 112, 112, 64)      0         \n",
      "_________________________________________________________________\n",
      "block2_conv1 (Conv2D)        (None, 112, 112, 128)     73856     \n",
      "_________________________________________________________________\n",
      "block2_conv2 (Conv2D)        (None, 112, 112, 128)     147584    \n",
      "_________________________________________________________________\n",
      "block2_pool (MaxPooling2D)   (None, 56, 56, 128)       0         \n",
      "_________________________________________________________________\n",
      "block3_conv1 (Conv2D)        (None, 56, 56, 256)       295168    \n",
      "_________________________________________________________________\n",
      "block3_conv2 (Conv2D)        (None, 56, 56, 256)       590080    \n",
      "_________________________________________________________________\n",
      "block3_conv3 (Conv2D)        (None, 56, 56, 256)       590080    \n",
      "_________________________________________________________________\n",
      "block3_conv4 (Conv2D)        (None, 56, 56, 256)       590080    \n",
      "_________________________________________________________________\n",
      "block3_pool (MaxPooling2D)   (None, 28, 28, 256)       0         \n",
      "_________________________________________________________________\n",
      "block4_conv1 (Conv2D)        (None, 28, 28, 512)       1180160   \n",
      "_________________________________________________________________\n",
      "block4_conv2 (Conv2D)        (None, 28, 28, 512)       2359808   \n",
      "_________________________________________________________________\n",
      "block4_conv3 (Conv2D)        (None, 28, 28, 512)       2359808   \n",
      "_________________________________________________________________\n",
      "block4_conv4 (Conv2D)        (None, 28, 28, 512)       2359808   \n",
      "_________________________________________________________________\n",
      "block4_pool (MaxPooling2D)   (None, 14, 14, 512)       0         \n",
      "_________________________________________________________________\n",
      "block5_conv1 (Conv2D)        (None, 14, 14, 512)       2359808   \n",
      "_________________________________________________________________\n",
      "block5_conv2 (Conv2D)        (None, 14, 14, 512)       2359808   \n",
      "_________________________________________________________________\n",
      "block5_conv3 (Conv2D)        (None, 14, 14, 512)       2359808   \n",
      "_________________________________________________________________\n",
      "block5_conv4 (Conv2D)        (None, 14, 14, 512)       2359808   \n",
      "_________________________________________________________________\n",
      "block5_pool (MaxPooling2D)   (None, 7, 7, 512)         0         \n",
      "=================================================================\n",
      "Total params: 20,024,384\n",
      "Trainable params: 0\n",
      "Non-trainable params: 20,024,384\n",
      "_________________________________________________________________\n"
     ]
    }
   ],
   "source": [
    "base_model.summary()"
   ]
  },
  {
   "cell_type": "markdown",
   "metadata": {},
   "source": [
    "# Fit top layer"
   ]
  },
  {
   "cell_type": "code",
   "execution_count": 32,
   "metadata": {
    "colab": {},
    "colab_type": "code",
    "id": "PijVHLI403WU"
   },
   "outputs": [],
   "source": [
    "model = tf.keras.Sequential([\n",
    "                          base_model,\n",
    "                          keras.layers.Flatten(),\n",
    "                          keras.layers.Dense(4096, activation='relu'),\n",
    "                          keras.layers.Dense(4096, activation='relu'),\n",
    "                          keras.layers.Dense(2, activation='sigmoid')])"
   ]
  },
  {
   "cell_type": "code",
   "execution_count": 33,
   "metadata": {
    "colab": {
     "base_uri": "https://localhost:8080/",
     "height": 252
    },
    "colab_type": "code",
    "id": "ClaB6WYlZiXy",
    "outputId": "83cfc6b9-a568-4ed3-c06a-0cb5064915c9"
   },
   "outputs": [
    {
     "name": "stdout",
     "output_type": "stream",
     "text": [
      "Model: \"sequential\"\n",
      "_________________________________________________________________\n",
      "Layer (type)                 Output Shape              Param #   \n",
      "=================================================================\n",
      "vgg19 (Model)                (None, 7, 7, 512)         20024384  \n",
      "_________________________________________________________________\n",
      "flatten (Flatten)            (None, 25088)             0         \n",
      "_________________________________________________________________\n",
      "dense (Dense)                (None, 4096)              102764544 \n",
      "_________________________________________________________________\n",
      "dense_1 (Dense)              (None, 4096)              16781312  \n",
      "_________________________________________________________________\n",
      "dense_2 (Dense)              (None, 2)                 8194      \n",
      "=================================================================\n",
      "Total params: 139,578,434\n",
      "Trainable params: 119,554,050\n",
      "Non-trainable params: 20,024,384\n",
      "_________________________________________________________________\n"
     ]
    }
   ],
   "source": [
    "model.summary()"
   ]
  },
  {
   "cell_type": "code",
   "execution_count": 34,
   "metadata": {
    "colab": {
     "base_uri": "https://localhost:8080/",
     "height": 34
    },
    "colab_type": "code",
    "id": "76eGwgrx57_1",
    "outputId": "ad3a8145-e1fa-45d4-cc7d-8947f9c3df55"
   },
   "outputs": [
    {
     "name": "stdout",
     "output_type": "stream",
     "text": [
      "WARNING:tensorflow:From /home/ec2-user/anaconda3/envs/tensorflow_p36/lib/python3.6/site-packages/tensorflow_core/python/ops/nn_impl.py:183: where (from tensorflow.python.ops.array_ops) is deprecated and will be removed in a future version.\n",
      "Instructions for updating:\n",
      "Use tf.where in 2.0, which has the same broadcast rule as np.where\n",
      "WARNING:tensorflow:`period` argument is deprecated. Please use `save_freq` to specify the frequency in number of samples seen.\n"
     ]
    }
   ],
   "source": [
    "model.compile(loss=\"binary_crossentropy\", optimizer=\"adam\", metrics=['accuracy']) # binary classification\n",
    "\n",
    "model_file = \"vgg19_tl_model-{val_acc:.2f}.h5\"\n",
    "checkpoint = ModelCheckpoint(model_file, monitor=\"val_acc\", verbose=1, save_best_only=True,\n",
    "                             save_weights_only=True, mode=\"max\", period=1) # Checkpoint best validation model\n",
    "stop = EarlyStopping(monitor=\"val_acc\", patience=PATIENCE, mode=\"max\") # Stop early, if the validation error deteriorates\n",
    "reduce_lr = ReduceLROnPlateau(monitor=\"val_acc\", factor=0.2, patience=PATIENCE, min_lr=0.0001, verbose=1, mode=\"max\")\n",
    "\n",
    "time_callback = TimeHistory()"
   ]
  },
  {
   "cell_type": "markdown",
   "metadata": {},
   "source": [
    "# Fit Model"
   ]
  },
  {
   "cell_type": "code",
   "execution_count": 34,
   "metadata": {
    "colab": {
     "base_uri": "https://localhost:8080/",
     "height": 709
    },
    "colab_type": "code",
    "id": "lvI2t27s6QTJ",
    "outputId": "6972d4fc-fe53-4abc-b085-7a47b6c9294c"
   },
   "outputs": [
    {
     "name": "stdout",
     "output_type": "stream",
     "text": [
      "Epoch 1/5\n",
      "483/484 [============================>.] - ETA: 4s - loss: 2.0341 - acc: 0.7853Epoch 1/5\n",
      "121/484 [======>.......................] - ETA: 26:12 - loss: 0.4453 - acc: 0.7980\n",
      "Epoch 00001: val_acc improved from -inf to 0.79797, saving model to vgg19_tl_model-0.80.h5\n",
      "484/484 [==============================] - 2762s 6s/step - loss: 2.0306 - acc: 0.7854 - val_loss: 0.4453 - val_acc: 0.7980\n",
      "Epoch 2/5\n",
      "483/484 [============================>.] - ETA: 4s - loss: 0.4444 - acc: 0.8212Epoch 1/5\n",
      "121/484 [======>.......................] - ETA: 26:04 - loss: 0.5124 - acc: 0.7920\n",
      "Epoch 00002: val_acc did not improve from 0.79797\n",
      "484/484 [==============================] - 2648s 5s/step - loss: 0.4441 - acc: 0.8213 - val_loss: 0.5124 - val_acc: 0.7920\n",
      "Epoch 3/5\n",
      "483/484 [============================>.] - ETA: 4s - loss: 0.3453 - acc: 0.8516Epoch 1/5\n",
      "121/484 [======>.......................] - ETA: 26:04 - loss: 0.4405 - acc: 0.8145\n",
      "Epoch 00003: val_acc improved from 0.79797 to 0.81451, saving model to vgg19_tl_model-0.81.h5\n",
      "484/484 [==============================] - 2866s 6s/step - loss: 0.3452 - acc: 0.8517 - val_loss: 0.4405 - val_acc: 0.8145\n",
      "Epoch 4/5\n",
      "483/484 [============================>.] - ETA: 4s - loss: 0.2798 - acc: 0.8779Epoch 1/5\n",
      "121/484 [======>.......................] - ETA: 25:51 - loss: 0.4491 - acc: 0.8201\n",
      "Epoch 00004: val_acc improved from 0.81451 to 0.82013, saving model to vgg19_tl_model-0.82.h5\n",
      "484/484 [==============================] - 2636s 5s/step - loss: 0.2798 - acc: 0.8779 - val_loss: 0.4491 - val_acc: 0.8201\n",
      "Epoch 5/5\n",
      "483/484 [============================>.] - ETA: 5s - loss: 0.2402 - acc: 0.8903 Epoch 1/5\n",
      "121/484 [======>.......................] - ETA: 25:21 - loss: 0.4614 - acc: 0.8244\n",
      "Epoch 00005: val_acc improved from 0.82013 to 0.82443, saving model to vgg19_tl_model-0.82.h5\n",
      "484/484 [==============================] - 3008s 6s/step - loss: 0.2400 - acc: 0.8904 - val_loss: 0.4614 - val_acc: 0.8244\n"
     ]
    }
   ],
   "source": [
    "history = model.fit_generator(generator=train_dataGen,\n",
    "                    epochs=EPOCHS,\n",
    "                    callbacks=[checkpoint, reduce_lr, stop,time_callback],\n",
    "                    workers=THREADS,\n",
    "                    shuffle=True,\n",
    "                    validation_data = validation_datagen,\n",
    "                    verbose=1)"
   ]
  },
  {
   "cell_type": "code",
   "execution_count": 35,
   "metadata": {},
   "outputs": [
    {
     "name": "stdout",
     "output_type": "stream",
     "text": [
      "[2762.3416092395782, 2647.6579871177673, 2865.976174592972, 2635.9494774341583, 3007.561407804489]\n"
     ]
    }
   ],
   "source": [
    "print(time_callback.times)"
   ]
  },
  {
   "cell_type": "markdown",
   "metadata": {
    "colab_type": "text",
    "id": "leNI3Spq2Vdn"
   },
   "source": [
    "# **Display accuracy & loss**"
   ]
  },
  {
   "cell_type": "code",
   "execution_count": null,
   "metadata": {
    "colab": {},
    "colab_type": "code",
    "id": "QsbRQkP3L1zH"
   },
   "outputs": [],
   "source": [
    "acc = history.history['acc']\n",
    "val_acc = history.history['val_acc']\n",
    "\n",
    "loss = history.history['loss']\n",
    "val_loss = history.history['val_loss']"
   ]
  },
  {
   "cell_type": "code",
   "execution_count": null,
   "metadata": {
    "colab": {
     "base_uri": "https://localhost:8080/",
     "height": 227
    },
    "colab_type": "code",
    "id": "fotnWGGUL9Gq",
    "outputId": "31d1394b-45a3-41bb-f3a4-0716d9597c7a"
   },
   "outputs": [],
   "source": [
    "plt.figure(figsize=(5, 3))\n",
    "plt.plot(acc, label='Training Accuracy')\n",
    "plt.plot(val_acc, label='Validation Accuracy')\n",
    "plt.legend(loc='lower right')\n",
    "plt.ylabel('Accuracy')\n",
    "plt.ylim([min(plt.ylim()),1])\n",
    "plt.title('Training and Validation Accuracy')\n",
    "plt.show()"
   ]
  },
  {
   "cell_type": "code",
   "execution_count": null,
   "metadata": {
    "colab": {
     "base_uri": "https://localhost:8080/",
     "height": 227
    },
    "colab_type": "code",
    "id": "dF3sYvcRMXOL",
    "outputId": "54a2a514-fbcb-487d-cb7f-21a8dcd80d8d"
   },
   "outputs": [],
   "source": [
    "plt.figure(figsize=(5, 3))\n",
    "plt.plot(loss, label='Training Loss')\n",
    "plt.plot(val_loss, label='Validation Loss')\n",
    "plt.legend(loc='lower right')\n",
    "plt.ylabel('Cross Entropy')\n",
    "plt.ylim([0,max(plt.ylim())])\n",
    "plt.title('Training and Validation Loss')\n",
    "plt.show()"
   ]
  },
  {
   "cell_type": "markdown",
   "metadata": {
    "colab_type": "text",
    "id": "FYT1pKcd5PLo"
   },
   "source": [
    "# **Prediction**\n",
    "Load weights"
   ]
  },
  {
   "cell_type": "code",
   "execution_count": null,
   "metadata": {},
   "outputs": [],
   "source": [
    "model.load_weights('/home/ec2-user/SageMaker/vgg19_tl_model-0.82.h5') #change if required"
   ]
  },
  {
   "cell_type": "code",
   "execution_count": 35,
   "metadata": {},
   "outputs": [],
   "source": [
    "session = boto3.Session()\n",
    "s3_session = session.client('s3')"
   ]
  },
  {
   "cell_type": "code",
   "execution_count": 41,
   "metadata": {
    "colab": {},
    "colab_type": "code",
    "id": "Jf4lOXYt6Mpw"
   },
   "outputs": [],
   "source": [
    "def getTestImage(filename):\n",
    "  #print('filename ', filename)\n",
    "  f = train_dicom_dir +  filename\n",
    "    \n",
    "  fileobj = s3_session.get_object(Bucket=root_path,  Key=f )\n",
    "  dicom_data = fileobj['Body'].read()\n",
    "  dicom_bytes = DicomBytesIO(dicom_data)\n",
    "  c_dicom = dcmread(dicom_bytes) \n",
    "            \n",
    "  \n",
    "  image = c_dicom.pixel_array\n",
    "  # If grayscale. Convert to RGB for consistency.\n",
    "  if len(image.shape) != 3 or image.shape[2] != 3: \n",
    "    img = np.stack((image,) * 3, -1)\n",
    " \n",
    "  dim = (IMAGE_SIZE, IMAGE_SIZE)\n",
    "  img = cv2.resize(img, dim, interpolation = cv2.INTER_AREA)\n",
    "            \n",
    "  #print(' File ', f, ' img shape ', img.shape )\n",
    "  img = preprocess_input(np.array(img, dtype=np.float32)) # Convert to float32 array\n",
    "  return img"
   ]
  },
  {
   "cell_type": "markdown",
   "metadata": {},
   "source": [
    "# Predict for subset of Images"
   ]
  },
  {
   "cell_type": "code",
   "execution_count": 42,
   "metadata": {
    "colab": {
     "base_uri": "https://localhost:8080/",
     "height": 185
    },
    "colab_type": "code",
    "id": "iaNihTqAgp9k",
    "outputId": "937bc707-a58c-4167-e7b2-46ab3bc2fc4f"
   },
   "outputs": [
    {
     "name": "stdout",
     "output_type": "stream",
     "text": [
      "<class 'pandas.core.frame.DataFrame'>\n",
      "RangeIndex: 3000 entries, 0 to 2999\n",
      "Data columns (total 3 columns):\n",
      "index     3000 non-null int64\n",
      "Images    3000 non-null object\n",
      "Target    3000 non-null int64\n",
      "dtypes: int64(2), object(1)\n",
      "memory usage: 70.4+ KB\n"
     ]
    }
   ],
   "source": [
    "test_set = pd.DataFrame()\n",
    "test_set = training_data_1.sort_values(by ='Images', ascending=False )\n",
    "test_set = test_set.iloc[:3000]\n",
    "test_set.reset_index(inplace= True)\n",
    "test_set.info()"
   ]
  },
  {
   "cell_type": "code",
   "execution_count": 39,
   "metadata": {
    "colab": {},
    "colab_type": "code",
    "id": "7b6s7jom6H2P"
   },
   "outputs": [],
   "source": [
    "def predict_test(test_data_df): \n",
    "\n",
    "      cm_df = pd.DataFrame(columns = ['patientId', 'y_true', 'y_pred']) \n",
    "      #print ('Info ' , test_data_df.info()) \n",
    "      threshold = 0.4\n",
    "\n",
    "      \n",
    "      for ind in test_data_df.index: \n",
    "        f = test_data_df['Images'][ind]\n",
    "        y_true = test_data_df['Target'][ind]\n",
    "        #print ('f ', f , ' y_true ', 'y_true')\n",
    "        img = getTestImage(f)\n",
    "        img = np.expand_dims(img, axis=0) \n",
    "            \n",
    "        results = model.predict(img)\n",
    "        #print('results ', results)\n",
    "        if results[0][0] >= threshold:\n",
    "          y_pred = 1\n",
    "        else:\n",
    "          y_pred = 0\n",
    "        #print ( ' patient ' , f , ' y_true ', y_true , ' y_pred ' , y_pred, ' results ', results )\n",
    "        cm_df = cm_df.append ({'patientId': f, 'y_true' : y_true , 'y_pred' : y_pred}, ignore_index=True)\n",
    "      return cm_df"
   ]
  },
  {
   "cell_type": "code",
   "execution_count": null,
   "metadata": {
    "colab": {
     "base_uri": "https://localhost:8080/",
     "height": 1000
    },
    "colab_type": "code",
    "id": "Qc5htQscNR0x",
    "outputId": "b8d096d4-ac47-408e-bbfe-786147c382a8"
   },
   "outputs": [],
   "source": [
    "cm_df = predict_test(test_set)"
   ]
  },
  {
   "cell_type": "markdown",
   "metadata": {},
   "source": [
    "# Confusion Matrix"
   ]
  },
  {
   "cell_type": "code",
   "execution_count": 43,
   "metadata": {
    "colab": {
     "base_uri": "https://localhost:8080/",
     "height": 279
    },
    "colab_type": "code",
    "id": "GZ_OJMs16RuA",
    "outputId": "cdb324f6-2686-4e71-e659-9bf10c72e89e"
   },
   "outputs": [
    {
     "data": {
      "image/png": "[encoded data removed]",
      "text/plain": [
       "<Figure size 288x288 with 1 Axes>"
      ]
     },
     "metadata": {},
     "output_type": "display_data"
    }
   ],
   "source": [
    "y_true = cm_df['y_true'].to_list()\n",
    "y_pred = cm_df['y_pred'].to_list()\n",
    "\n",
    "CM = confusion_matrix(y_true, y_pred)\n",
    "\n",
    "fig, ax = plot_confusion_matrix(conf_mat=CM ,  figsize=(4, 4))\n",
    "\n",
    "plt.show()"
   ]
  },
  {
   "cell_type": "markdown",
   "metadata": {},
   "source": [
    "# Metrics"
   ]
  },
  {
   "cell_type": "code",
   "execution_count": 48,
   "metadata": {},
   "outputs": [],
   "source": [
    "from sklearn.metrics import classification_report"
   ]
  },
  {
   "cell_type": "code",
   "execution_count": 49,
   "metadata": {},
   "outputs": [
    {
     "name": "stdout",
     "output_type": "stream",
     "text": [
      "              precision    recall  f1-score   support\n",
      "\n",
      "           0       0.80      0.37      0.51      2365\n",
      "           1       0.22      0.64      0.32       635\n",
      "\n",
      "    accuracy                           0.43      3000\n",
      "   macro avg       0.51      0.51      0.41      3000\n",
      "weighted avg       0.67      0.43      0.47      3000\n",
      "\n"
     ]
    }
   ],
   "source": [
    "print(classification_report(y_true, y_pred, labels=[0,1]))"
   ]
  },
  {
   "cell_type": "code",
   "execution_count": null,
   "metadata": {},
   "outputs": [],
   "source": []
  }
 ],
 "metadata": {
  "colab": {
   "collapsed_sections": [],
   "name": "Capstone_PD_Mobilenet_TL_Fit.ipynb",
   "provenance": []
  },
  "kernelspec": {
   "display_name": "conda_tensorflow_p36",
   "language": "python",
   "name": "conda_tensorflow_p36"
  },
  "language_info": {
   "codemirror_mode": {
    "name": "ipython",
    "version": 3
   },
   "file_extension": ".py",
   "mimetype": "text/x-python",
   "name": "python",
   "nbconvert_exporter": "python",
   "pygments_lexer": "ipython3",
   "version": "3.6.6"
  }
 },
 "nbformat": 4,
 "nbformat_minor": 4
}
