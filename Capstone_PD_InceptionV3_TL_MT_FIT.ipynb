{
 "cells": [
  {
   "cell_type": "markdown",
   "metadata": {
    "colab_type": "text",
    "id": "E8e8GGORPGdT"
   },
   "source": [
    "# InceptionV3 Transfer Learning and Model training"
   ]
  },
  {
   "cell_type": "code",
   "execution_count": 1,
   "metadata": {},
   "outputs": [],
   "source": [
    "import boto3, re\n",
    "from sagemaker import get_execution_role\n",
    "role = get_execution_role()"
   ]
  },
  {
   "cell_type": "code",
   "execution_count": 2,
   "metadata": {
    "scrolled": true
   },
   "outputs": [
    {
     "name": "stdout",
     "output_type": "stream",
     "text": [
      "WARNING:tensorflow:From /home/ec2-user/anaconda3/envs/tensorflow_p36/lib/python3.6/site-packages/tensorflow_core/__init__.py:1467: The name tf.estimator.inputs is deprecated. Please use tf.compat.v1.estimator.inputs instead.\n",
      "\n",
      "1.15.2\n"
     ]
    }
   ],
   "source": [
    "import tensorflow\n",
    "print(tensorflow.__version__)"
   ]
  },
  {
   "cell_type": "code",
   "execution_count": 3,
   "metadata": {
    "colab": {
     "base_uri": "https://localhost:8080/",
     "height": 34
    },
    "colab_type": "code",
    "id": "c39DyzcvXVzB",
    "outputId": "e6785853-4714-4029-8a9c-f9da2f57e7bf"
   },
   "outputs": [
    {
     "name": "stdout",
     "output_type": "stream",
     "text": [
      "Requirement already satisfied: pydicom in /home/ec2-user/anaconda3/envs/tensorflow_p36/lib/python3.6/site-packages (1.4.2)\n",
      "\u001b[33mWARNING: You are using pip version 19.3.1; however, version 20.1.1 is available.\n",
      "You should consider upgrading via the 'pip install --upgrade pip' command.\u001b[0m\n"
     ]
    }
   ],
   "source": [
    "!pip install pydicom"
   ]
  },
  {
   "cell_type": "code",
   "execution_count": 4,
   "metadata": {},
   "outputs": [
    {
     "name": "stdout",
     "output_type": "stream",
     "text": [
      "Requirement already satisfied: mlxtend in /home/ec2-user/anaconda3/envs/tensorflow_p36/lib/python3.6/site-packages (0.17.2)\n",
      "Requirement already satisfied: matplotlib>=3.0.0 in /home/ec2-user/anaconda3/envs/tensorflow_p36/lib/python3.6/site-packages (from mlxtend) (3.0.3)\n",
      "Requirement already satisfied: setuptools in /home/ec2-user/anaconda3/envs/tensorflow_p36/lib/python3.6/site-packages (from mlxtend) (45.2.0)\n",
      "Requirement already satisfied: numpy>=1.16.2 in /home/ec2-user/anaconda3/envs/tensorflow_p36/lib/python3.6/site-packages (from mlxtend) (1.16.4)\n",
      "Requirement already satisfied: pandas>=0.24.2 in /home/ec2-user/anaconda3/envs/tensorflow_p36/lib/python3.6/site-packages (from mlxtend) (0.24.2)\n",
      "Requirement already satisfied: scikit-learn>=0.20.3 in /home/ec2-user/anaconda3/envs/tensorflow_p36/lib/python3.6/site-packages (from mlxtend) (0.22.1)\n",
      "Requirement already satisfied: joblib>=0.13.2 in /home/ec2-user/anaconda3/envs/tensorflow_p36/lib/python3.6/site-packages (from mlxtend) (0.14.1)\n",
      "Requirement already satisfied: scipy>=1.2.1 in /home/ec2-user/anaconda3/envs/tensorflow_p36/lib/python3.6/site-packages (from mlxtend) (1.4.1)\n",
      "Requirement already satisfied: kiwisolver>=1.0.1 in /home/ec2-user/anaconda3/envs/tensorflow_p36/lib/python3.6/site-packages (from matplotlib>=3.0.0->mlxtend) (1.0.1)\n",
      "Requirement already satisfied: cycler>=0.10 in /home/ec2-user/anaconda3/envs/tensorflow_p36/lib/python3.6/site-packages (from matplotlib>=3.0.0->mlxtend) (0.10.0)\n",
      "Requirement already satisfied: python-dateutil>=2.1 in /home/ec2-user/anaconda3/envs/tensorflow_p36/lib/python3.6/site-packages (from matplotlib>=3.0.0->mlxtend) (2.7.3)\n",
      "Requirement already satisfied: pyparsing!=2.0.4,!=2.1.2,!=2.1.6,>=2.0.1 in /home/ec2-user/anaconda3/envs/tensorflow_p36/lib/python3.6/site-packages (from matplotlib>=3.0.0->mlxtend) (2.2.0)\n",
      "Requirement already satisfied: pytz>=2011k in /home/ec2-user/anaconda3/envs/tensorflow_p36/lib/python3.6/site-packages (from pandas>=0.24.2->mlxtend) (2018.4)\n",
      "Requirement already satisfied: six in /home/ec2-user/anaconda3/envs/tensorflow_p36/lib/python3.6/site-packages (from cycler>=0.10->matplotlib>=3.0.0->mlxtend) (1.11.0)\n",
      "\u001b[33mWARNING: You are using pip version 19.3.1; however, version 20.1.1 is available.\n",
      "You should consider upgrading via the 'pip install --upgrade pip' command.\u001b[0m\n"
     ]
    }
   ],
   "source": [
    "!pip install mlxtend  "
   ]
  },
  {
   "cell_type": "markdown",
   "metadata": {},
   "source": [
    "# Import dependencies"
   ]
  },
  {
   "cell_type": "code",
   "execution_count": 5,
   "metadata": {
    "colab": {},
    "colab_type": "code",
    "id": "zCD9tuX4X_g6"
   },
   "outputs": [
    {
     "name": "stderr",
     "output_type": "stream",
     "text": [
      "Using TensorFlow backend.\n"
     ]
    }
   ],
   "source": [
    "import tensorflow as tf\n",
    "from tensorflow import keras\n",
    "from tensorflow.keras.models import Sequential\n",
    "from tensorflow.keras.layers import Dense, Conv2D, MaxPooling2D, Flatten\n",
    "import numpy as np\n",
    "import matplotlib.pyplot as plt\n",
    "import pandas as pd\n",
    "import os\n",
    "from tensorflow.keras.utils import Sequence\n",
    "import math\n",
    "import pydicom\n",
    "from keras.applications.inception_v3 import InceptionV3, preprocess_input\n",
    "from tensorflow.keras.callbacks import ModelCheckpoint, EarlyStopping, ReduceLROnPlateau, Callback\n",
    "import seaborn as sns\n",
    "from pydicom import dcmread\n",
    "from pydicom.filebase import DicomBytesIO\n",
    "import cv2\n",
    "from mlxtend.plotting import plot_confusion_matrix\n",
    "from sklearn.metrics import confusion_matrix\n",
    "import time"
   ]
  },
  {
   "cell_type": "code",
   "execution_count": 7,
   "metadata": {},
   "outputs": [],
   "source": [
    "class TimeHistory(keras.callbacks.Callback):\n",
    "    def on_train_begin(self, logs={}):\n",
    "        self.times = []\n",
    "\n",
    "    def on_epoch_begin(self, epoch, logs={}):\n",
    "        self.epoch_time_start = time.time()\n",
    "\n",
    "    def on_epoch_end(self, epoch, logs={}):\n",
    "        self.times.append(time.time() - self.epoch_time_start)"
   ]
  },
  {
   "cell_type": "markdown",
   "metadata": {
    "colab_type": "text",
    "id": "b8n21VASYLy0"
   },
   "source": [
    "# **Load Labels**"
   ]
  },
  {
   "cell_type": "code",
   "execution_count": 8,
   "metadata": {
    "colab": {},
    "colab_type": "code",
    "id": "rvZU8hOdYOJU"
   },
   "outputs": [],
   "source": [
    "root_path = 'sagemaker-capstone-pd'\n",
    "train_dicom_dir = 'pneumonia-dataset/stage_2_train_images/'\n",
    "train_lables_filename = 'pneumonia-dataset/stage_2_train_labels.csv'\n"
   ]
  },
  {
   "cell_type": "code",
   "execution_count": 9,
   "metadata": {},
   "outputs": [],
   "source": [
    "def load_csv_file(path, filename):\n",
    "  bucket = path\n",
    "  data_key = filename\n",
    "  data_location = 's3://{}/{}'.format(bucket, data_key) \n",
    "  train_labels_df = pd.read_csv(data_location)\n",
    "  return train_labels_df"
   ]
  },
  {
   "cell_type": "code",
   "execution_count": 10,
   "metadata": {},
   "outputs": [],
   "source": [
    "training_data = load_csv_file(root_path,train_lables_filename )"
   ]
  },
  {
   "cell_type": "code",
   "execution_count": 11,
   "metadata": {
    "colab": {
     "base_uri": "https://localhost:8080/",
     "height": 34
    },
    "colab_type": "code",
    "id": "Nv0eP9wsYoaU",
    "outputId": "07cf96a9-240c-4491-8044-443f425beb56"
   },
   "outputs": [
    {
     "name": "stdout",
     "output_type": "stream",
     "text": [
      "(30227, 6)\n"
     ]
    }
   ],
   "source": [
    "print(training_data.shape)"
   ]
  },
  {
   "cell_type": "code",
   "execution_count": 12,
   "metadata": {
    "colab": {
     "base_uri": "https://localhost:8080/",
     "height": 195
    },
    "colab_type": "code",
    "id": "RUjk35iDYthL",
    "outputId": "da0fac61-4689-4502-96d2-ddc9a8de16eb"
   },
   "outputs": [
    {
     "data": {
      "text/html": [
       "<div>\n",
       "<style scoped>\n",
       "    .dataframe tbody tr th:only-of-type {\n",
       "        vertical-align: middle;\n",
       "    }\n",
       "\n",
       "    .dataframe tbody tr th {\n",
       "        vertical-align: top;\n",
       "    }\n",
       "\n",
       "    .dataframe thead th {\n",
       "        text-align: right;\n",
       "    }\n",
       "</style>\n",
       "<table border=\"1\" class=\"dataframe\">\n",
       "  <thead>\n",
       "    <tr style=\"text-align: right;\">\n",
       "      <th></th>\n",
       "      <th>patientId</th>\n",
       "      <th>x</th>\n",
       "      <th>y</th>\n",
       "      <th>width</th>\n",
       "      <th>height</th>\n",
       "      <th>Target</th>\n",
       "    </tr>\n",
       "  </thead>\n",
       "  <tbody>\n",
       "    <tr>\n",
       "      <th>0</th>\n",
       "      <td>0004cfab-14fd-4e49-80ba-63a80b6bddd6</td>\n",
       "      <td>NaN</td>\n",
       "      <td>NaN</td>\n",
       "      <td>NaN</td>\n",
       "      <td>NaN</td>\n",
       "      <td>0</td>\n",
       "    </tr>\n",
       "    <tr>\n",
       "      <th>1</th>\n",
       "      <td>00313ee0-9eaa-42f4-b0ab-c148ed3241cd</td>\n",
       "      <td>NaN</td>\n",
       "      <td>NaN</td>\n",
       "      <td>NaN</td>\n",
       "      <td>NaN</td>\n",
       "      <td>0</td>\n",
       "    </tr>\n",
       "    <tr>\n",
       "      <th>2</th>\n",
       "      <td>00322d4d-1c29-4943-afc9-b6754be640eb</td>\n",
       "      <td>NaN</td>\n",
       "      <td>NaN</td>\n",
       "      <td>NaN</td>\n",
       "      <td>NaN</td>\n",
       "      <td>0</td>\n",
       "    </tr>\n",
       "    <tr>\n",
       "      <th>3</th>\n",
       "      <td>003d8fa0-6bf1-40ed-b54c-ac657f8495c5</td>\n",
       "      <td>NaN</td>\n",
       "      <td>NaN</td>\n",
       "      <td>NaN</td>\n",
       "      <td>NaN</td>\n",
       "      <td>0</td>\n",
       "    </tr>\n",
       "    <tr>\n",
       "      <th>4</th>\n",
       "      <td>00436515-870c-4b36-a041-de91049b9ab4</td>\n",
       "      <td>264.0</td>\n",
       "      <td>152.0</td>\n",
       "      <td>213.0</td>\n",
       "      <td>379.0</td>\n",
       "      <td>1</td>\n",
       "    </tr>\n",
       "  </tbody>\n",
       "</table>\n",
       "</div>"
      ],
      "text/plain": [
       "                              patientId      x      y  width  height  Target\n",
       "0  0004cfab-14fd-4e49-80ba-63a80b6bddd6    NaN    NaN    NaN     NaN       0\n",
       "1  00313ee0-9eaa-42f4-b0ab-c148ed3241cd    NaN    NaN    NaN     NaN       0\n",
       "2  00322d4d-1c29-4943-afc9-b6754be640eb    NaN    NaN    NaN     NaN       0\n",
       "3  003d8fa0-6bf1-40ed-b54c-ac657f8495c5    NaN    NaN    NaN     NaN       0\n",
       "4  00436515-870c-4b36-a041-de91049b9ab4  264.0  152.0  213.0   379.0       1"
      ]
     },
     "execution_count": 12,
     "metadata": {},
     "output_type": "execute_result"
    }
   ],
   "source": [
    "training_data.head()"
   ]
  },
  {
   "cell_type": "code",
   "execution_count": 13,
   "metadata": {
    "colab": {},
    "colab_type": "code",
    "id": "-iq4PX7wZBi0"
   },
   "outputs": [],
   "source": [
    "training_imgs = [\"{}.dcm\".format(x) for x in list(training_data.patientId)]"
   ]
  },
  {
   "cell_type": "code",
   "execution_count": 14,
   "metadata": {
    "colab": {
     "base_uri": "https://localhost:8080/",
     "height": 54
    },
    "colab_type": "code",
    "id": "oKDyUPRgZRPk",
    "outputId": "f9237615-8afb-4674-c473-aa9b65d31fe2"
   },
   "outputs": [
    {
     "name": "stdout",
     "output_type": "stream",
     "text": [
      "['0004cfab-14fd-4e49-80ba-63a80b6bddd6.dcm', '00313ee0-9eaa-42f4-b0ab-c148ed3241cd.dcm', '00322d4d-1c29-4943-afc9-b6754be640eb.dcm', '003d8fa0-6bf1-40ed-b54c-ac657f8495c5.dcm', '00436515-870c-4b36-a041-de91049b9ab4.dcm']\n"
     ]
    }
   ],
   "source": [
    "print(training_imgs[:5])"
   ]
  },
  {
   "cell_type": "code",
   "execution_count": 15,
   "metadata": {
    "colab": {},
    "colab_type": "code",
    "id": "1zqeZAh5aEbC"
   },
   "outputs": [],
   "source": [
    "training_labels_1 = list(training_data['Target'])"
   ]
  },
  {
   "cell_type": "code",
   "execution_count": 16,
   "metadata": {
    "colab": {
     "base_uri": "https://localhost:8080/",
     "height": 34
    },
    "colab_type": "code",
    "id": "vOxhsIOgaJHz",
    "outputId": "52a4cb26-b8b2-485a-eef9-d7ced2b95454"
   },
   "outputs": [
    {
     "name": "stdout",
     "output_type": "stream",
     "text": [
      "[0, 0, 0, 0, 1]\n"
     ]
    }
   ],
   "source": [
    "print(training_labels_1[:5])"
   ]
  },
  {
   "cell_type": "code",
   "execution_count": 17,
   "metadata": {
    "colab": {},
    "colab_type": "code",
    "id": "UnCqWnoNanLY"
   },
   "outputs": [],
   "source": [
    "training_data_1 = pd.DataFrame( {'Images': training_imgs,'Target': training_labels_1})\n"
   ]
  },
  {
   "cell_type": "code",
   "execution_count": 18,
   "metadata": {
    "colab": {
     "base_uri": "https://localhost:8080/",
     "height": 168
    },
    "colab_type": "code",
    "id": "mM_dWvwcatEu",
    "outputId": "0370d03e-0ea6-45dd-ac86-6228896d9c31"
   },
   "outputs": [
    {
     "name": "stdout",
     "output_type": "stream",
     "text": [
      "<class 'pandas.core.frame.DataFrame'>\n",
      "RangeIndex: 30227 entries, 0 to 30226\n",
      "Data columns (total 2 columns):\n",
      "Images    30227 non-null object\n",
      "Target    30227 non-null int64\n",
      "dtypes: int64(1), object(1)\n",
      "memory usage: 472.4+ KB\n"
     ]
    }
   ],
   "source": [
    "training_data_1.info()"
   ]
  },
  {
   "cell_type": "code",
   "execution_count": 19,
   "metadata": {
    "colab": {
     "base_uri": "https://localhost:8080/",
     "height": 195
    },
    "colab_type": "code",
    "id": "aDlpxIY_a2T3",
    "outputId": "9485011f-5d1c-4efb-a81e-98264893db49"
   },
   "outputs": [
    {
     "data": {
      "text/html": [
       "<div>\n",
       "<style scoped>\n",
       "    .dataframe tbody tr th:only-of-type {\n",
       "        vertical-align: middle;\n",
       "    }\n",
       "\n",
       "    .dataframe tbody tr th {\n",
       "        vertical-align: top;\n",
       "    }\n",
       "\n",
       "    .dataframe thead th {\n",
       "        text-align: right;\n",
       "    }\n",
       "</style>\n",
       "<table border=\"1\" class=\"dataframe\">\n",
       "  <thead>\n",
       "    <tr style=\"text-align: right;\">\n",
       "      <th></th>\n",
       "      <th>Images</th>\n",
       "      <th>Target</th>\n",
       "    </tr>\n",
       "  </thead>\n",
       "  <tbody>\n",
       "    <tr>\n",
       "      <th>0</th>\n",
       "      <td>0004cfab-14fd-4e49-80ba-63a80b6bddd6.dcm</td>\n",
       "      <td>0</td>\n",
       "    </tr>\n",
       "    <tr>\n",
       "      <th>1</th>\n",
       "      <td>00313ee0-9eaa-42f4-b0ab-c148ed3241cd.dcm</td>\n",
       "      <td>0</td>\n",
       "    </tr>\n",
       "    <tr>\n",
       "      <th>2</th>\n",
       "      <td>00322d4d-1c29-4943-afc9-b6754be640eb.dcm</td>\n",
       "      <td>0</td>\n",
       "    </tr>\n",
       "    <tr>\n",
       "      <th>3</th>\n",
       "      <td>003d8fa0-6bf1-40ed-b54c-ac657f8495c5.dcm</td>\n",
       "      <td>0</td>\n",
       "    </tr>\n",
       "    <tr>\n",
       "      <th>4</th>\n",
       "      <td>00436515-870c-4b36-a041-de91049b9ab4.dcm</td>\n",
       "      <td>1</td>\n",
       "    </tr>\n",
       "  </tbody>\n",
       "</table>\n",
       "</div>"
      ],
      "text/plain": [
       "                                     Images  Target\n",
       "0  0004cfab-14fd-4e49-80ba-63a80b6bddd6.dcm       0\n",
       "1  00313ee0-9eaa-42f4-b0ab-c148ed3241cd.dcm       0\n",
       "2  00322d4d-1c29-4943-afc9-b6754be640eb.dcm       0\n",
       "3  003d8fa0-6bf1-40ed-b54c-ac657f8495c5.dcm       0\n",
       "4  00436515-870c-4b36-a041-de91049b9ab4.dcm       1"
      ]
     },
     "execution_count": 19,
     "metadata": {},
     "output_type": "execute_result"
    }
   ],
   "source": [
    "training_data_1.head()"
   ]
  },
  {
   "cell_type": "markdown",
   "metadata": {},
   "source": [
    "# Train & Validation split"
   ]
  },
  {
   "cell_type": "code",
   "execution_count": 21,
   "metadata": {
    "colab": {
     "base_uri": "https://localhost:8080/",
     "height": 168
    },
    "colab_type": "code",
    "id": "5wUGuBJ1baJo",
    "outputId": "60290a12-ccec-4065-ce75-51225b378194"
   },
   "outputs": [
    {
     "name": "stdout",
     "output_type": "stream",
     "text": [
      "<class 'pandas.core.frame.DataFrame'>\n",
      "Int64Index: 30227 entries, 0 to 28988\n",
      "Data columns (total 2 columns):\n",
      "Images    30227 non-null object\n",
      "Target    30227 non-null int64\n",
      "dtypes: int64(1), object(1)\n",
      "memory usage: 708.4+ KB\n"
     ]
    }
   ],
   "source": [
    "from sklearn.model_selection import train_test_split\n",
    "\n",
    "# Sort the rows of dataframe by column 'Images'\n",
    "training_data_1 = training_data_1.sort_values(by ='Images', ascending=True )\n",
    "#temp_df = training_data_1.iloc[:100] use only for testing\n",
    "temp_df = training_data_1\n",
    "temp_df.info()"
   ]
  },
  {
   "cell_type": "code",
   "execution_count": 22,
   "metadata": {
    "colab": {},
    "colab_type": "code",
    "id": "nCslD869-7Ip"
   },
   "outputs": [],
   "source": [
    "training_set = pd.DataFrame()\n",
    "validation_set = pd.DataFrame()\n",
    "\n",
    "training_set, validation_set = train_test_split(temp_df, random_state = 0, test_size = 0.2)"
   ]
  },
  {
   "cell_type": "code",
   "execution_count": 23,
   "metadata": {
    "colab": {
     "base_uri": "https://localhost:8080/",
     "height": 386
    },
    "colab_type": "code",
    "id": "zGFWExIVbiOK",
    "outputId": "ddd68ac6-70f4-49b5-b5af-6c3bca5374e5"
   },
   "outputs": [
    {
     "name": "stdout",
     "output_type": "stream",
     "text": [
      "<class 'pandas.core.frame.DataFrame'>\n",
      "RangeIndex: 24181 entries, 0 to 24180\n",
      "Data columns (total 3 columns):\n",
      "index     24181 non-null int64\n",
      "Images    24181 non-null object\n",
      "Target    24181 non-null int64\n",
      "dtypes: int64(2), object(1)\n",
      "memory usage: 566.8+ KB\n",
      "None\n",
      "<class 'pandas.core.frame.DataFrame'>\n",
      "RangeIndex: 6046 entries, 0 to 6045\n",
      "Data columns (total 3 columns):\n",
      "index     6046 non-null int64\n",
      "Images    6046 non-null object\n",
      "Target    6046 non-null int64\n",
      "dtypes: int64(2), object(1)\n",
      "memory usage: 141.8+ KB\n",
      "None\n"
     ]
    }
   ],
   "source": [
    "training_set.reset_index(inplace = True)\n",
    "validation_set.reset_index(inplace = True)\n",
    "\n",
    "print(training_set.info())\n",
    "print(validation_set.info())"
   ]
  },
  {
   "cell_type": "code",
   "execution_count": 24,
   "metadata": {
    "colab": {
     "base_uri": "https://localhost:8080/",
     "height": 279
    },
    "colab_type": "code",
    "id": "VEWyLWy0-MT9",
    "outputId": "54c47bcd-f702-4be2-9318-4aea6b05903e"
   },
   "outputs": [
    {
     "data": {
      "image/png": "[encoded data removed]",
      "text/plain": [
       "<Figure size 432x288 with 1 Axes>"
      ]
     },
     "metadata": {},
     "output_type": "display_data"
    }
   ],
   "source": [
    "ax = sns.countplot(x=\"Target\", data=training_set)"
   ]
  },
  {
   "cell_type": "code",
   "execution_count": 25,
   "metadata": {
    "colab": {
     "base_uri": "https://localhost:8080/",
     "height": 279
    },
    "colab_type": "code",
    "id": "V-aH_MYa-kh0",
    "outputId": "4cee2b2e-e65f-4a31-b561-d77ec794c56a"
   },
   "outputs": [
    {
     "data": {
      "image/png": "[encoded data removed]",
      "text/plain": [
       "<Figure size 432x288 with 1 Axes>"
      ]
     },
     "metadata": {},
     "output_type": "display_data"
    }
   ],
   "source": [
    "ax = sns.countplot(x=\"Target\", data=validation_set)"
   ]
  },
  {
   "cell_type": "code",
   "execution_count": 26,
   "metadata": {
    "colab": {
     "base_uri": "https://localhost:8080/",
     "height": 195
    },
    "colab_type": "code",
    "id": "xH3WYbbgmvbJ",
    "outputId": "27467ac2-d051-42c1-ec4b-7c82c1edf947"
   },
   "outputs": [
    {
     "data": {
      "text/html": [
       "<div>\n",
       "<style scoped>\n",
       "    .dataframe tbody tr th:only-of-type {\n",
       "        vertical-align: middle;\n",
       "    }\n",
       "\n",
       "    .dataframe tbody tr th {\n",
       "        vertical-align: top;\n",
       "    }\n",
       "\n",
       "    .dataframe thead th {\n",
       "        text-align: right;\n",
       "    }\n",
       "</style>\n",
       "<table border=\"1\" class=\"dataframe\">\n",
       "  <thead>\n",
       "    <tr style=\"text-align: right;\">\n",
       "      <th></th>\n",
       "      <th>index</th>\n",
       "      <th>Images</th>\n",
       "      <th>Target</th>\n",
       "    </tr>\n",
       "  </thead>\n",
       "  <tbody>\n",
       "    <tr>\n",
       "      <th>0</th>\n",
       "      <td>5846</td>\n",
       "      <td>4a21a2af-8822-43aa-9dcd-6b412dcb3d43.dcm</td>\n",
       "      <td>0</td>\n",
       "    </tr>\n",
       "    <tr>\n",
       "      <th>1</th>\n",
       "      <td>27577</td>\n",
       "      <td>f4d92d38-4a58-45d4-a5a3-dd83772e51bc.dcm</td>\n",
       "      <td>0</td>\n",
       "    </tr>\n",
       "    <tr>\n",
       "      <th>2</th>\n",
       "      <td>22291</td>\n",
       "      <td>c9b3c7ce-4f39-4702-8206-2903d27afa9c.dcm</td>\n",
       "      <td>0</td>\n",
       "    </tr>\n",
       "    <tr>\n",
       "      <th>3</th>\n",
       "      <td>16384</td>\n",
       "      <td>9ea49ec4-2b4f-4e7b-94f1-99ba8d10a629.dcm</td>\n",
       "      <td>0</td>\n",
       "    </tr>\n",
       "    <tr>\n",
       "      <th>4</th>\n",
       "      <td>10849</td>\n",
       "      <td>7245635f-de15-4117-9069-e39743d9da2f.dcm</td>\n",
       "      <td>0</td>\n",
       "    </tr>\n",
       "  </tbody>\n",
       "</table>\n",
       "</div>"
      ],
      "text/plain": [
       "   index                                    Images  Target\n",
       "0   5846  4a21a2af-8822-43aa-9dcd-6b412dcb3d43.dcm       0\n",
       "1  27577  f4d92d38-4a58-45d4-a5a3-dd83772e51bc.dcm       0\n",
       "2  22291  c9b3c7ce-4f39-4702-8206-2903d27afa9c.dcm       0\n",
       "3  16384  9ea49ec4-2b4f-4e7b-94f1-99ba8d10a629.dcm       0\n",
       "4  10849  7245635f-de15-4117-9069-e39743d9da2f.dcm       0"
      ]
     },
     "execution_count": 26,
     "metadata": {},
     "output_type": "execute_result"
    }
   ],
   "source": [
    "training_set.head()"
   ]
  },
  {
   "cell_type": "code",
   "execution_count": 27,
   "metadata": {
    "colab": {},
    "colab_type": "code",
    "id": "_kXQjHKWzZMH"
   },
   "outputs": [],
   "source": [
    "IMAGE_SIZE = 224\n",
    "BATCH_SIZE = 50\n",
    "EPOCHS = 5 # Number of epochs.\n",
    "PATIENCE = 2 # Patience for early stopping\n",
    "MULTI_PROCESSING = True \n",
    "THREADS = 1\n",
    "IMG_SHAPE = (IMAGE_SIZE, IMAGE_SIZE, 3)"
   ]
  },
  {
   "cell_type": "code",
   "execution_count": 28,
   "metadata": {
    "colab": {},
    "colab_type": "code",
    "id": "r61q-XirvjEV"
   },
   "outputs": [],
   "source": [
    "# Training Data Generator\n",
    "\n",
    "class DataGen(Sequence):\n",
    "    def __init__(self, data_df):\n",
    "        self.paths = []\n",
    "        df_len = len(data_df)\n",
    "        self.pneumonia_calss = np.zeros((df_len,2))\n",
    "        for index, row in data_df.iterrows():\n",
    "          #print(index)\n",
    "          path = row['Images']\n",
    "          classes = row['Target']\n",
    "          self.paths.append(path) # Read image from here\n",
    "          #self.pneumonia_calss.append(classes) # Read target from here\n",
    "          if classes == 1:\n",
    "            self.pneumonia_calss[index, 0] = 1\n",
    "            self.pneumonia_calss[index, 1] = 0\n",
    "          else:\n",
    "            self.pneumonia_calss[index, 0] = 0\n",
    "            self.pneumonia_calss[index, 1] = 1\n",
    "        \n",
    "\n",
    "    def __len__(self):\n",
    "        return math.ceil(len(self.pneumonia_calss) / BATCH_SIZE)\n",
    "\n",
    "    def __getitem__(self, idx): # Get a batch\n",
    "        batch_paths = self.paths[idx * BATCH_SIZE:(idx + 1) * BATCH_SIZE] # Image path\n",
    "        batch_coords = self.pneumonia_calss[idx * BATCH_SIZE:(idx + 1) * BATCH_SIZE] # Image coords\n",
    "\n",
    "        batch_images = np.zeros((len(batch_paths), IMAGE_SIZE, IMAGE_SIZE, 3), dtype=np.float32)\n",
    "        session = boto3.Session()\n",
    "        s3_session = session.client('s3')\n",
    "        for i, f in enumerate(batch_paths):\n",
    "            \n",
    "            f = train_dicom_dir +  f\n",
    "            #print('file for loading ',  f)\n",
    "            fileobj = s3_session.get_object(Bucket=root_path,  Key=f )\n",
    "            dicom_data = fileobj['Body'].read()\n",
    "            dicom_bytes = DicomBytesIO(dicom_data)\n",
    "            c_dicom = dcmread(dicom_bytes) \n",
    "            image = c_dicom.pixel_array\n",
    "            # If grayscale. Convert to RGB for consistency.\n",
    "            if len(image.shape) != 3 or image.shape[2] != 3: \n",
    "                img = np.stack((image,) * 3, -1)\n",
    " \n",
    "            dim = (IMAGE_SIZE, IMAGE_SIZE)\n",
    "            img = cv2.resize(img, dim, interpolation = cv2.INTER_AREA)\n",
    "            #print(' File ', f, ' img shape ', img.shape )\n",
    "            batch_images[i] = preprocess_input(np.array(img, dtype=np.float32)) # Convert to float32 array\n",
    "            #print('batch_coords' , batch_coords)\n",
    "            \n",
    "        return batch_images, batch_coords"
   ]
  },
  {
   "cell_type": "code",
   "execution_count": 29,
   "metadata": {
    "colab": {},
    "colab_type": "code",
    "id": "g28Jvk2ne2-x"
   },
   "outputs": [],
   "source": [
    "train_dataGen  = DataGen(training_set)\n",
    "validation_datagen = DataGen(validation_set)"
   ]
  },
  {
   "cell_type": "markdown",
   "metadata": {},
   "source": [
    "# Model Initialization"
   ]
  },
  {
   "cell_type": "code",
   "execution_count": 30,
   "metadata": {
    "colab": {},
    "colab_type": "code",
    "id": "-a6JOsj80mOQ"
   },
   "outputs": [
    {
     "name": "stdout",
     "output_type": "stream",
     "text": [
      "WARNING:tensorflow:From /home/ec2-user/anaconda3/envs/tensorflow_p36/lib/python3.6/site-packages/tensorflow_core/python/ops/resource_variable_ops.py:1630: calling BaseResourceVariable.__init__ (from tensorflow.python.ops.resource_variable_ops) with constraint is deprecated and will be removed in a future version.\n",
      "Instructions for updating:\n",
      "If using Keras pass *_constraint arguments to layers.\n",
      "WARNING:tensorflow:OMP_NUM_THREADS is no longer used by the default Keras config. To configure the number of threads, use tf.config.threading APIs.\n"
     ]
    }
   ],
   "source": [
    "base_model = tf.keras.applications.InceptionV3(input_shape=IMG_SHAPE, include_top=False, weights='imagenet')"
   ]
  },
  {
   "cell_type": "markdown",
   "metadata": {},
   "source": [
    "# Trianable Layers"
   ]
  },
  {
   "cell_type": "code",
   "execution_count": 31,
   "metadata": {
    "colab": {},
    "colab_type": "code",
    "id": "bP3tTjpU0weh"
   },
   "outputs": [
    {
     "name": "stdout",
     "output_type": "stream",
     "text": [
      "<tensorflow.python.keras.engine.input_layer.InputLayer object at 0x7f7cec7732e8> False\n",
      "<tensorflow.python.keras.layers.convolutional.Conv2D object at 0x7f7cec782550> False\n",
      "<tensorflow.python.keras.layers.normalization.BatchNormalization object at 0x7f7cec72b0f0> False\n",
      "<tensorflow.python.keras.layers.core.Activation object at 0x7f7cec6dc0f0> False\n",
      "<tensorflow.python.keras.layers.convolutional.Conv2D object at 0x7f7cec6cafd0> False\n",
      "<tensorflow.python.keras.layers.normalization.BatchNormalization object at 0x7f7cec68fd30> False\n",
      "<tensorflow.python.keras.layers.core.Activation object at 0x7f7cec6a4b00> False\n",
      "<tensorflow.python.keras.layers.convolutional.Conv2D object at 0x7f7cec6b0dd8> False\n",
      "<tensorflow.python.keras.layers.normalization.BatchNormalization object at 0x7f7cec64e630> False\n",
      "<tensorflow.python.keras.layers.core.Activation object at 0x7f7cec65d518> False\n",
      "<tensorflow.python.keras.layers.pooling.MaxPooling2D object at 0x7f7cec64eb00> False\n",
      "<tensorflow.python.keras.layers.convolutional.Conv2D object at 0x7f7cec67f710> False\n",
      "<tensorflow.python.keras.layers.normalization.BatchNormalization object at 0x7f7cec6089b0> False\n",
      "<tensorflow.python.keras.layers.core.Activation object at 0x7f7cec614438> False\n",
      "<tensorflow.python.keras.layers.convolutional.Conv2D object at 0x7f7cec6089e8> False\n",
      "<tensorflow.python.keras.layers.normalization.BatchNormalization object at 0x7f7cec620780> False\n",
      "<tensorflow.python.keras.layers.core.Activation object at 0x7f7cec5c8e10> False\n",
      "<tensorflow.python.keras.layers.pooling.MaxPooling2D object at 0x7f7cec5ce048> False\n",
      "<tensorflow.python.keras.layers.convolutional.Conv2D object at 0x7f7cec56c438> False\n",
      "<tensorflow.python.keras.layers.normalization.BatchNormalization object at 0x7f7cec516d30> False\n",
      "<tensorflow.python.keras.layers.core.Activation object at 0x7f7cec524b00> False\n",
      "<tensorflow.python.keras.layers.convolutional.Conv2D object at 0x7f7cec58ee80> False\n",
      "<tensorflow.python.keras.layers.convolutional.Conv2D object at 0x7f7cec531dd8> False\n",
      "<tensorflow.python.keras.layers.normalization.BatchNormalization object at 0x7f7cec5ac940> False\n",
      "<tensorflow.python.keras.layers.normalization.BatchNormalization object at 0x7f7cec4cd630> False\n",
      "<tensorflow.python.keras.layers.core.Activation object at 0x7f7cec5b9748> False\n",
      "<tensorflow.python.keras.layers.core.Activation object at 0x7f7cec4d8518> False\n",
      "<tensorflow.python.keras.layers.pooling.AveragePooling2D object at 0x7f7cec493128> False\n",
      "<tensorflow.python.keras.layers.convolutional.Conv2D object at 0x7f7cec5f3b70> False\n",
      "<tensorflow.python.keras.layers.convolutional.Conv2D object at 0x7f7cec5acdd8> False\n",
      "<tensorflow.python.keras.layers.convolutional.Conv2D object at 0x7f7cec4cdb00> False\n",
      "<tensorflow.python.keras.layers.convolutional.Conv2D object at 0x7f7cec4ba710> False\n",
      "<tensorflow.python.keras.layers.normalization.BatchNormalization object at 0x7f7cec5f3cc0> False\n",
      "<tensorflow.python.keras.layers.normalization.BatchNormalization object at 0x7f7cec5656a0> False\n",
      "<tensorflow.python.keras.layers.normalization.BatchNormalization object at 0x7f7cec487400> False\n",
      "<tensorflow.python.keras.layers.normalization.BatchNormalization object at 0x7f7cec49cfd0> False\n",
      "<tensorflow.python.keras.layers.core.Activation object at 0x7f7cec600d30> False\n",
      "<tensorflow.python.keras.layers.core.Activation object at 0x7f7cec567128> False\n",
      "<tensorflow.python.keras.layers.core.Activation object at 0x7f7cec48eef0> False\n",
      "<tensorflow.python.keras.layers.core.Activation object at 0x7f7cec448dd8> False\n",
      "<tensorflow.python.keras.layers.merge.Concatenate object at 0x7f7cec4c03c8> False\n",
      "<tensorflow.python.keras.layers.convolutional.Conv2D object at 0x7f7ceb931710> False\n",
      "<tensorflow.python.keras.layers.normalization.BatchNormalization object at 0x7f7ceb8e4f60> False\n",
      "<tensorflow.python.keras.layers.core.Activation object at 0x7f7ceb8f2c18> False\n",
      "<tensorflow.python.keras.layers.convolutional.Conv2D object at 0x7f7cec47d3c8> False\n",
      "<tensorflow.python.keras.layers.convolutional.Conv2D object at 0x7f7ceb88ef60> False\n",
      "<tensorflow.python.keras.layers.normalization.BatchNormalization object at 0x7f7cec427ef0> False\n",
      "<tensorflow.python.keras.layers.normalization.BatchNormalization object at 0x7f7ceb89acc0> False\n",
      "<tensorflow.python.keras.layers.core.Activation object at 0x7f7cec43c828> False\n",
      "<tensorflow.python.keras.layers.core.Activation object at 0x7f7ceb8aa630> False\n",
      "<tensorflow.python.keras.layers.pooling.AveragePooling2D object at 0x7f7ceb8564a8> False\n",
      "<tensorflow.python.keras.layers.convolutional.Conv2D object at 0x7f7cec474c18> False\n",
      "<tensorflow.python.keras.layers.convolutional.Conv2D object at 0x7f7cec427128> False\n",
      "<tensorflow.python.keras.layers.convolutional.Conv2D object at 0x7f7ceb89a748> False\n",
      "<tensorflow.python.keras.layers.convolutional.Conv2D object at 0x7f7ceb889d68> False\n",
      "<tensorflow.python.keras.layers.normalization.BatchNormalization object at 0x7f7cec448fd0> False\n",
      "<tensorflow.python.keras.layers.normalization.BatchNormalization object at 0x7f7ceb9315c0> False\n",
      "<tensorflow.python.keras.layers.normalization.BatchNormalization object at 0x7f7ceb856630> False\n",
      "<tensorflow.python.keras.layers.normalization.BatchNormalization object at 0x7f7ceb80e4e0> False\n",
      "<tensorflow.python.keras.layers.core.Activation object at 0x7f7cec483dd8> False\n",
      "<tensorflow.python.keras.layers.core.Activation object at 0x7f7ceb93e240> False\n",
      "<tensorflow.python.keras.layers.core.Activation object at 0x7f7ceb85cef0> False\n",
      "<tensorflow.python.keras.layers.core.Activation object at 0x7f7ceb814f28> False\n",
      "<tensorflow.python.keras.layers.merge.Concatenate object at 0x7f7ceb81a160> False\n",
      "<tensorflow.python.keras.layers.convolutional.Conv2D object at 0x7f7ceccefe10> False\n",
      "<tensorflow.python.keras.layers.normalization.BatchNormalization object at 0x7f7cec842780> False\n",
      "<tensorflow.python.keras.layers.core.Activation object at 0x7f7ceb7a5e10> False\n",
      "<tensorflow.python.keras.layers.convolutional.Conv2D object at 0x7f7ceb7d3160> False\n",
      "<tensorflow.python.keras.layers.convolutional.Conv2D object at 0x7f7ceb7ac048> False\n",
      "<tensorflow.python.keras.layers.normalization.BatchNormalization object at 0x7f7ceb7f1fd0> False\n",
      "<tensorflow.python.keras.layers.normalization.BatchNormalization object at 0x7f7ceb7c9ef0> False\n",
      "<tensorflow.python.keras.layers.core.Activation object at 0x7f7ceb806940> False\n",
      "<tensorflow.python.keras.layers.core.Activation object at 0x7f7ceb760828> False\n",
      "<tensorflow.python.keras.layers.pooling.AveragePooling2D object at 0x7f7ceb78b710> False\n",
      "<tensorflow.python.keras.layers.convolutional.Conv2D object at 0x7f7ceb83fba8> False\n",
      "<tensorflow.python.keras.layers.convolutional.Conv2D object at 0x7f7ceb7f1240> False\n",
      "<tensorflow.python.keras.layers.convolutional.Conv2D object at 0x7f7ceb7c9f28> False\n",
      "<tensorflow.python.keras.layers.convolutional.Conv2D object at 0x7f7ceb72f8d0> False\n",
      "<tensorflow.python.keras.layers.normalization.BatchNormalization object at 0x7f7ceb8454e0> False\n",
      "<tensorflow.python.keras.layers.normalization.BatchNormalization object at 0x7f7cecceffd0> False\n",
      "<tensorflow.python.keras.layers.normalization.BatchNormalization object at 0x7f7ceb78b5c0> False\n",
      "<tensorflow.python.keras.layers.normalization.BatchNormalization object at 0x7f7ceb73f6d8> False\n",
      "<tensorflow.python.keras.layers.core.Activation object at 0x7f7ceb7cef28> False\n",
      "<tensorflow.python.keras.layers.core.Activation object at 0x7f7cec835438> False\n",
      "<tensorflow.python.keras.layers.core.Activation object at 0x7f7ceb716240> False\n",
      "<tensorflow.python.keras.layers.core.Activation object at 0x7f7ceb748160> False\n",
      "<tensorflow.python.keras.layers.merge.Concatenate object at 0x7f7ceb73f710> False\n",
      "<tensorflow.python.keras.layers.convolutional.Conv2D object at 0x7f7ceb6f7710> False\n",
      "<tensorflow.python.keras.layers.normalization.BatchNormalization object at 0x7f7ceb6abda0> False\n",
      "<tensorflow.python.keras.layers.core.Activation object at 0x7f7ceb6b7b38> False\n",
      "<tensorflow.python.keras.layers.convolutional.Conv2D object at 0x7f7ceb6c2e80> False\n",
      "<tensorflow.python.keras.layers.normalization.BatchNormalization object at 0x7f7ceb65ecc0> False\n",
      "<tensorflow.python.keras.layers.core.Activation object at 0x7f7ceb66c550> False\n",
      "<tensorflow.python.keras.layers.convolutional.Conv2D object at 0x7f7ceb6f2eb8> False\n",
      "<tensorflow.python.keras.layers.convolutional.Conv2D object at 0x7f7ceb65e860> False\n",
      "<tensorflow.python.keras.layers.normalization.BatchNormalization object at 0x7f7ceb6f76d8> False\n",
      "<tensorflow.python.keras.layers.normalization.BatchNormalization object at 0x7f7ceb618240> False\n",
      "<tensorflow.python.keras.layers.core.Activation object at 0x7f7ceb703160> False\n",
      "<tensorflow.python.keras.layers.core.Activation object at 0x7f7ceb61df28> False\n",
      "<tensorflow.python.keras.layers.pooling.MaxPooling2D object at 0x7f7ceb622080> False\n",
      "<tensorflow.python.keras.layers.merge.Concatenate object at 0x7f7ceb64bc18> False\n",
      "<tensorflow.python.keras.layers.convolutional.Conv2D object at 0x7f7ceb5766d8> False\n",
      "<tensorflow.python.keras.layers.normalization.BatchNormalization object at 0x7f7ceb527eb8> False\n",
      "<tensorflow.python.keras.layers.core.Activation object at 0x7f7ceb533b70> False\n",
      "<tensorflow.python.keras.layers.convolutional.Conv2D object at 0x7f7ceb541e48> False\n",
      "<tensorflow.python.keras.layers.normalization.BatchNormalization object at 0x7f7ceb4e0ba8> False\n",
      "<tensorflow.python.keras.layers.core.Activation object at 0x7f7ceb4ee588> False\n",
      "<tensorflow.python.keras.layers.convolutional.Conv2D object at 0x7f7ceb5d0908> False\n",
      "<tensorflow.python.keras.layers.convolutional.Conv2D object at 0x7f7ceb4e0518> False\n",
      "<tensorflow.python.keras.layers.normalization.BatchNormalization object at 0x7f7ceb603f60> False\n",
      "<tensorflow.python.keras.layers.normalization.BatchNormalization object at 0x7f7ceb49a438> False\n",
      "<tensorflow.python.keras.layers.core.Activation object at 0x7f7ceb591d68> False\n",
      "<tensorflow.python.keras.layers.core.Activation object at 0x7f7ceb4a0fd0> False\n",
      "<tensorflow.python.keras.layers.convolutional.Conv2D object at 0x7f7ceb609400> False\n",
      "<tensorflow.python.keras.layers.convolutional.Conv2D object at 0x7f7ceb4a4198> False\n",
      "<tensorflow.python.keras.layers.normalization.BatchNormalization object at 0x7f7ceb5bcef0> False\n",
      "<tensorflow.python.keras.layers.normalization.BatchNormalization object at 0x7f7ceb4c5208> False\n",
      "<tensorflow.python.keras.layers.core.Activation object at 0x7f7ceb5ca780> False\n",
      "<tensorflow.python.keras.layers.core.Activation object at 0x7f7ceb459978> False\n",
      "<tensorflow.python.keras.layers.pooling.AveragePooling2D object at 0x7f7ceb483898> False\n",
      "<tensorflow.python.keras.layers.convolutional.Conv2D object at 0x7f7ceb622160> False\n",
      "<tensorflow.python.keras.layers.convolutional.Conv2D object at 0x7f7ceb5bce48> False\n",
      "<tensorflow.python.keras.layers.convolutional.Conv2D object at 0x7f7ceb4c5f98> False\n",
      "<tensorflow.python.keras.layers.convolutional.Conv2D object at 0x7f7ceb437a90> False\n",
      "<tensorflow.python.keras.layers.normalization.BatchNormalization object at 0x7f7ceb5d08d0> False\n",
      "<tensorflow.python.keras.layers.normalization.BatchNormalization object at 0x7f7ceb576630> False\n",
      "<tensorflow.python.keras.layers.normalization.BatchNormalization object at 0x7f7ceb483748> False\n",
      "<tensorflow.python.keras.layers.normalization.BatchNormalization object at 0x7f7ceb43f828> False\n",
      "<tensorflow.python.keras.layers.core.Activation object at 0x7f7ceb5dc390> False\n",
      "<tensorflow.python.keras.layers.core.Activation object at 0x7f7ceb582198> False\n",
      "<tensorflow.python.keras.layers.core.Activation object at 0x7f7ceb411390> False\n",
      "<tensorflow.python.keras.layers.core.Activation object at 0x7f7ceb4482b0> False\n",
      "<tensorflow.python.keras.layers.merge.Concatenate object at 0x7f7ceb43f860> False\n",
      "<tensorflow.python.keras.layers.convolutional.Conv2D object at 0x7f7ceb31b748> False\n",
      "<tensorflow.python.keras.layers.normalization.BatchNormalization object at 0x7f7ceb2cde48> False\n",
      "<tensorflow.python.keras.layers.core.Activation object at 0x7f7ceb2dea90> False\n",
      "<tensorflow.python.keras.layers.convolutional.Conv2D object at 0x7f7ceb2fada0> False\n",
      "<tensorflow.python.keras.layers.normalization.BatchNormalization object at 0x7f7ceb306828> False\n",
      "<tensorflow.python.keras.layers.core.Activation object at 0x7f7ceb2944a8> False\n",
      "<tensorflow.python.keras.layers.convolutional.Conv2D object at 0x7f7ceb3f9828> False\n",
      "<tensorflow.python.keras.layers.convolutional.Conv2D object at 0x7f7ceb306b38> False\n",
      "<tensorflow.python.keras.layers.normalization.BatchNormalization object at 0x7f7ceb3a9fd0> False\n",
      "<tensorflow.python.keras.layers.normalization.BatchNormalization object at 0x7f7ceb2bf240> False\n",
      "<tensorflow.python.keras.layers.core.Activation object at 0x7f7ceb3b9c50> False\n",
      "<tensorflow.python.keras.layers.core.Activation object at 0x7f7ceb24e0b8> False\n",
      "<tensorflow.python.keras.layers.convolutional.Conv2D object at 0x7f7ceb355f28> False\n",
      "<tensorflow.python.keras.layers.convolutional.Conv2D object at 0x7f7ceb2c5f98> False\n",
      "<tensorflow.python.keras.layers.normalization.BatchNormalization object at 0x7f7ceb362b70> False\n",
      "<tensorflow.python.keras.layers.normalization.BatchNormalization object at 0x7f7ceb26dda0> False\n",
      "<tensorflow.python.keras.layers.core.Activation object at 0x7f7ceb36f6a0> False\n",
      "<tensorflow.python.keras.layers.core.Activation object at 0x7f7ceb281898> False\n",
      "<tensorflow.python.keras.layers.pooling.AveragePooling2D object at 0x7f7ceb22d940> False\n",
      "<tensorflow.python.keras.layers.convolutional.Conv2D object at 0x7f7ceb3f04a8> False\n",
      "<tensorflow.python.keras.layers.convolutional.Conv2D object at 0x7f7ceb362a20> False\n",
      "<tensorflow.python.keras.layers.convolutional.Conv2D object at 0x7f7ceb26d2b0> False\n",
      "<tensorflow.python.keras.layers.convolutional.Conv2D object at 0x7f7ceb2394a8> False\n",
      "<tensorflow.python.keras.layers.normalization.BatchNormalization object at 0x7f7ceb3f97f0> False\n",
      "<tensorflow.python.keras.layers.normalization.BatchNormalization object at 0x7f7ceb31b7f0> False\n",
      "<tensorflow.python.keras.layers.normalization.BatchNormalization object at 0x7f7ceb22d9b0> False\n",
      "<tensorflow.python.keras.layers.normalization.BatchNormalization object at 0x7f7ceb1e3748> False\n",
      "<tensorflow.python.keras.layers.core.Activation object at 0x7f7ceb4042b0> False\n",
      "<tensorflow.python.keras.layers.core.Activation object at 0x7f7ceb326080> False\n",
      "<tensorflow.python.keras.layers.core.Activation object at 0x7f7ceb2392b0> False\n",
      "<tensorflow.python.keras.layers.core.Activation object at 0x7f7ceb1f21d0> False\n",
      "<tensorflow.python.keras.layers.merge.Concatenate object at 0x7f7ceb1e3780> False\n",
      "<tensorflow.python.keras.layers.convolutional.Conv2D object at 0x7f7ceb0d0208> False\n",
      "<tensorflow.python.keras.layers.normalization.BatchNormalization object at 0x7f7ceb0eeda0> False\n",
      "<tensorflow.python.keras.layers.core.Activation object at 0x7f7ceb1049e8> False\n",
      "<tensorflow.python.keras.layers.convolutional.Conv2D object at 0x7f7ceb0ee2e8> False\n",
      "<tensorflow.python.keras.layers.normalization.BatchNormalization object at 0x7f7ceb0af630> False\n",
      "<tensorflow.python.keras.layers.core.Activation object at 0x7f7ceb0bb400> False\n",
      "<tensorflow.python.keras.layers.convolutional.Conv2D object at 0x7f7ceb19e7b8> False\n",
      "<tensorflow.python.keras.layers.convolutional.Conv2D object at 0x7f7ceb0af7b8> False\n",
      "<tensorflow.python.keras.layers.normalization.BatchNormalization object at 0x7f7ceb153f60> False\n",
      "<tensorflow.python.keras.layers.normalization.BatchNormalization object at 0x7f7ceb061d68> False\n",
      "<tensorflow.python.keras.layers.core.Activation object at 0x7f7ceb160be0> False\n",
      "<tensorflow.python.keras.layers.core.Activation object at 0x7f7ceb06fdd8> False\n",
      "<tensorflow.python.keras.layers.convolutional.Conv2D object at 0x7f7ceb179f60> False\n",
      "<tensorflow.python.keras.layers.convolutional.Conv2D object at 0x7f7ceb066390> False\n",
      "<tensorflow.python.keras.layers.normalization.BatchNormalization object at 0x7f7ceb18a7f0> False\n",
      "<tensorflow.python.keras.layers.normalization.BatchNormalization object at 0x7f7ceb014128> False\n",
      "<tensorflow.python.keras.layers.core.Activation object at 0x7f7ceb1165f8> False\n",
      "<tensorflow.python.keras.layers.core.Activation object at 0x7f7ceb0277f0> False\n",
      "<tensorflow.python.keras.layers.pooling.AveragePooling2D object at 0x7f7ceafd2710> False\n",
      "<tensorflow.python.keras.layers.convolutional.Conv2D object at 0x7f7ceb199390> False\n",
      "<tensorflow.python.keras.layers.convolutional.Conv2D object at 0x7f7ceb18ad68> False\n",
      "<tensorflow.python.keras.layers.convolutional.Conv2D object at 0x7f7ceb014ba8> False\n",
      "<tensorflow.python.keras.layers.convolutional.Conv2D object at 0x7f7ceaffb5f8> False\n",
      "<tensorflow.python.keras.layers.normalization.BatchNormalization object at 0x7f7ceb19e780> False\n",
      "<tensorflow.python.keras.layers.normalization.BatchNormalization object at 0x7f7ceb1414a8> False\n",
      "<tensorflow.python.keras.layers.normalization.BatchNormalization object at 0x7f7ceafd25c0> False\n",
      "<tensorflow.python.keras.layers.normalization.BatchNormalization object at 0x7f7ceb00c668> False\n",
      "<tensorflow.python.keras.layers.core.Activation object at 0x7f7ceb1ab208> False\n",
      "<tensorflow.python.keras.layers.core.Activation object at 0x7f7ceb148eb8> False\n",
      "<tensorflow.python.keras.layers.core.Activation object at 0x7f7ceafdf208> False\n",
      "<tensorflow.python.keras.layers.core.Activation object at 0x7f7ceaf990f0> False\n",
      "<tensorflow.python.keras.layers.merge.Concatenate object at 0x7f7ceb00c6a0> False\n",
      "<tensorflow.python.keras.layers.convolutional.Conv2D object at 0x7f7ceaef7160> False\n",
      "<tensorflow.python.keras.layers.normalization.BatchNormalization object at 0x7f7ceae95fd0> False\n",
      "<tensorflow.python.keras.layers.core.Activation object at 0x7f7ceaea8940> False\n",
      "<tensorflow.python.keras.layers.convolutional.Conv2D object at 0x7f7ceae95240> False\n",
      "<tensorflow.python.keras.layers.normalization.BatchNormalization object at 0x7f7ceae542e8> False\n",
      "<tensorflow.python.keras.layers.core.Activation object at 0x7f7ceae61358> False\n",
      "<tensorflow.python.keras.layers.convolutional.Conv2D object at 0x7f7ceafc5710> False\n",
      "<tensorflow.python.keras.layers.convolutional.Conv2D object at 0x7f7ceae545f8> False\n",
      "<tensorflow.python.keras.layers.normalization.BatchNormalization object at 0x7f7ceaf79da0> False\n",
      "<tensorflow.python.keras.layers.normalization.BatchNormalization object at 0x7f7ceae89f28> False\n",
      "<tensorflow.python.keras.layers.core.Activation object at 0x7f7ceaf85b38> False\n",
      "<tensorflow.python.keras.layers.core.Activation object at 0x7f7ceae13d30> False\n",
      "<tensorflow.python.keras.layers.convolutional.Conv2D object at 0x7f7ceaf12e80> False\n",
      "<tensorflow.python.keras.layers.convolutional.Conv2D object at 0x7f7ceae21e80> False\n",
      "<tensorflow.python.keras.layers.normalization.BatchNormalization object at 0x7f7ceaf30cc0> False\n",
      "<tensorflow.python.keras.layers.normalization.BatchNormalization object at 0x7f7ceae40b00> False\n",
      "<tensorflow.python.keras.layers.core.Activation object at 0x7f7ceaf3e550> False\n",
      "<tensorflow.python.keras.layers.core.Activation object at 0x7f7ceadcf710> False\n",
      "<tensorflow.python.keras.layers.pooling.AveragePooling2D object at 0x7f7ceadfb710> False\n",
      "<tensorflow.python.keras.layers.convolutional.Conv2D object at 0x7f7ceafbff28> False\n",
      "<tensorflow.python.keras.layers.convolutional.Conv2D object at 0x7f7ceaf30860> False\n",
      "<tensorflow.python.keras.layers.convolutional.Conv2D object at 0x7f7ceae40a90> False\n",
      "<tensorflow.python.keras.layers.convolutional.Conv2D object at 0x7f7cead9e438> False\n",
      "<tensorflow.python.keras.layers.normalization.BatchNormalization object at 0x7f7ceafc56d8> False\n",
      "<tensorflow.python.keras.layers.normalization.BatchNormalization object at 0x7f7ceaeec240> False\n",
      "<tensorflow.python.keras.layers.normalization.BatchNormalization object at 0x7f7ceadfb470> False\n",
      "<tensorflow.python.keras.layers.normalization.BatchNormalization object at 0x7f7ceadb35f8> False\n",
      "<tensorflow.python.keras.layers.core.Activation object at 0x7f7ceaf50160> False\n",
      "<tensorflow.python.keras.layers.core.Activation object at 0x7f7ceaeeff28> False\n",
      "<tensorflow.python.keras.layers.core.Activation object at 0x7f7ceae08160> False\n",
      "<tensorflow.python.keras.layers.core.Activation object at 0x7f7ceadba048> False\n",
      "<tensorflow.python.keras.layers.merge.Concatenate object at 0x7f7ceadb3630> False\n",
      "<tensorflow.python.keras.layers.convolutional.Conv2D object at 0x7f7cead20f60> False\n",
      "<tensorflow.python.keras.layers.normalization.BatchNormalization object at 0x7f7ceacd5438> False\n",
      "<tensorflow.python.keras.layers.core.Activation object at 0x7f7ceace6470> False\n",
      "<tensorflow.python.keras.layers.convolutional.Conv2D object at 0x7f7ceacd5ba8> False\n",
      "<tensorflow.python.keras.layers.normalization.BatchNormalization object at 0x7f7ceac92550> False\n",
      "<tensorflow.python.keras.layers.core.Activation object at 0x7f7ceac9d080> False\n",
      "<tensorflow.python.keras.layers.convolutional.Conv2D object at 0x7f7cead64c88> False\n",
      "<tensorflow.python.keras.layers.convolutional.Conv2D object at 0x7f7ceac97f60> False\n",
      "<tensorflow.python.keras.layers.normalization.BatchNormalization object at 0x7f7cead6d5f8> False\n",
      "<tensorflow.python.keras.layers.normalization.BatchNormalization object at 0x7f7ceacbc198> False\n",
      "<tensorflow.python.keras.layers.core.Activation object at 0x7f7cead78048> False\n",
      "<tensorflow.python.keras.layers.core.Activation object at 0x7f7ceac52860> False\n",
      "<tensorflow.python.keras.layers.convolutional.Conv2D object at 0x7f7cead6d630> False\n",
      "<tensorflow.python.keras.layers.convolutional.Conv2D object at 0x7f7ceacbcf28> False\n",
      "<tensorflow.python.keras.layers.normalization.BatchNormalization object at 0x7f7cead17f98> False\n",
      "<tensorflow.python.keras.layers.normalization.BatchNormalization object at 0x7f7ceac7e9b0> False\n",
      "<tensorflow.python.keras.layers.core.Activation object at 0x7f7cead2ca58> False\n",
      "<tensorflow.python.keras.layers.core.Activation object at 0x7f7ceac8a278> False\n",
      "<tensorflow.python.keras.layers.pooling.MaxPooling2D object at 0x7f7ceac7e940> False\n",
      "<tensorflow.python.keras.layers.merge.Concatenate object at 0x7f7ceac28c88> False\n",
      "<tensorflow.python.keras.layers.convolutional.Conv2D object at 0x7f7ceab67470> False\n",
      "<tensorflow.python.keras.layers.normalization.BatchNormalization object at 0x7f7ceab14908> False\n",
      "<tensorflow.python.keras.layers.core.Activation object at 0x7f7ceab22320> False\n",
      "<tensorflow.python.keras.layers.convolutional.Conv2D object at 0x7f7ceac37c18> False\n",
      "<tensorflow.python.keras.layers.convolutional.Conv2D object at 0x7f7ceab14940> False\n",
      "<tensorflow.python.keras.layers.normalization.BatchNormalization object at 0x7f7ceabf0710> False\n",
      "<tensorflow.python.keras.layers.normalization.BatchNormalization object at 0x7f7ceab47ac8> False\n",
      "<tensorflow.python.keras.layers.core.Activation object at 0x7f7ceabfd080> False\n",
      "<tensorflow.python.keras.layers.core.Activation object at 0x7f7ceaad4d68> False\n",
      "<tensorflow.python.keras.layers.convolutional.Conv2D object at 0x7f7ceabf63c8> False\n",
      "<tensorflow.python.keras.layers.convolutional.Conv2D object at 0x7f7ceabcbe48> False\n",
      "<tensorflow.python.keras.layers.convolutional.Conv2D object at 0x7f7ceaacd320> False\n",
      "<tensorflow.python.keras.layers.convolutional.Conv2D object at 0x7f7ceaafce10> False\n",
      "<tensorflow.python.keras.layers.pooling.AveragePooling2D object at 0x7f7ceaa6cf28> False\n",
      "<tensorflow.python.keras.layers.convolutional.Conv2D object at 0x7f7ceac284a8> False\n",
      "<tensorflow.python.keras.layers.normalization.BatchNormalization object at 0x7f7ceaba2e48> False\n",
      "<tensorflow.python.keras.layers.normalization.BatchNormalization object at 0x7f7ceab57438> False\n",
      "<tensorflow.python.keras.layers.normalization.BatchNormalization object at 0x7f7ceaafcda0> False\n",
      "<tensorflow.python.keras.layers.normalization.BatchNormalization object at 0x7f7ceaaba518> False\n",
      "<tensorflow.python.keras.layers.convolutional.Conv2D object at 0x7f7ceaa6cb00> False\n",
      "<tensorflow.python.keras.layers.normalization.BatchNormalization object at 0x7f7ceac37be0> False\n",
      "<tensorflow.python.keras.layers.core.Activation object at 0x7f7ceabada90> False\n",
      "<tensorflow.python.keras.layers.core.Activation object at 0x7f7ceab674a8> False\n",
      "<tensorflow.python.keras.layers.core.Activation object at 0x7f7ceaa8d780> False\n",
      "<tensorflow.python.keras.layers.core.Activation object at 0x7f7ceaac6198> False\n",
      "<tensorflow.python.keras.layers.normalization.BatchNormalization object at 0x7f7ceaa75ac8> False\n",
      "<tensorflow.python.keras.layers.core.Activation object at 0x7f7ceac426a0> False\n",
      "<tensorflow.python.keras.layers.merge.Concatenate object at 0x7f7ceab57ba8> False\n",
      "<tensorflow.python.keras.layers.merge.Concatenate object at 0x7f7ceaac14a8> False\n",
      "<tensorflow.python.keras.layers.core.Activation object at 0x7f7ceaa81588> False\n",
      "<tensorflow.python.keras.layers.merge.Concatenate object at 0x7f7ceaa75b00> False\n",
      "<tensorflow.python.keras.layers.convolutional.Conv2D object at 0x7f7cea95f390> False\n",
      "<tensorflow.python.keras.layers.normalization.BatchNormalization object at 0x7f7cea98a828> False\n",
      "<tensorflow.python.keras.layers.core.Activation object at 0x7f7cea9162b0> False\n",
      "<tensorflow.python.keras.layers.convolutional.Conv2D object at 0x7f7ceaa2ab70> False\n",
      "<tensorflow.python.keras.layers.convolutional.Conv2D object at 0x7f7cea98a860> False\n",
      "<tensorflow.python.keras.layers.normalization.BatchNormalization object at 0x7f7cea9e4588> False\n",
      "<tensorflow.python.keras.layers.normalization.BatchNormalization object at 0x7f7cea93ffd0> False\n",
      "<tensorflow.python.keras.layers.core.Activation object at 0x7f7cea9ef080> False\n",
      "<tensorflow.python.keras.layers.core.Activation object at 0x7f7cea94ac88> False\n",
      "<tensorflow.python.keras.layers.convolutional.Conv2D object at 0x7f7cea9eae80> False\n",
      "<tensorflow.python.keras.layers.convolutional.Conv2D object at 0x7f7cea9903c8> False\n",
      "<tensorflow.python.keras.layers.convolutional.Conv2D object at 0x7f7cea8e7f28> False\n",
      "<tensorflow.python.keras.layers.convolutional.Conv2D object at 0x7f7cea8f4a20> False\n",
      "<tensorflow.python.keras.layers.pooling.AveragePooling2D object at 0x7f7cea863cf8> False\n",
      "<tensorflow.python.keras.layers.convolutional.Conv2D object at 0x7f7ceaa1fc18> False\n",
      "<tensorflow.python.keras.layers.normalization.BatchNormalization object at 0x7f7cea990240> False\n",
      "<tensorflow.python.keras.layers.normalization.BatchNormalization object at 0x7f7cea9cc9b0> False\n",
      "<tensorflow.python.keras.layers.normalization.BatchNormalization object at 0x7f7cea8f4b70> False\n",
      "<tensorflow.python.keras.layers.normalization.BatchNormalization object at 0x7f7cea8af7f0> False\n",
      "<tensorflow.python.keras.layers.convolutional.Conv2D object at 0x7f7cea863eb8> False\n",
      "<tensorflow.python.keras.layers.normalization.BatchNormalization object at 0x7f7ceaa2ab38> False\n",
      "<tensorflow.python.keras.layers.core.Activation object at 0x7f7cea9a49b0> False\n",
      "<tensorflow.python.keras.layers.core.Activation object at 0x7f7cea95f3c8> False\n",
      "<tensorflow.python.keras.layers.core.Activation object at 0x7f7cea9036a0> False\n",
      "<tensorflow.python.keras.layers.core.Activation object at 0x7f7cea8ba080> False\n",
      "<tensorflow.python.keras.layers.normalization.BatchNormalization object at 0x7f7cea868a20> False\n",
      "<tensorflow.python.keras.layers.core.Activation object at 0x7f7ceaa385c0> True\n",
      "<tensorflow.python.keras.layers.merge.Concatenate object at 0x7f7cea9cc978> True\n",
      "<tensorflow.python.keras.layers.merge.Concatenate object at 0x7f7cea8af748> True\n",
      "<tensorflow.python.keras.layers.core.Activation object at 0x7f7cea8754a8> True\n",
      "<tensorflow.python.keras.layers.merge.Concatenate object at 0x7f7cea868a58> True\n"
     ]
    }
   ],
   "source": [
    "base_model.trainable = True\n",
    "for layer in base_model.layers[:-5]:\n",
    "    layer.trainable = False\n",
    "\n",
    "for layer in base_model.layers:\n",
    "    print(layer, layer.trainable)"
   ]
  },
  {
   "cell_type": "code",
   "execution_count": 32,
   "metadata": {
    "colab": {
     "base_uri": "https://localhost:8080/",
     "height": 1000
    },
    "colab_type": "code",
    "id": "i4M-IBiaZ3kA",
    "outputId": "303e5886-23ae-486f-dbdc-e4d6ac4ba217"
   },
   "outputs": [
    {
     "name": "stdout",
     "output_type": "stream",
     "text": [
      "Model: \"inception_v3\"\n",
      "__________________________________________________________________________________________________\n",
      "Layer (type)                    Output Shape         Param #     Connected to                     \n",
      "==================================================================================================\n",
      "input_1 (InputLayer)            [(None, 224, 224, 3) 0                                            \n",
      "__________________________________________________________________________________________________\n",
      "conv2d (Conv2D)                 (None, 111, 111, 32) 864         input_1[0][0]                    \n",
      "__________________________________________________________________________________________________\n",
      "batch_normalization (BatchNorma (None, 111, 111, 32) 96          conv2d[0][0]                     \n",
      "__________________________________________________________________________________________________\n",
      "activation (Activation)         (None, 111, 111, 32) 0           batch_normalization[0][0]        \n",
      "__________________________________________________________________________________________________\n",
      "conv2d_1 (Conv2D)               (None, 109, 109, 32) 9216        activation[0][0]                 \n",
      "__________________________________________________________________________________________________\n",
      "batch_normalization_1 (BatchNor (None, 109, 109, 32) 96          conv2d_1[0][0]                   \n",
      "__________________________________________________________________________________________________\n",
      "activation_1 (Activation)       (None, 109, 109, 32) 0           batch_normalization_1[0][0]      \n",
      "__________________________________________________________________________________________________\n",
      "conv2d_2 (Conv2D)               (None, 109, 109, 64) 18432       activation_1[0][0]               \n",
      "__________________________________________________________________________________________________\n",
      "batch_normalization_2 (BatchNor (None, 109, 109, 64) 192         conv2d_2[0][0]                   \n",
      "__________________________________________________________________________________________________\n",
      "activation_2 (Activation)       (None, 109, 109, 64) 0           batch_normalization_2[0][0]      \n",
      "__________________________________________________________________________________________________\n",
      "max_pooling2d (MaxPooling2D)    (None, 54, 54, 64)   0           activation_2[0][0]               \n",
      "__________________________________________________________________________________________________\n",
      "conv2d_3 (Conv2D)               (None, 54, 54, 80)   5120        max_pooling2d[0][0]              \n",
      "__________________________________________________________________________________________________\n",
      "batch_normalization_3 (BatchNor (None, 54, 54, 80)   240         conv2d_3[0][0]                   \n",
      "__________________________________________________________________________________________________\n",
      "activation_3 (Activation)       (None, 54, 54, 80)   0           batch_normalization_3[0][0]      \n",
      "__________________________________________________________________________________________________\n",
      "conv2d_4 (Conv2D)               (None, 52, 52, 192)  138240      activation_3[0][0]               \n",
      "__________________________________________________________________________________________________\n",
      "batch_normalization_4 (BatchNor (None, 52, 52, 192)  576         conv2d_4[0][0]                   \n",
      "__________________________________________________________________________________________________\n",
      "activation_4 (Activation)       (None, 52, 52, 192)  0           batch_normalization_4[0][0]      \n",
      "__________________________________________________________________________________________________\n",
      "max_pooling2d_1 (MaxPooling2D)  (None, 25, 25, 192)  0           activation_4[0][0]               \n",
      "__________________________________________________________________________________________________\n",
      "conv2d_8 (Conv2D)               (None, 25, 25, 64)   12288       max_pooling2d_1[0][0]            \n",
      "__________________________________________________________________________________________________\n",
      "batch_normalization_8 (BatchNor (None, 25, 25, 64)   192         conv2d_8[0][0]                   \n",
      "__________________________________________________________________________________________________\n",
      "activation_8 (Activation)       (None, 25, 25, 64)   0           batch_normalization_8[0][0]      \n",
      "__________________________________________________________________________________________________\n",
      "conv2d_6 (Conv2D)               (None, 25, 25, 48)   9216        max_pooling2d_1[0][0]            \n",
      "__________________________________________________________________________________________________\n",
      "conv2d_9 (Conv2D)               (None, 25, 25, 96)   55296       activation_8[0][0]               \n",
      "__________________________________________________________________________________________________\n",
      "batch_normalization_6 (BatchNor (None, 25, 25, 48)   144         conv2d_6[0][0]                   \n",
      "__________________________________________________________________________________________________\n",
      "batch_normalization_9 (BatchNor (None, 25, 25, 96)   288         conv2d_9[0][0]                   \n",
      "__________________________________________________________________________________________________\n",
      "activation_6 (Activation)       (None, 25, 25, 48)   0           batch_normalization_6[0][0]      \n",
      "__________________________________________________________________________________________________\n",
      "activation_9 (Activation)       (None, 25, 25, 96)   0           batch_normalization_9[0][0]      \n",
      "__________________________________________________________________________________________________\n",
      "average_pooling2d (AveragePooli (None, 25, 25, 192)  0           max_pooling2d_1[0][0]            \n",
      "__________________________________________________________________________________________________\n",
      "conv2d_5 (Conv2D)               (None, 25, 25, 64)   12288       max_pooling2d_1[0][0]            \n",
      "__________________________________________________________________________________________________\n",
      "conv2d_7 (Conv2D)               (None, 25, 25, 64)   76800       activation_6[0][0]               \n",
      "__________________________________________________________________________________________________\n",
      "conv2d_10 (Conv2D)              (None, 25, 25, 96)   82944       activation_9[0][0]               \n",
      "__________________________________________________________________________________________________\n",
      "conv2d_11 (Conv2D)              (None, 25, 25, 32)   6144        average_pooling2d[0][0]          \n",
      "__________________________________________________________________________________________________\n",
      "batch_normalization_5 (BatchNor (None, 25, 25, 64)   192         conv2d_5[0][0]                   \n",
      "__________________________________________________________________________________________________\n",
      "batch_normalization_7 (BatchNor (None, 25, 25, 64)   192         conv2d_7[0][0]                   \n",
      "__________________________________________________________________________________________________\n",
      "batch_normalization_10 (BatchNo (None, 25, 25, 96)   288         conv2d_10[0][0]                  \n",
      "__________________________________________________________________________________________________\n",
      "batch_normalization_11 (BatchNo (None, 25, 25, 32)   96          conv2d_11[0][0]                  \n",
      "__________________________________________________________________________________________________\n",
      "activation_5 (Activation)       (None, 25, 25, 64)   0           batch_normalization_5[0][0]      \n",
      "__________________________________________________________________________________________________\n",
      "activation_7 (Activation)       (None, 25, 25, 64)   0           batch_normalization_7[0][0]      \n",
      "__________________________________________________________________________________________________\n",
      "activation_10 (Activation)      (None, 25, 25, 96)   0           batch_normalization_10[0][0]     \n",
      "__________________________________________________________________________________________________\n",
      "activation_11 (Activation)      (None, 25, 25, 32)   0           batch_normalization_11[0][0]     \n",
      "__________________________________________________________________________________________________\n",
      "mixed0 (Concatenate)            (None, 25, 25, 256)  0           activation_5[0][0]               \n",
      "                                                                 activation_7[0][0]               \n",
      "                                                                 activation_10[0][0]              \n",
      "                                                                 activation_11[0][0]              \n",
      "__________________________________________________________________________________________________\n",
      "conv2d_15 (Conv2D)              (None, 25, 25, 64)   16384       mixed0[0][0]                     \n",
      "__________________________________________________________________________________________________\n",
      "batch_normalization_15 (BatchNo (None, 25, 25, 64)   192         conv2d_15[0][0]                  \n",
      "__________________________________________________________________________________________________\n",
      "activation_15 (Activation)      (None, 25, 25, 64)   0           batch_normalization_15[0][0]     \n",
      "__________________________________________________________________________________________________\n",
      "conv2d_13 (Conv2D)              (None, 25, 25, 48)   12288       mixed0[0][0]                     \n",
      "__________________________________________________________________________________________________\n",
      "conv2d_16 (Conv2D)              (None, 25, 25, 96)   55296       activation_15[0][0]              \n",
      "__________________________________________________________________________________________________\n",
      "batch_normalization_13 (BatchNo (None, 25, 25, 48)   144         conv2d_13[0][0]                  \n",
      "__________________________________________________________________________________________________\n",
      "batch_normalization_16 (BatchNo (None, 25, 25, 96)   288         conv2d_16[0][0]                  \n",
      "__________________________________________________________________________________________________\n",
      "activation_13 (Activation)      (None, 25, 25, 48)   0           batch_normalization_13[0][0]     \n",
      "__________________________________________________________________________________________________\n",
      "activation_16 (Activation)      (None, 25, 25, 96)   0           batch_normalization_16[0][0]     \n",
      "__________________________________________________________________________________________________\n",
      "average_pooling2d_1 (AveragePoo (None, 25, 25, 256)  0           mixed0[0][0]                     \n",
      "__________________________________________________________________________________________________\n",
      "conv2d_12 (Conv2D)              (None, 25, 25, 64)   16384       mixed0[0][0]                     \n",
      "__________________________________________________________________________________________________\n",
      "conv2d_14 (Conv2D)              (None, 25, 25, 64)   76800       activation_13[0][0]              \n",
      "__________________________________________________________________________________________________\n",
      "conv2d_17 (Conv2D)              (None, 25, 25, 96)   82944       activation_16[0][0]              \n",
      "__________________________________________________________________________________________________\n",
      "conv2d_18 (Conv2D)              (None, 25, 25, 64)   16384       average_pooling2d_1[0][0]        \n",
      "__________________________________________________________________________________________________\n",
      "batch_normalization_12 (BatchNo (None, 25, 25, 64)   192         conv2d_12[0][0]                  \n",
      "__________________________________________________________________________________________________\n",
      "batch_normalization_14 (BatchNo (None, 25, 25, 64)   192         conv2d_14[0][0]                  \n",
      "__________________________________________________________________________________________________\n",
      "batch_normalization_17 (BatchNo (None, 25, 25, 96)   288         conv2d_17[0][0]                  \n",
      "__________________________________________________________________________________________________\n",
      "batch_normalization_18 (BatchNo (None, 25, 25, 64)   192         conv2d_18[0][0]                  \n",
      "__________________________________________________________________________________________________\n",
      "activation_12 (Activation)      (None, 25, 25, 64)   0           batch_normalization_12[0][0]     \n",
      "__________________________________________________________________________________________________\n",
      "activation_14 (Activation)      (None, 25, 25, 64)   0           batch_normalization_14[0][0]     \n",
      "__________________________________________________________________________________________________\n",
      "activation_17 (Activation)      (None, 25, 25, 96)   0           batch_normalization_17[0][0]     \n",
      "__________________________________________________________________________________________________\n",
      "activation_18 (Activation)      (None, 25, 25, 64)   0           batch_normalization_18[0][0]     \n",
      "__________________________________________________________________________________________________\n",
      "mixed1 (Concatenate)            (None, 25, 25, 288)  0           activation_12[0][0]              \n",
      "                                                                 activation_14[0][0]              \n",
      "                                                                 activation_17[0][0]              \n",
      "                                                                 activation_18[0][0]              \n",
      "__________________________________________________________________________________________________\n",
      "conv2d_22 (Conv2D)              (None, 25, 25, 64)   18432       mixed1[0][0]                     \n",
      "__________________________________________________________________________________________________\n",
      "batch_normalization_22 (BatchNo (None, 25, 25, 64)   192         conv2d_22[0][0]                  \n",
      "__________________________________________________________________________________________________\n",
      "activation_22 (Activation)      (None, 25, 25, 64)   0           batch_normalization_22[0][0]     \n",
      "__________________________________________________________________________________________________\n",
      "conv2d_20 (Conv2D)              (None, 25, 25, 48)   13824       mixed1[0][0]                     \n",
      "__________________________________________________________________________________________________\n",
      "conv2d_23 (Conv2D)              (None, 25, 25, 96)   55296       activation_22[0][0]              \n",
      "__________________________________________________________________________________________________\n",
      "batch_normalization_20 (BatchNo (None, 25, 25, 48)   144         conv2d_20[0][0]                  \n",
      "__________________________________________________________________________________________________\n",
      "batch_normalization_23 (BatchNo (None, 25, 25, 96)   288         conv2d_23[0][0]                  \n",
      "__________________________________________________________________________________________________\n",
      "activation_20 (Activation)      (None, 25, 25, 48)   0           batch_normalization_20[0][0]     \n",
      "__________________________________________________________________________________________________\n",
      "activation_23 (Activation)      (None, 25, 25, 96)   0           batch_normalization_23[0][0]     \n",
      "__________________________________________________________________________________________________\n",
      "average_pooling2d_2 (AveragePoo (None, 25, 25, 288)  0           mixed1[0][0]                     \n",
      "__________________________________________________________________________________________________\n",
      "conv2d_19 (Conv2D)              (None, 25, 25, 64)   18432       mixed1[0][0]                     \n",
      "__________________________________________________________________________________________________\n",
      "conv2d_21 (Conv2D)              (None, 25, 25, 64)   76800       activation_20[0][0]              \n",
      "__________________________________________________________________________________________________\n",
      "conv2d_24 (Conv2D)              (None, 25, 25, 96)   82944       activation_23[0][0]              \n",
      "__________________________________________________________________________________________________\n",
      "conv2d_25 (Conv2D)              (None, 25, 25, 64)   18432       average_pooling2d_2[0][0]        \n",
      "__________________________________________________________________________________________________\n",
      "batch_normalization_19 (BatchNo (None, 25, 25, 64)   192         conv2d_19[0][0]                  \n",
      "__________________________________________________________________________________________________\n",
      "batch_normalization_21 (BatchNo (None, 25, 25, 64)   192         conv2d_21[0][0]                  \n",
      "__________________________________________________________________________________________________\n",
      "batch_normalization_24 (BatchNo (None, 25, 25, 96)   288         conv2d_24[0][0]                  \n",
      "__________________________________________________________________________________________________\n",
      "batch_normalization_25 (BatchNo (None, 25, 25, 64)   192         conv2d_25[0][0]                  \n",
      "__________________________________________________________________________________________________\n",
      "activation_19 (Activation)      (None, 25, 25, 64)   0           batch_normalization_19[0][0]     \n",
      "__________________________________________________________________________________________________\n",
      "activation_21 (Activation)      (None, 25, 25, 64)   0           batch_normalization_21[0][0]     \n",
      "__________________________________________________________________________________________________\n",
      "activation_24 (Activation)      (None, 25, 25, 96)   0           batch_normalization_24[0][0]     \n",
      "__________________________________________________________________________________________________\n",
      "activation_25 (Activation)      (None, 25, 25, 64)   0           batch_normalization_25[0][0]     \n",
      "__________________________________________________________________________________________________\n",
      "mixed2 (Concatenate)            (None, 25, 25, 288)  0           activation_19[0][0]              \n",
      "                                                                 activation_21[0][0]              \n",
      "                                                                 activation_24[0][0]              \n",
      "                                                                 activation_25[0][0]              \n",
      "__________________________________________________________________________________________________\n",
      "conv2d_27 (Conv2D)              (None, 25, 25, 64)   18432       mixed2[0][0]                     \n",
      "__________________________________________________________________________________________________\n",
      "batch_normalization_27 (BatchNo (None, 25, 25, 64)   192         conv2d_27[0][0]                  \n",
      "__________________________________________________________________________________________________\n",
      "activation_27 (Activation)      (None, 25, 25, 64)   0           batch_normalization_27[0][0]     \n",
      "__________________________________________________________________________________________________\n",
      "conv2d_28 (Conv2D)              (None, 25, 25, 96)   55296       activation_27[0][0]              \n",
      "__________________________________________________________________________________________________\n",
      "batch_normalization_28 (BatchNo (None, 25, 25, 96)   288         conv2d_28[0][0]                  \n",
      "__________________________________________________________________________________________________\n",
      "activation_28 (Activation)      (None, 25, 25, 96)   0           batch_normalization_28[0][0]     \n",
      "__________________________________________________________________________________________________\n",
      "conv2d_26 (Conv2D)              (None, 12, 12, 384)  995328      mixed2[0][0]                     \n",
      "__________________________________________________________________________________________________\n",
      "conv2d_29 (Conv2D)              (None, 12, 12, 96)   82944       activation_28[0][0]              \n",
      "__________________________________________________________________________________________________\n",
      "batch_normalization_26 (BatchNo (None, 12, 12, 384)  1152        conv2d_26[0][0]                  \n",
      "__________________________________________________________________________________________________\n",
      "batch_normalization_29 (BatchNo (None, 12, 12, 96)   288         conv2d_29[0][0]                  \n",
      "__________________________________________________________________________________________________\n",
      "activation_26 (Activation)      (None, 12, 12, 384)  0           batch_normalization_26[0][0]     \n",
      "__________________________________________________________________________________________________\n",
      "activation_29 (Activation)      (None, 12, 12, 96)   0           batch_normalization_29[0][0]     \n",
      "__________________________________________________________________________________________________\n",
      "max_pooling2d_2 (MaxPooling2D)  (None, 12, 12, 288)  0           mixed2[0][0]                     \n",
      "__________________________________________________________________________________________________\n",
      "mixed3 (Concatenate)            (None, 12, 12, 768)  0           activation_26[0][0]              \n",
      "                                                                 activation_29[0][0]              \n",
      "                                                                 max_pooling2d_2[0][0]            \n",
      "__________________________________________________________________________________________________\n",
      "conv2d_34 (Conv2D)              (None, 12, 12, 128)  98304       mixed3[0][0]                     \n",
      "__________________________________________________________________________________________________\n",
      "batch_normalization_34 (BatchNo (None, 12, 12, 128)  384         conv2d_34[0][0]                  \n",
      "__________________________________________________________________________________________________\n",
      "activation_34 (Activation)      (None, 12, 12, 128)  0           batch_normalization_34[0][0]     \n",
      "__________________________________________________________________________________________________\n",
      "conv2d_35 (Conv2D)              (None, 12, 12, 128)  114688      activation_34[0][0]              \n",
      "__________________________________________________________________________________________________\n",
      "batch_normalization_35 (BatchNo (None, 12, 12, 128)  384         conv2d_35[0][0]                  \n",
      "__________________________________________________________________________________________________\n",
      "activation_35 (Activation)      (None, 12, 12, 128)  0           batch_normalization_35[0][0]     \n",
      "__________________________________________________________________________________________________\n",
      "conv2d_31 (Conv2D)              (None, 12, 12, 128)  98304       mixed3[0][0]                     \n",
      "__________________________________________________________________________________________________\n",
      "conv2d_36 (Conv2D)              (None, 12, 12, 128)  114688      activation_35[0][0]              \n",
      "__________________________________________________________________________________________________\n",
      "batch_normalization_31 (BatchNo (None, 12, 12, 128)  384         conv2d_31[0][0]                  \n",
      "__________________________________________________________________________________________________\n",
      "batch_normalization_36 (BatchNo (None, 12, 12, 128)  384         conv2d_36[0][0]                  \n",
      "__________________________________________________________________________________________________\n",
      "activation_31 (Activation)      (None, 12, 12, 128)  0           batch_normalization_31[0][0]     \n",
      "__________________________________________________________________________________________________\n",
      "activation_36 (Activation)      (None, 12, 12, 128)  0           batch_normalization_36[0][0]     \n",
      "__________________________________________________________________________________________________\n",
      "conv2d_32 (Conv2D)              (None, 12, 12, 128)  114688      activation_31[0][0]              \n",
      "__________________________________________________________________________________________________\n",
      "conv2d_37 (Conv2D)              (None, 12, 12, 128)  114688      activation_36[0][0]              \n",
      "__________________________________________________________________________________________________\n",
      "batch_normalization_32 (BatchNo (None, 12, 12, 128)  384         conv2d_32[0][0]                  \n",
      "__________________________________________________________________________________________________\n",
      "batch_normalization_37 (BatchNo (None, 12, 12, 128)  384         conv2d_37[0][0]                  \n",
      "__________________________________________________________________________________________________\n",
      "activation_32 (Activation)      (None, 12, 12, 128)  0           batch_normalization_32[0][0]     \n",
      "__________________________________________________________________________________________________\n",
      "activation_37 (Activation)      (None, 12, 12, 128)  0           batch_normalization_37[0][0]     \n",
      "__________________________________________________________________________________________________\n",
      "average_pooling2d_3 (AveragePoo (None, 12, 12, 768)  0           mixed3[0][0]                     \n",
      "__________________________________________________________________________________________________\n",
      "conv2d_30 (Conv2D)              (None, 12, 12, 192)  147456      mixed3[0][0]                     \n",
      "__________________________________________________________________________________________________\n",
      "conv2d_33 (Conv2D)              (None, 12, 12, 192)  172032      activation_32[0][0]              \n",
      "__________________________________________________________________________________________________\n",
      "conv2d_38 (Conv2D)              (None, 12, 12, 192)  172032      activation_37[0][0]              \n",
      "__________________________________________________________________________________________________\n",
      "conv2d_39 (Conv2D)              (None, 12, 12, 192)  147456      average_pooling2d_3[0][0]        \n",
      "__________________________________________________________________________________________________\n",
      "batch_normalization_30 (BatchNo (None, 12, 12, 192)  576         conv2d_30[0][0]                  \n",
      "__________________________________________________________________________________________________\n",
      "batch_normalization_33 (BatchNo (None, 12, 12, 192)  576         conv2d_33[0][0]                  \n",
      "__________________________________________________________________________________________________\n",
      "batch_normalization_38 (BatchNo (None, 12, 12, 192)  576         conv2d_38[0][0]                  \n",
      "__________________________________________________________________________________________________\n",
      "batch_normalization_39 (BatchNo (None, 12, 12, 192)  576         conv2d_39[0][0]                  \n",
      "__________________________________________________________________________________________________\n",
      "activation_30 (Activation)      (None, 12, 12, 192)  0           batch_normalization_30[0][0]     \n",
      "__________________________________________________________________________________________________\n",
      "activation_33 (Activation)      (None, 12, 12, 192)  0           batch_normalization_33[0][0]     \n",
      "__________________________________________________________________________________________________\n",
      "activation_38 (Activation)      (None, 12, 12, 192)  0           batch_normalization_38[0][0]     \n",
      "__________________________________________________________________________________________________\n",
      "activation_39 (Activation)      (None, 12, 12, 192)  0           batch_normalization_39[0][0]     \n",
      "__________________________________________________________________________________________________\n",
      "mixed4 (Concatenate)            (None, 12, 12, 768)  0           activation_30[0][0]              \n",
      "                                                                 activation_33[0][0]              \n",
      "                                                                 activation_38[0][0]              \n",
      "                                                                 activation_39[0][0]              \n",
      "__________________________________________________________________________________________________\n",
      "conv2d_44 (Conv2D)              (None, 12, 12, 160)  122880      mixed4[0][0]                     \n",
      "__________________________________________________________________________________________________\n",
      "batch_normalization_44 (BatchNo (None, 12, 12, 160)  480         conv2d_44[0][0]                  \n",
      "__________________________________________________________________________________________________\n",
      "activation_44 (Activation)      (None, 12, 12, 160)  0           batch_normalization_44[0][0]     \n",
      "__________________________________________________________________________________________________\n",
      "conv2d_45 (Conv2D)              (None, 12, 12, 160)  179200      activation_44[0][0]              \n",
      "__________________________________________________________________________________________________\n",
      "batch_normalization_45 (BatchNo (None, 12, 12, 160)  480         conv2d_45[0][0]                  \n",
      "__________________________________________________________________________________________________\n",
      "activation_45 (Activation)      (None, 12, 12, 160)  0           batch_normalization_45[0][0]     \n",
      "__________________________________________________________________________________________________\n",
      "conv2d_41 (Conv2D)              (None, 12, 12, 160)  122880      mixed4[0][0]                     \n",
      "__________________________________________________________________________________________________\n",
      "conv2d_46 (Conv2D)              (None, 12, 12, 160)  179200      activation_45[0][0]              \n",
      "__________________________________________________________________________________________________\n",
      "batch_normalization_41 (BatchNo (None, 12, 12, 160)  480         conv2d_41[0][0]                  \n",
      "__________________________________________________________________________________________________\n",
      "batch_normalization_46 (BatchNo (None, 12, 12, 160)  480         conv2d_46[0][0]                  \n",
      "__________________________________________________________________________________________________\n",
      "activation_41 (Activation)      (None, 12, 12, 160)  0           batch_normalization_41[0][0]     \n",
      "__________________________________________________________________________________________________\n",
      "activation_46 (Activation)      (None, 12, 12, 160)  0           batch_normalization_46[0][0]     \n",
      "__________________________________________________________________________________________________\n",
      "conv2d_42 (Conv2D)              (None, 12, 12, 160)  179200      activation_41[0][0]              \n",
      "__________________________________________________________________________________________________\n",
      "conv2d_47 (Conv2D)              (None, 12, 12, 160)  179200      activation_46[0][0]              \n",
      "__________________________________________________________________________________________________\n",
      "batch_normalization_42 (BatchNo (None, 12, 12, 160)  480         conv2d_42[0][0]                  \n",
      "__________________________________________________________________________________________________\n",
      "batch_normalization_47 (BatchNo (None, 12, 12, 160)  480         conv2d_47[0][0]                  \n",
      "__________________________________________________________________________________________________\n",
      "activation_42 (Activation)      (None, 12, 12, 160)  0           batch_normalization_42[0][0]     \n",
      "__________________________________________________________________________________________________\n",
      "activation_47 (Activation)      (None, 12, 12, 160)  0           batch_normalization_47[0][0]     \n",
      "__________________________________________________________________________________________________\n",
      "average_pooling2d_4 (AveragePoo (None, 12, 12, 768)  0           mixed4[0][0]                     \n",
      "__________________________________________________________________________________________________\n",
      "conv2d_40 (Conv2D)              (None, 12, 12, 192)  147456      mixed4[0][0]                     \n",
      "__________________________________________________________________________________________________\n",
      "conv2d_43 (Conv2D)              (None, 12, 12, 192)  215040      activation_42[0][0]              \n",
      "__________________________________________________________________________________________________\n",
      "conv2d_48 (Conv2D)              (None, 12, 12, 192)  215040      activation_47[0][0]              \n",
      "__________________________________________________________________________________________________\n",
      "conv2d_49 (Conv2D)              (None, 12, 12, 192)  147456      average_pooling2d_4[0][0]        \n",
      "__________________________________________________________________________________________________\n",
      "batch_normalization_40 (BatchNo (None, 12, 12, 192)  576         conv2d_40[0][0]                  \n",
      "__________________________________________________________________________________________________\n",
      "batch_normalization_43 (BatchNo (None, 12, 12, 192)  576         conv2d_43[0][0]                  \n",
      "__________________________________________________________________________________________________\n",
      "batch_normalization_48 (BatchNo (None, 12, 12, 192)  576         conv2d_48[0][0]                  \n",
      "__________________________________________________________________________________________________\n",
      "batch_normalization_49 (BatchNo (None, 12, 12, 192)  576         conv2d_49[0][0]                  \n",
      "__________________________________________________________________________________________________\n",
      "activation_40 (Activation)      (None, 12, 12, 192)  0           batch_normalization_40[0][0]     \n",
      "__________________________________________________________________________________________________\n",
      "activation_43 (Activation)      (None, 12, 12, 192)  0           batch_normalization_43[0][0]     \n",
      "__________________________________________________________________________________________________\n",
      "activation_48 (Activation)      (None, 12, 12, 192)  0           batch_normalization_48[0][0]     \n",
      "__________________________________________________________________________________________________\n",
      "activation_49 (Activation)      (None, 12, 12, 192)  0           batch_normalization_49[0][0]     \n",
      "__________________________________________________________________________________________________\n",
      "mixed5 (Concatenate)            (None, 12, 12, 768)  0           activation_40[0][0]              \n",
      "                                                                 activation_43[0][0]              \n",
      "                                                                 activation_48[0][0]              \n",
      "                                                                 activation_49[0][0]              \n",
      "__________________________________________________________________________________________________\n",
      "conv2d_54 (Conv2D)              (None, 12, 12, 160)  122880      mixed5[0][0]                     \n",
      "__________________________________________________________________________________________________\n",
      "batch_normalization_54 (BatchNo (None, 12, 12, 160)  480         conv2d_54[0][0]                  \n",
      "__________________________________________________________________________________________________\n",
      "activation_54 (Activation)      (None, 12, 12, 160)  0           batch_normalization_54[0][0]     \n",
      "__________________________________________________________________________________________________\n",
      "conv2d_55 (Conv2D)              (None, 12, 12, 160)  179200      activation_54[0][0]              \n",
      "__________________________________________________________________________________________________\n",
      "batch_normalization_55 (BatchNo (None, 12, 12, 160)  480         conv2d_55[0][0]                  \n",
      "__________________________________________________________________________________________________\n",
      "activation_55 (Activation)      (None, 12, 12, 160)  0           batch_normalization_55[0][0]     \n",
      "__________________________________________________________________________________________________\n",
      "conv2d_51 (Conv2D)              (None, 12, 12, 160)  122880      mixed5[0][0]                     \n",
      "__________________________________________________________________________________________________\n",
      "conv2d_56 (Conv2D)              (None, 12, 12, 160)  179200      activation_55[0][0]              \n",
      "__________________________________________________________________________________________________\n",
      "batch_normalization_51 (BatchNo (None, 12, 12, 160)  480         conv2d_51[0][0]                  \n",
      "__________________________________________________________________________________________________\n",
      "batch_normalization_56 (BatchNo (None, 12, 12, 160)  480         conv2d_56[0][0]                  \n",
      "__________________________________________________________________________________________________\n",
      "activation_51 (Activation)      (None, 12, 12, 160)  0           batch_normalization_51[0][0]     \n",
      "__________________________________________________________________________________________________\n",
      "activation_56 (Activation)      (None, 12, 12, 160)  0           batch_normalization_56[0][0]     \n",
      "__________________________________________________________________________________________________\n",
      "conv2d_52 (Conv2D)              (None, 12, 12, 160)  179200      activation_51[0][0]              \n",
      "__________________________________________________________________________________________________\n",
      "conv2d_57 (Conv2D)              (None, 12, 12, 160)  179200      activation_56[0][0]              \n",
      "__________________________________________________________________________________________________\n",
      "batch_normalization_52 (BatchNo (None, 12, 12, 160)  480         conv2d_52[0][0]                  \n",
      "__________________________________________________________________________________________________\n",
      "batch_normalization_57 (BatchNo (None, 12, 12, 160)  480         conv2d_57[0][0]                  \n",
      "__________________________________________________________________________________________________\n",
      "activation_52 (Activation)      (None, 12, 12, 160)  0           batch_normalization_52[0][0]     \n",
      "__________________________________________________________________________________________________\n",
      "activation_57 (Activation)      (None, 12, 12, 160)  0           batch_normalization_57[0][0]     \n",
      "__________________________________________________________________________________________________\n",
      "average_pooling2d_5 (AveragePoo (None, 12, 12, 768)  0           mixed5[0][0]                     \n",
      "__________________________________________________________________________________________________\n",
      "conv2d_50 (Conv2D)              (None, 12, 12, 192)  147456      mixed5[0][0]                     \n",
      "__________________________________________________________________________________________________\n",
      "conv2d_53 (Conv2D)              (None, 12, 12, 192)  215040      activation_52[0][0]              \n",
      "__________________________________________________________________________________________________\n",
      "conv2d_58 (Conv2D)              (None, 12, 12, 192)  215040      activation_57[0][0]              \n",
      "__________________________________________________________________________________________________\n",
      "conv2d_59 (Conv2D)              (None, 12, 12, 192)  147456      average_pooling2d_5[0][0]        \n",
      "__________________________________________________________________________________________________\n",
      "batch_normalization_50 (BatchNo (None, 12, 12, 192)  576         conv2d_50[0][0]                  \n",
      "__________________________________________________________________________________________________\n",
      "batch_normalization_53 (BatchNo (None, 12, 12, 192)  576         conv2d_53[0][0]                  \n",
      "__________________________________________________________________________________________________\n",
      "batch_normalization_58 (BatchNo (None, 12, 12, 192)  576         conv2d_58[0][0]                  \n",
      "__________________________________________________________________________________________________\n",
      "batch_normalization_59 (BatchNo (None, 12, 12, 192)  576         conv2d_59[0][0]                  \n",
      "__________________________________________________________________________________________________\n",
      "activation_50 (Activation)      (None, 12, 12, 192)  0           batch_normalization_50[0][0]     \n",
      "__________________________________________________________________________________________________\n",
      "activation_53 (Activation)      (None, 12, 12, 192)  0           batch_normalization_53[0][0]     \n",
      "__________________________________________________________________________________________________\n",
      "activation_58 (Activation)      (None, 12, 12, 192)  0           batch_normalization_58[0][0]     \n",
      "__________________________________________________________________________________________________\n",
      "activation_59 (Activation)      (None, 12, 12, 192)  0           batch_normalization_59[0][0]     \n",
      "__________________________________________________________________________________________________\n",
      "mixed6 (Concatenate)            (None, 12, 12, 768)  0           activation_50[0][0]              \n",
      "                                                                 activation_53[0][0]              \n",
      "                                                                 activation_58[0][0]              \n",
      "                                                                 activation_59[0][0]              \n",
      "__________________________________________________________________________________________________\n",
      "conv2d_64 (Conv2D)              (None, 12, 12, 192)  147456      mixed6[0][0]                     \n",
      "__________________________________________________________________________________________________\n",
      "batch_normalization_64 (BatchNo (None, 12, 12, 192)  576         conv2d_64[0][0]                  \n",
      "__________________________________________________________________________________________________\n",
      "activation_64 (Activation)      (None, 12, 12, 192)  0           batch_normalization_64[0][0]     \n",
      "__________________________________________________________________________________________________\n",
      "conv2d_65 (Conv2D)              (None, 12, 12, 192)  258048      activation_64[0][0]              \n",
      "__________________________________________________________________________________________________\n",
      "batch_normalization_65 (BatchNo (None, 12, 12, 192)  576         conv2d_65[0][0]                  \n",
      "__________________________________________________________________________________________________\n",
      "activation_65 (Activation)      (None, 12, 12, 192)  0           batch_normalization_65[0][0]     \n",
      "__________________________________________________________________________________________________\n",
      "conv2d_61 (Conv2D)              (None, 12, 12, 192)  147456      mixed6[0][0]                     \n",
      "__________________________________________________________________________________________________\n",
      "conv2d_66 (Conv2D)              (None, 12, 12, 192)  258048      activation_65[0][0]              \n",
      "__________________________________________________________________________________________________\n",
      "batch_normalization_61 (BatchNo (None, 12, 12, 192)  576         conv2d_61[0][0]                  \n",
      "__________________________________________________________________________________________________\n",
      "batch_normalization_66 (BatchNo (None, 12, 12, 192)  576         conv2d_66[0][0]                  \n",
      "__________________________________________________________________________________________________\n",
      "activation_61 (Activation)      (None, 12, 12, 192)  0           batch_normalization_61[0][0]     \n",
      "__________________________________________________________________________________________________\n",
      "activation_66 (Activation)      (None, 12, 12, 192)  0           batch_normalization_66[0][0]     \n",
      "__________________________________________________________________________________________________\n",
      "conv2d_62 (Conv2D)              (None, 12, 12, 192)  258048      activation_61[0][0]              \n",
      "__________________________________________________________________________________________________\n",
      "conv2d_67 (Conv2D)              (None, 12, 12, 192)  258048      activation_66[0][0]              \n",
      "__________________________________________________________________________________________________\n",
      "batch_normalization_62 (BatchNo (None, 12, 12, 192)  576         conv2d_62[0][0]                  \n",
      "__________________________________________________________________________________________________\n",
      "batch_normalization_67 (BatchNo (None, 12, 12, 192)  576         conv2d_67[0][0]                  \n",
      "__________________________________________________________________________________________________\n",
      "activation_62 (Activation)      (None, 12, 12, 192)  0           batch_normalization_62[0][0]     \n",
      "__________________________________________________________________________________________________\n",
      "activation_67 (Activation)      (None, 12, 12, 192)  0           batch_normalization_67[0][0]     \n",
      "__________________________________________________________________________________________________\n",
      "average_pooling2d_6 (AveragePoo (None, 12, 12, 768)  0           mixed6[0][0]                     \n",
      "__________________________________________________________________________________________________\n",
      "conv2d_60 (Conv2D)              (None, 12, 12, 192)  147456      mixed6[0][0]                     \n",
      "__________________________________________________________________________________________________\n",
      "conv2d_63 (Conv2D)              (None, 12, 12, 192)  258048      activation_62[0][0]              \n",
      "__________________________________________________________________________________________________\n",
      "conv2d_68 (Conv2D)              (None, 12, 12, 192)  258048      activation_67[0][0]              \n",
      "__________________________________________________________________________________________________\n",
      "conv2d_69 (Conv2D)              (None, 12, 12, 192)  147456      average_pooling2d_6[0][0]        \n",
      "__________________________________________________________________________________________________\n",
      "batch_normalization_60 (BatchNo (None, 12, 12, 192)  576         conv2d_60[0][0]                  \n",
      "__________________________________________________________________________________________________\n",
      "batch_normalization_63 (BatchNo (None, 12, 12, 192)  576         conv2d_63[0][0]                  \n",
      "__________________________________________________________________________________________________\n",
      "batch_normalization_68 (BatchNo (None, 12, 12, 192)  576         conv2d_68[0][0]                  \n",
      "__________________________________________________________________________________________________\n",
      "batch_normalization_69 (BatchNo (None, 12, 12, 192)  576         conv2d_69[0][0]                  \n",
      "__________________________________________________________________________________________________\n",
      "activation_60 (Activation)      (None, 12, 12, 192)  0           batch_normalization_60[0][0]     \n",
      "__________________________________________________________________________________________________\n",
      "activation_63 (Activation)      (None, 12, 12, 192)  0           batch_normalization_63[0][0]     \n",
      "__________________________________________________________________________________________________\n",
      "activation_68 (Activation)      (None, 12, 12, 192)  0           batch_normalization_68[0][0]     \n",
      "__________________________________________________________________________________________________\n",
      "activation_69 (Activation)      (None, 12, 12, 192)  0           batch_normalization_69[0][0]     \n",
      "__________________________________________________________________________________________________\n",
      "mixed7 (Concatenate)            (None, 12, 12, 768)  0           activation_60[0][0]              \n",
      "                                                                 activation_63[0][0]              \n",
      "                                                                 activation_68[0][0]              \n",
      "                                                                 activation_69[0][0]              \n",
      "__________________________________________________________________________________________________\n",
      "conv2d_72 (Conv2D)              (None, 12, 12, 192)  147456      mixed7[0][0]                     \n",
      "__________________________________________________________________________________________________\n",
      "batch_normalization_72 (BatchNo (None, 12, 12, 192)  576         conv2d_72[0][0]                  \n",
      "__________________________________________________________________________________________________\n",
      "activation_72 (Activation)      (None, 12, 12, 192)  0           batch_normalization_72[0][0]     \n",
      "__________________________________________________________________________________________________\n",
      "conv2d_73 (Conv2D)              (None, 12, 12, 192)  258048      activation_72[0][0]              \n",
      "__________________________________________________________________________________________________\n",
      "batch_normalization_73 (BatchNo (None, 12, 12, 192)  576         conv2d_73[0][0]                  \n",
      "__________________________________________________________________________________________________\n",
      "activation_73 (Activation)      (None, 12, 12, 192)  0           batch_normalization_73[0][0]     \n",
      "__________________________________________________________________________________________________\n",
      "conv2d_70 (Conv2D)              (None, 12, 12, 192)  147456      mixed7[0][0]                     \n",
      "__________________________________________________________________________________________________\n",
      "conv2d_74 (Conv2D)              (None, 12, 12, 192)  258048      activation_73[0][0]              \n",
      "__________________________________________________________________________________________________\n",
      "batch_normalization_70 (BatchNo (None, 12, 12, 192)  576         conv2d_70[0][0]                  \n",
      "__________________________________________________________________________________________________\n",
      "batch_normalization_74 (BatchNo (None, 12, 12, 192)  576         conv2d_74[0][0]                  \n",
      "__________________________________________________________________________________________________\n",
      "activation_70 (Activation)      (None, 12, 12, 192)  0           batch_normalization_70[0][0]     \n",
      "__________________________________________________________________________________________________\n",
      "activation_74 (Activation)      (None, 12, 12, 192)  0           batch_normalization_74[0][0]     \n",
      "__________________________________________________________________________________________________\n",
      "conv2d_71 (Conv2D)              (None, 5, 5, 320)    552960      activation_70[0][0]              \n",
      "__________________________________________________________________________________________________\n",
      "conv2d_75 (Conv2D)              (None, 5, 5, 192)    331776      activation_74[0][0]              \n",
      "__________________________________________________________________________________________________\n",
      "batch_normalization_71 (BatchNo (None, 5, 5, 320)    960         conv2d_71[0][0]                  \n",
      "__________________________________________________________________________________________________\n",
      "batch_normalization_75 (BatchNo (None, 5, 5, 192)    576         conv2d_75[0][0]                  \n",
      "__________________________________________________________________________________________________\n",
      "activation_71 (Activation)      (None, 5, 5, 320)    0           batch_normalization_71[0][0]     \n",
      "__________________________________________________________________________________________________\n",
      "activation_75 (Activation)      (None, 5, 5, 192)    0           batch_normalization_75[0][0]     \n",
      "__________________________________________________________________________________________________\n",
      "max_pooling2d_3 (MaxPooling2D)  (None, 5, 5, 768)    0           mixed7[0][0]                     \n",
      "__________________________________________________________________________________________________\n",
      "mixed8 (Concatenate)            (None, 5, 5, 1280)   0           activation_71[0][0]              \n",
      "                                                                 activation_75[0][0]              \n",
      "                                                                 max_pooling2d_3[0][0]            \n",
      "__________________________________________________________________________________________________\n",
      "conv2d_80 (Conv2D)              (None, 5, 5, 448)    573440      mixed8[0][0]                     \n",
      "__________________________________________________________________________________________________\n",
      "batch_normalization_80 (BatchNo (None, 5, 5, 448)    1344        conv2d_80[0][0]                  \n",
      "__________________________________________________________________________________________________\n",
      "activation_80 (Activation)      (None, 5, 5, 448)    0           batch_normalization_80[0][0]     \n",
      "__________________________________________________________________________________________________\n",
      "conv2d_77 (Conv2D)              (None, 5, 5, 384)    491520      mixed8[0][0]                     \n",
      "__________________________________________________________________________________________________\n",
      "conv2d_81 (Conv2D)              (None, 5, 5, 384)    1548288     activation_80[0][0]              \n",
      "__________________________________________________________________________________________________\n",
      "batch_normalization_77 (BatchNo (None, 5, 5, 384)    1152        conv2d_77[0][0]                  \n",
      "__________________________________________________________________________________________________\n",
      "batch_normalization_81 (BatchNo (None, 5, 5, 384)    1152        conv2d_81[0][0]                  \n",
      "__________________________________________________________________________________________________\n",
      "activation_77 (Activation)      (None, 5, 5, 384)    0           batch_normalization_77[0][0]     \n",
      "__________________________________________________________________________________________________\n",
      "activation_81 (Activation)      (None, 5, 5, 384)    0           batch_normalization_81[0][0]     \n",
      "__________________________________________________________________________________________________\n",
      "conv2d_78 (Conv2D)              (None, 5, 5, 384)    442368      activation_77[0][0]              \n",
      "__________________________________________________________________________________________________\n",
      "conv2d_79 (Conv2D)              (None, 5, 5, 384)    442368      activation_77[0][0]              \n",
      "__________________________________________________________________________________________________\n",
      "conv2d_82 (Conv2D)              (None, 5, 5, 384)    442368      activation_81[0][0]              \n",
      "__________________________________________________________________________________________________\n",
      "conv2d_83 (Conv2D)              (None, 5, 5, 384)    442368      activation_81[0][0]              \n",
      "__________________________________________________________________________________________________\n",
      "average_pooling2d_7 (AveragePoo (None, 5, 5, 1280)   0           mixed8[0][0]                     \n",
      "__________________________________________________________________________________________________\n",
      "conv2d_76 (Conv2D)              (None, 5, 5, 320)    409600      mixed8[0][0]                     \n",
      "__________________________________________________________________________________________________\n",
      "batch_normalization_78 (BatchNo (None, 5, 5, 384)    1152        conv2d_78[0][0]                  \n",
      "__________________________________________________________________________________________________\n",
      "batch_normalization_79 (BatchNo (None, 5, 5, 384)    1152        conv2d_79[0][0]                  \n",
      "__________________________________________________________________________________________________\n",
      "batch_normalization_82 (BatchNo (None, 5, 5, 384)    1152        conv2d_82[0][0]                  \n",
      "__________________________________________________________________________________________________\n",
      "batch_normalization_83 (BatchNo (None, 5, 5, 384)    1152        conv2d_83[0][0]                  \n",
      "__________________________________________________________________________________________________\n",
      "conv2d_84 (Conv2D)              (None, 5, 5, 192)    245760      average_pooling2d_7[0][0]        \n",
      "__________________________________________________________________________________________________\n",
      "batch_normalization_76 (BatchNo (None, 5, 5, 320)    960         conv2d_76[0][0]                  \n",
      "__________________________________________________________________________________________________\n",
      "activation_78 (Activation)      (None, 5, 5, 384)    0           batch_normalization_78[0][0]     \n",
      "__________________________________________________________________________________________________\n",
      "activation_79 (Activation)      (None, 5, 5, 384)    0           batch_normalization_79[0][0]     \n",
      "__________________________________________________________________________________________________\n",
      "activation_82 (Activation)      (None, 5, 5, 384)    0           batch_normalization_82[0][0]     \n",
      "__________________________________________________________________________________________________\n",
      "activation_83 (Activation)      (None, 5, 5, 384)    0           batch_normalization_83[0][0]     \n",
      "__________________________________________________________________________________________________\n",
      "batch_normalization_84 (BatchNo (None, 5, 5, 192)    576         conv2d_84[0][0]                  \n",
      "__________________________________________________________________________________________________\n",
      "activation_76 (Activation)      (None, 5, 5, 320)    0           batch_normalization_76[0][0]     \n",
      "__________________________________________________________________________________________________\n",
      "mixed9_0 (Concatenate)          (None, 5, 5, 768)    0           activation_78[0][0]              \n",
      "                                                                 activation_79[0][0]              \n",
      "__________________________________________________________________________________________________\n",
      "concatenate (Concatenate)       (None, 5, 5, 768)    0           activation_82[0][0]              \n",
      "                                                                 activation_83[0][0]              \n",
      "__________________________________________________________________________________________________\n",
      "activation_84 (Activation)      (None, 5, 5, 192)    0           batch_normalization_84[0][0]     \n",
      "__________________________________________________________________________________________________\n",
      "mixed9 (Concatenate)            (None, 5, 5, 2048)   0           activation_76[0][0]              \n",
      "                                                                 mixed9_0[0][0]                   \n",
      "                                                                 concatenate[0][0]                \n",
      "                                                                 activation_84[0][0]              \n",
      "__________________________________________________________________________________________________\n",
      "conv2d_89 (Conv2D)              (None, 5, 5, 448)    917504      mixed9[0][0]                     \n",
      "__________________________________________________________________________________________________\n",
      "batch_normalization_89 (BatchNo (None, 5, 5, 448)    1344        conv2d_89[0][0]                  \n",
      "__________________________________________________________________________________________________\n",
      "activation_89 (Activation)      (None, 5, 5, 448)    0           batch_normalization_89[0][0]     \n",
      "__________________________________________________________________________________________________\n",
      "conv2d_86 (Conv2D)              (None, 5, 5, 384)    786432      mixed9[0][0]                     \n",
      "__________________________________________________________________________________________________\n",
      "conv2d_90 (Conv2D)              (None, 5, 5, 384)    1548288     activation_89[0][0]              \n",
      "__________________________________________________________________________________________________\n",
      "batch_normalization_86 (BatchNo (None, 5, 5, 384)    1152        conv2d_86[0][0]                  \n",
      "__________________________________________________________________________________________________\n",
      "batch_normalization_90 (BatchNo (None, 5, 5, 384)    1152        conv2d_90[0][0]                  \n",
      "__________________________________________________________________________________________________\n",
      "activation_86 (Activation)      (None, 5, 5, 384)    0           batch_normalization_86[0][0]     \n",
      "__________________________________________________________________________________________________\n",
      "activation_90 (Activation)      (None, 5, 5, 384)    0           batch_normalization_90[0][0]     \n",
      "__________________________________________________________________________________________________\n",
      "conv2d_87 (Conv2D)              (None, 5, 5, 384)    442368      activation_86[0][0]              \n",
      "__________________________________________________________________________________________________\n",
      "conv2d_88 (Conv2D)              (None, 5, 5, 384)    442368      activation_86[0][0]              \n",
      "__________________________________________________________________________________________________\n",
      "conv2d_91 (Conv2D)              (None, 5, 5, 384)    442368      activation_90[0][0]              \n",
      "__________________________________________________________________________________________________\n",
      "conv2d_92 (Conv2D)              (None, 5, 5, 384)    442368      activation_90[0][0]              \n",
      "__________________________________________________________________________________________________\n",
      "average_pooling2d_8 (AveragePoo (None, 5, 5, 2048)   0           mixed9[0][0]                     \n",
      "__________________________________________________________________________________________________\n",
      "conv2d_85 (Conv2D)              (None, 5, 5, 320)    655360      mixed9[0][0]                     \n",
      "__________________________________________________________________________________________________\n",
      "batch_normalization_87 (BatchNo (None, 5, 5, 384)    1152        conv2d_87[0][0]                  \n",
      "__________________________________________________________________________________________________\n",
      "batch_normalization_88 (BatchNo (None, 5, 5, 384)    1152        conv2d_88[0][0]                  \n",
      "__________________________________________________________________________________________________\n",
      "batch_normalization_91 (BatchNo (None, 5, 5, 384)    1152        conv2d_91[0][0]                  \n",
      "__________________________________________________________________________________________________\n",
      "batch_normalization_92 (BatchNo (None, 5, 5, 384)    1152        conv2d_92[0][0]                  \n",
      "__________________________________________________________________________________________________\n",
      "conv2d_93 (Conv2D)              (None, 5, 5, 192)    393216      average_pooling2d_8[0][0]        \n",
      "__________________________________________________________________________________________________\n",
      "batch_normalization_85 (BatchNo (None, 5, 5, 320)    960         conv2d_85[0][0]                  \n",
      "__________________________________________________________________________________________________\n",
      "activation_87 (Activation)      (None, 5, 5, 384)    0           batch_normalization_87[0][0]     \n",
      "__________________________________________________________________________________________________\n",
      "activation_88 (Activation)      (None, 5, 5, 384)    0           batch_normalization_88[0][0]     \n",
      "__________________________________________________________________________________________________\n",
      "activation_91 (Activation)      (None, 5, 5, 384)    0           batch_normalization_91[0][0]     \n",
      "__________________________________________________________________________________________________\n",
      "activation_92 (Activation)      (None, 5, 5, 384)    0           batch_normalization_92[0][0]     \n",
      "__________________________________________________________________________________________________\n",
      "batch_normalization_93 (BatchNo (None, 5, 5, 192)    576         conv2d_93[0][0]                  \n",
      "__________________________________________________________________________________________________\n",
      "activation_85 (Activation)      (None, 5, 5, 320)    0           batch_normalization_85[0][0]     \n",
      "__________________________________________________________________________________________________\n",
      "mixed9_1 (Concatenate)          (None, 5, 5, 768)    0           activation_87[0][0]              \n",
      "                                                                 activation_88[0][0]              \n",
      "__________________________________________________________________________________________________\n",
      "concatenate_1 (Concatenate)     (None, 5, 5, 768)    0           activation_91[0][0]              \n",
      "                                                                 activation_92[0][0]              \n",
      "__________________________________________________________________________________________________\n",
      "activation_93 (Activation)      (None, 5, 5, 192)    0           batch_normalization_93[0][0]     \n",
      "__________________________________________________________________________________________________\n",
      "mixed10 (Concatenate)           (None, 5, 5, 2048)   0           activation_85[0][0]              \n",
      "                                                                 mixed9_1[0][0]                   \n",
      "                                                                 concatenate_1[0][0]              \n",
      "                                                                 activation_93[0][0]              \n",
      "==================================================================================================\n",
      "Total params: 21,802,784\n",
      "Trainable params: 0\n",
      "Non-trainable params: 21,802,784\n",
      "__________________________________________________________________________________________________\n"
     ]
    }
   ],
   "source": [
    "base_model.summary()"
   ]
  },
  {
   "cell_type": "code",
   "execution_count": 33,
   "metadata": {
    "colab": {},
    "colab_type": "code",
    "id": "PijVHLI403WU"
   },
   "outputs": [],
   "source": [
    "model = tf.keras.Sequential([\n",
    "                          base_model,\n",
    "                          keras.layers.GlobalAveragePooling2D(),\n",
    "                          keras.layers.Dense(2, activation='sigmoid')])"
   ]
  },
  {
   "cell_type": "code",
   "execution_count": 34,
   "metadata": {
    "colab": {
     "base_uri": "https://localhost:8080/",
     "height": 252
    },
    "colab_type": "code",
    "id": "ClaB6WYlZiXy",
    "outputId": "83cfc6b9-a568-4ed3-c06a-0cb5064915c9"
   },
   "outputs": [
    {
     "name": "stdout",
     "output_type": "stream",
     "text": [
      "Model: \"sequential\"\n",
      "_________________________________________________________________\n",
      "Layer (type)                 Output Shape              Param #   \n",
      "=================================================================\n",
      "inception_v3 (Model)         (None, 5, 5, 2048)        21802784  \n",
      "_________________________________________________________________\n",
      "global_average_pooling2d (Gl (None, 2048)              0         \n",
      "_________________________________________________________________\n",
      "dense (Dense)                (None, 2)                 4098      \n",
      "=================================================================\n",
      "Total params: 21,806,882\n",
      "Trainable params: 4,098\n",
      "Non-trainable params: 21,802,784\n",
      "_________________________________________________________________\n"
     ]
    }
   ],
   "source": [
    "model.summary()"
   ]
  },
  {
   "cell_type": "code",
   "execution_count": 33,
   "metadata": {
    "colab": {
     "base_uri": "https://localhost:8080/",
     "height": 34
    },
    "colab_type": "code",
    "id": "76eGwgrx57_1",
    "outputId": "ad3a8145-e1fa-45d4-cc7d-8947f9c3df55"
   },
   "outputs": [
    {
     "name": "stdout",
     "output_type": "stream",
     "text": [
      "WARNING:tensorflow:From /home/ec2-user/anaconda3/envs/tensorflow_p36/lib/python3.6/site-packages/tensorflow_core/python/ops/nn_impl.py:183: where (from tensorflow.python.ops.array_ops) is deprecated and will be removed in a future version.\n",
      "Instructions for updating:\n",
      "Use tf.where in 2.0, which has the same broadcast rule as np.where\n",
      "WARNING:tensorflow:`period` argument is deprecated. Please use `save_freq` to specify the frequency in number of samples seen.\n"
     ]
    }
   ],
   "source": [
    "model.compile(loss=\"binary_crossentropy\", optimizer=\"adam\", metrics=['accuracy']) # binary classification\n",
    "\n",
    "model_file = \"inceptionv3_tl_mt_model-{val_acc:.2f}.h5\"\n",
    "checkpoint = ModelCheckpoint(model_file, monitor=\"val_acc\", verbose=1, save_best_only=True,\n",
    "                             save_weights_only=True, mode=\"max\", period=1) # Checkpoint best validation model\n",
    "stop = EarlyStopping(monitor=\"val_acc\", patience=PATIENCE, mode=\"max\") # Stop early, if the validation error deteriorates\n",
    "reduce_lr = ReduceLROnPlateau(monitor=\"val_acc\", factor=0.2, patience=PATIENCE, min_lr=0.0001, verbose=1, mode=\"max\")\n",
    "\n",
    "time_callback = TimeHistory()"
   ]
  },
  {
   "cell_type": "markdown",
   "metadata": {},
   "source": [
    "# Model Training"
   ]
  },
  {
   "cell_type": "code",
   "execution_count": 34,
   "metadata": {
    "colab": {
     "base_uri": "https://localhost:8080/",
     "height": 709
    },
    "colab_type": "code",
    "id": "lvI2t27s6QTJ",
    "outputId": "6972d4fc-fe53-4abc-b085-7a47b6c9294c"
   },
   "outputs": [
    {
     "name": "stdout",
     "output_type": "stream",
     "text": [
      "Epoch 1/5\n",
      "483/484 [============================>.] - ETA: 3s - loss: 0.4993 - acc: 0.7508Epoch 1/5\n",
      "121/484 [======>.......................] - ETA: 20:39 - loss: 0.5802 - acc: 0.7228\n",
      "Epoch 00001: val_acc improved from -inf to 0.72279, saving model to inceptionv3_tl_mt_model-0.72.h5\n",
      "484/484 [==============================] - 2088s 4s/step - loss: 0.4991 - acc: 0.7510 - val_loss: 0.5802 - val_acc: 0.7228\n",
      "Epoch 2/5\n",
      "483/484 [============================>.] - ETA: 3s - loss: 0.4645 - acc: 0.7762Epoch 1/5\n",
      "121/484 [======>.......................] - ETA: 21:06 - loss: 0.8765 - acc: 0.6852\n",
      "Epoch 00002: val_acc did not improve from 0.72279\n",
      "484/484 [==============================] - 2092s 4s/step - loss: 0.4645 - acc: 0.7762 - val_loss: 0.8765 - val_acc: 0.6852\n",
      "Epoch 3/5\n",
      "483/484 [============================>.] - ETA: 3s - loss: 0.4538 - acc: 0.7826Epoch 1/5\n",
      "121/484 [======>.......................] - ETA: 21:31 - loss: 0.7490 - acc: 0.6918\n",
      "Epoch 00003: val_acc did not improve from 0.72279\n",
      "\n",
      "Epoch 00003: ReduceLROnPlateau reducing learning rate to 0.00020000000949949026.\n",
      "484/484 [==============================] - 2150s 4s/step - loss: 0.4538 - acc: 0.7824 - val_loss: 0.7490 - val_acc: 0.6918\n"
     ]
    }
   ],
   "source": [
    "history = model.fit_generator(generator=train_dataGen,\n",
    "                    epochs=EPOCHS,\n",
    "                    callbacks=[checkpoint, reduce_lr, stop,time_callback],\n",
    "                    workers=THREADS,\n",
    "                    shuffle=True,\n",
    "                    validation_data = validation_datagen,\n",
    "                    verbose=1)"
   ]
  },
  {
   "cell_type": "code",
   "execution_count": 35,
   "metadata": {},
   "outputs": [
    {
     "name": "stdout",
     "output_type": "stream",
     "text": [
      "[2088.3682038784027, 2092.206821203232, 2149.999055624008]\n"
     ]
    }
   ],
   "source": [
    "print(time_callback.times)"
   ]
  },
  {
   "cell_type": "markdown",
   "metadata": {
    "colab_type": "text",
    "id": "leNI3Spq2Vdn"
   },
   "source": [
    "# **Display accuracy & loss**"
   ]
  },
  {
   "cell_type": "code",
   "execution_count": 36,
   "metadata": {
    "colab": {},
    "colab_type": "code",
    "id": "QsbRQkP3L1zH"
   },
   "outputs": [],
   "source": [
    "acc = history.history['acc']\n",
    "val_acc = history.history['val_acc']\n",
    "\n",
    "loss = history.history['loss']\n",
    "val_loss = history.history['val_loss']"
   ]
  },
  {
   "cell_type": "code",
   "execution_count": 37,
   "metadata": {
    "colab": {
     "base_uri": "https://localhost:8080/",
     "height": 227
    },
    "colab_type": "code",
    "id": "fotnWGGUL9Gq",
    "outputId": "31d1394b-45a3-41bb-f3a4-0716d9597c7a"
   },
   "outputs": [
    {
     "data": {
      "image/png": "[encoded data removed]",
      "text/plain": [
       "<Figure size 360x216 with 1 Axes>"
      ]
     },
     "metadata": {},
     "output_type": "display_data"
    }
   ],
   "source": [
    "plt.figure(figsize=(5, 3))\n",
    "plt.plot(acc, label='Training Accuracy')\n",
    "plt.plot(val_acc, label='Validation Accuracy')\n",
    "plt.legend(loc='lower right')\n",
    "plt.ylabel('Accuracy')\n",
    "plt.ylim([min(plt.ylim()),1])\n",
    "plt.title('Training and Validation Accuracy')\n",
    "plt.show()"
   ]
  },
  {
   "cell_type": "code",
   "execution_count": 38,
   "metadata": {
    "colab": {
     "base_uri": "https://localhost:8080/",
     "height": 227
    },
    "colab_type": "code",
    "id": "dF3sYvcRMXOL",
    "outputId": "54a2a514-fbcb-487d-cb7f-21a8dcd80d8d"
   },
   "outputs": [
    {
     "data": {
      "image/png": "[encoded data removed]",
      "text/plain": [
       "<Figure size 360x216 with 1 Axes>"
      ]
     },
     "metadata": {},
     "output_type": "display_data"
    }
   ],
   "source": [
    "plt.figure(figsize=(5, 3))\n",
    "plt.plot(loss, label='Training Loss')\n",
    "plt.plot(val_loss, label='Validation Loss')\n",
    "plt.legend(loc='lower right')\n",
    "plt.ylabel('Cross Entropy')\n",
    "plt.ylim([0,max(plt.ylim())])\n",
    "plt.title('Training and Validation Loss')\n",
    "plt.show()"
   ]
  },
  {
   "cell_type": "markdown",
   "metadata": {
    "colab_type": "text",
    "id": "FYT1pKcd5PLo"
   },
   "source": [
    "# **Prediction**\n",
    "load weights"
   ]
  },
  {
   "cell_type": "code",
   "execution_count": 35,
   "metadata": {},
   "outputs": [],
   "source": [
    "model.load_weights('/home/ec2-user/SageMaker/inceptionv3_tl_mt_model-0.72.h5') #change if required"
   ]
  },
  {
   "cell_type": "code",
   "execution_count": 36,
   "metadata": {},
   "outputs": [],
   "source": [
    "session = boto3.Session()\n",
    "s3_session = session.client('s3')"
   ]
  },
  {
   "cell_type": "code",
   "execution_count": 37,
   "metadata": {
    "colab": {},
    "colab_type": "code",
    "id": "Jf4lOXYt6Mpw"
   },
   "outputs": [],
   "source": [
    "def getTestImage(filename):\n",
    "  #print('filename ', filename)\n",
    "  f = train_dicom_dir +  filename\n",
    "    \n",
    "  fileobj = s3_session.get_object(Bucket=root_path,  Key=f )\n",
    "  dicom_data = fileobj['Body'].read()\n",
    "  dicom_bytes = DicomBytesIO(dicom_data)\n",
    "  c_dicom = dcmread(dicom_bytes) \n",
    "            \n",
    "  \n",
    "  image = c_dicom.pixel_array\n",
    "  # If grayscale. Convert to RGB for consistency.\n",
    "  if len(image.shape) != 3 or image.shape[2] != 3: \n",
    "    img = np.stack((image,) * 3, -1)\n",
    " \n",
    "  dim = (IMAGE_SIZE, IMAGE_SIZE)\n",
    "  img = cv2.resize(img, dim, interpolation = cv2.INTER_AREA)\n",
    "            \n",
    "  #print(' File ', f, ' img shape ', img.shape )\n",
    "  img = preprocess_input(np.array(img, dtype=np.float32)) # Convert to float32 array\n",
    "  return img"
   ]
  },
  {
   "cell_type": "code",
   "execution_count": 38,
   "metadata": {
    "colab": {
     "base_uri": "https://localhost:8080/",
     "height": 185
    },
    "colab_type": "code",
    "id": "iaNihTqAgp9k",
    "outputId": "937bc707-a58c-4167-e7b2-46ab3bc2fc4f"
   },
   "outputs": [
    {
     "name": "stdout",
     "output_type": "stream",
     "text": [
      "<class 'pandas.core.frame.DataFrame'>\n",
      "RangeIndex: 3000 entries, 0 to 2999\n",
      "Data columns (total 3 columns):\n",
      "index     3000 non-null int64\n",
      "Images    3000 non-null object\n",
      "Target    3000 non-null int64\n",
      "dtypes: int64(2), object(1)\n",
      "memory usage: 70.4+ KB\n"
     ]
    }
   ],
   "source": [
    "test_set = pd.DataFrame()\n",
    "test_set = training_data_1.sort_values(by ='Images', ascending=False )\n",
    "test_set = test_set.iloc[:3000]\n",
    "test_set.reset_index(inplace= True)\n",
    "test_set.info()"
   ]
  },
  {
   "cell_type": "code",
   "execution_count": 39,
   "metadata": {
    "colab": {},
    "colab_type": "code",
    "id": "7b6s7jom6H2P"
   },
   "outputs": [],
   "source": [
    "def predict_test(test_data_df): \n",
    "\n",
    "      cm_df = pd.DataFrame(columns = ['patientId', 'y_true', 'y_pred']) \n",
    "      #print ('Info ' , test_data_df.info()) \n",
    "      threshold = 0.4\n",
    "\n",
    "      \n",
    "      for ind in test_data_df.index: \n",
    "        f = test_data_df['Images'][ind]\n",
    "        y_true = test_data_df['Target'][ind]\n",
    "        #print ('f ', f , ' y_true ', 'y_true')\n",
    "        img = getTestImage(f)\n",
    "        img = np.expand_dims(img, axis=0) \n",
    "            \n",
    "        results = model.predict(img)\n",
    "        #print('results ', results)\n",
    "        if results[0][0] >= threshold:\n",
    "          y_pred = 1\n",
    "        else:\n",
    "          y_pred = 0\n",
    "        #print ( ' patient ' , f , ' y_true ', y_true , ' y_pred ' , y_pred, ' results ', results )\n",
    "        cm_df = cm_df.append ({'patientId': f, 'y_true' : y_true , 'y_pred' : y_pred}, ignore_index=True)\n",
    "      return cm_df"
   ]
  },
  {
   "cell_type": "code",
   "execution_count": 40,
   "metadata": {
    "colab": {
     "base_uri": "https://localhost:8080/",
     "height": 1000
    },
    "colab_type": "code",
    "id": "Qc5htQscNR0x",
    "outputId": "b8d096d4-ac47-408e-bbfe-786147c382a8"
   },
   "outputs": [],
   "source": [
    "cm_df = predict_test(test_set)"
   ]
  },
  {
   "cell_type": "markdown",
   "metadata": {},
   "source": [
    "# Confusion Matrix"
   ]
  },
  {
   "cell_type": "code",
   "execution_count": 41,
   "metadata": {
    "colab": {
     "base_uri": "https://localhost:8080/",
     "height": 279
    },
    "colab_type": "code",
    "id": "GZ_OJMs16RuA",
    "outputId": "cdb324f6-2686-4e71-e659-9bf10c72e89e"
   },
   "outputs": [
    {
     "data": {
      "image/png": "[encoded data removed]",
      "text/plain": [
       "<Figure size 288x288 with 1 Axes>"
      ]
     },
     "metadata": {},
     "output_type": "display_data"
    }
   ],
   "source": [
    "y_true = cm_df['y_true'].to_list()\n",
    "y_pred = cm_df['y_pred'].to_list()\n",
    "\n",
    "CM = confusion_matrix(y_true, y_pred)\n",
    "\n",
    "fig, ax = plot_confusion_matrix(conf_mat=CM ,  figsize=(4, 4))\n",
    "\n",
    "plt.show()"
   ]
  },
  {
   "cell_type": "markdown",
   "metadata": {},
   "source": [
    "# Metrics"
   ]
  },
  {
   "cell_type": "code",
   "execution_count": 46,
   "metadata": {},
   "outputs": [],
   "source": [
    "from sklearn.metrics import classification_report"
   ]
  },
  {
   "cell_type": "code",
   "execution_count": 47,
   "metadata": {},
   "outputs": [
    {
     "name": "stdout",
     "output_type": "stream",
     "text": [
      "              precision    recall  f1-score   support\n",
      "\n",
      "           0       0.83      0.95      0.89      2365\n",
      "           1       0.60      0.29      0.39       635\n",
      "\n",
      "    accuracy                           0.81      3000\n",
      "   macro avg       0.72      0.62      0.64      3000\n",
      "weighted avg       0.78      0.81      0.78      3000\n",
      "\n"
     ]
    }
   ],
   "source": [
    "print(classification_report(y_true, y_pred, labels=[0,1]))"
   ]
  },
  {
   "cell_type": "code",
   "execution_count": null,
   "metadata": {},
   "outputs": [],
   "source": []
  }
 ],
 "metadata": {
  "colab": {
   "collapsed_sections": [],
   "name": "Capstone_PD_Mobilenet_TL_Fit.ipynb",
   "provenance": []
  },
  "kernelspec": {
   "display_name": "conda_tensorflow_p36",
   "language": "python",
   "name": "conda_tensorflow_p36"
  },
  "language_info": {
   "codemirror_mode": {
    "name": "ipython",
    "version": 3
   },
   "file_extension": ".py",
   "mimetype": "text/x-python",
   "name": "python",
   "nbconvert_exporter": "python",
   "pygments_lexer": "ipython3",
   "version": "3.6.6"
  }
 },
 "nbformat": 4,
 "nbformat_minor": 4
}
